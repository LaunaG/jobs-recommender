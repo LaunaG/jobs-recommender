{
 "cells": [
  {
   "cell_type": "markdown",
   "metadata": {
    "id": "sMJrtsqL1Bga"
   },
   "source": [
    "# Job Recommender System: Data Exploration"
   ]
  },
  {
   "cell_type": "markdown",
   "metadata": {
    "id": "LQHh8cvsfSHK"
   },
   "source": [
    "### **Import Required Libraries**"
   ]
  },
  {
   "cell_type": "code",
   "execution_count": 1,
   "metadata": {
    "id": "1yRAYKrpbaJR"
   },
   "outputs": [],
   "source": [
    "import pandas as pd\n",
    "import numpy as np"
   ]
  },
  {
   "cell_type": "markdown",
   "metadata": {
    "id": "l6nqN9HE1Oer"
   },
   "source": [
    "### **Exploration**"
   ]
  },
  {
   "cell_type": "markdown",
   "metadata": {
    "id": "U4JJrmSVeXKR"
   },
   "source": [
    "**Users**\n",
    "\n",
    "Potential disadvantaged groups to examine:\n",
    "\n",
    "\n",
    "*   Users who have a high-school diploma or less\n",
    "*   Users based in zip codes associated with lower incomes/mobility\n",
    "*   Users whose graduation date would put them in an older age bracket"
   ]
  },
  {
   "cell_type": "markdown",
   "metadata": {
    "id": "_6KdM9wz5JpN"
   },
   "source": [
    "*users.tsv - Holds all users and their metadata*"
   ]
  },
  {
   "cell_type": "code",
   "execution_count": 2,
   "metadata": {
    "colab": {
     "base_uri": "https://localhost:8080/",
     "height": 0
    },
    "id": "Dvru3d3tD04n",
    "outputId": "910bd4a2-726f-4791-bda3-429fdd037951"
   },
   "outputs": [
    {
     "data": {
      "text/html": [
       "<div>\n",
       "<style scoped>\n",
       "    .dataframe tbody tr th:only-of-type {\n",
       "        vertical-align: middle;\n",
       "    }\n",
       "\n",
       "    .dataframe tbody tr th {\n",
       "        vertical-align: top;\n",
       "    }\n",
       "\n",
       "    .dataframe thead th {\n",
       "        text-align: right;\n",
       "    }\n",
       "</style>\n",
       "<table border=\"1\" class=\"dataframe\">\n",
       "  <thead>\n",
       "    <tr style=\"text-align: right;\">\n",
       "      <th></th>\n",
       "      <th>UserID</th>\n",
       "      <th>WindowID</th>\n",
       "      <th>Split</th>\n",
       "      <th>City</th>\n",
       "      <th>State</th>\n",
       "      <th>Country</th>\n",
       "      <th>ZipCode</th>\n",
       "      <th>DegreeType</th>\n",
       "      <th>Major</th>\n",
       "      <th>GraduationDate</th>\n",
       "      <th>WorkHistoryCount</th>\n",
       "      <th>TotalYearsExperience</th>\n",
       "      <th>CurrentlyEmployed</th>\n",
       "      <th>ManagedOthers</th>\n",
       "      <th>ManagedHowMany</th>\n",
       "    </tr>\n",
       "  </thead>\n",
       "  <tbody>\n",
       "    <tr>\n",
       "      <th>0</th>\n",
       "      <td>47</td>\n",
       "      <td>1</td>\n",
       "      <td>Train</td>\n",
       "      <td>Paramount</td>\n",
       "      <td>CA</td>\n",
       "      <td>US</td>\n",
       "      <td>90723</td>\n",
       "      <td>High School</td>\n",
       "      <td>NaN</td>\n",
       "      <td>1999-06-01 00:00:00</td>\n",
       "      <td>3</td>\n",
       "      <td>10.0</td>\n",
       "      <td>Yes</td>\n",
       "      <td>No</td>\n",
       "      <td>0</td>\n",
       "    </tr>\n",
       "    <tr>\n",
       "      <th>1</th>\n",
       "      <td>72</td>\n",
       "      <td>1</td>\n",
       "      <td>Train</td>\n",
       "      <td>La Mesa</td>\n",
       "      <td>CA</td>\n",
       "      <td>US</td>\n",
       "      <td>91941</td>\n",
       "      <td>Master's</td>\n",
       "      <td>Anthropology</td>\n",
       "      <td>2011-01-01 00:00:00</td>\n",
       "      <td>10</td>\n",
       "      <td>8.0</td>\n",
       "      <td>Yes</td>\n",
       "      <td>No</td>\n",
       "      <td>0</td>\n",
       "    </tr>\n",
       "    <tr>\n",
       "      <th>2</th>\n",
       "      <td>80</td>\n",
       "      <td>1</td>\n",
       "      <td>Train</td>\n",
       "      <td>Williamstown</td>\n",
       "      <td>NJ</td>\n",
       "      <td>US</td>\n",
       "      <td>08094</td>\n",
       "      <td>High School</td>\n",
       "      <td>Not Applicable</td>\n",
       "      <td>1985-06-01 00:00:00</td>\n",
       "      <td>5</td>\n",
       "      <td>11.0</td>\n",
       "      <td>Yes</td>\n",
       "      <td>Yes</td>\n",
       "      <td>5</td>\n",
       "    </tr>\n",
       "    <tr>\n",
       "      <th>3</th>\n",
       "      <td>98</td>\n",
       "      <td>1</td>\n",
       "      <td>Train</td>\n",
       "      <td>Astoria</td>\n",
       "      <td>NY</td>\n",
       "      <td>US</td>\n",
       "      <td>11105</td>\n",
       "      <td>Master's</td>\n",
       "      <td>Journalism</td>\n",
       "      <td>2007-05-01 00:00:00</td>\n",
       "      <td>3</td>\n",
       "      <td>3.0</td>\n",
       "      <td>Yes</td>\n",
       "      <td>No</td>\n",
       "      <td>0</td>\n",
       "    </tr>\n",
       "    <tr>\n",
       "      <th>4</th>\n",
       "      <td>123</td>\n",
       "      <td>1</td>\n",
       "      <td>Train</td>\n",
       "      <td>Baton Rouge</td>\n",
       "      <td>LA</td>\n",
       "      <td>US</td>\n",
       "      <td>70808</td>\n",
       "      <td>Bachelor's</td>\n",
       "      <td>Agricultural Business</td>\n",
       "      <td>2011-05-01 00:00:00</td>\n",
       "      <td>1</td>\n",
       "      <td>9.0</td>\n",
       "      <td>Yes</td>\n",
       "      <td>No</td>\n",
       "      <td>0</td>\n",
       "    </tr>\n",
       "  </tbody>\n",
       "</table>\n",
       "</div>"
      ],
      "text/plain": [
       "   UserID  WindowID  Split          City State Country ZipCode   DegreeType  \\\n",
       "0      47         1  Train     Paramount    CA      US   90723  High School   \n",
       "1      72         1  Train       La Mesa    CA      US   91941     Master's   \n",
       "2      80         1  Train  Williamstown    NJ      US   08094  High School   \n",
       "3      98         1  Train       Astoria    NY      US   11105     Master's   \n",
       "4     123         1  Train   Baton Rouge    LA      US   70808   Bachelor's   \n",
       "\n",
       "                   Major       GraduationDate  WorkHistoryCount  \\\n",
       "0                    NaN  1999-06-01 00:00:00                 3   \n",
       "1           Anthropology  2011-01-01 00:00:00                10   \n",
       "2         Not Applicable  1985-06-01 00:00:00                 5   \n",
       "3             Journalism  2007-05-01 00:00:00                 3   \n",
       "4  Agricultural Business  2011-05-01 00:00:00                 1   \n",
       "\n",
       "   TotalYearsExperience CurrentlyEmployed ManagedOthers  ManagedHowMany  \n",
       "0                  10.0               Yes            No               0  \n",
       "1                   8.0               Yes            No               0  \n",
       "2                  11.0               Yes           Yes               5  \n",
       "3                   3.0               Yes            No               0  \n",
       "4                   9.0               Yes            No               0  "
      ]
     },
     "execution_count": 2,
     "metadata": {},
     "output_type": "execute_result"
    }
   ],
   "source": [
    "# File Preview\n",
    "users = pd.read_csv(\"data/users.tsv\", sep=\"\\t\")\n",
    "users.head(5)"
   ]
  },
  {
   "cell_type": "code",
   "execution_count": 3,
   "metadata": {
    "colab": {
     "base_uri": "https://localhost:8080/",
     "height": 0
    },
    "id": "X1ffdStwzNcf",
    "outputId": "8bcbf26d-f278-43c3-ab63-010195ad65d7"
   },
   "outputs": [
    {
     "data": {
      "text/html": [
       "<div>\n",
       "<style scoped>\n",
       "    .dataframe tbody tr th:only-of-type {\n",
       "        vertical-align: middle;\n",
       "    }\n",
       "\n",
       "    .dataframe tbody tr th {\n",
       "        vertical-align: top;\n",
       "    }\n",
       "\n",
       "    .dataframe thead th {\n",
       "        text-align: right;\n",
       "    }\n",
       "</style>\n",
       "<table border=\"1\" class=\"dataframe\">\n",
       "  <thead>\n",
       "    <tr style=\"text-align: right;\">\n",
       "      <th></th>\n",
       "      <th>DegreeType</th>\n",
       "    </tr>\n",
       "  </thead>\n",
       "  <tbody>\n",
       "    <tr>\n",
       "      <th>Bachelor's</th>\n",
       "      <td>104210</td>\n",
       "    </tr>\n",
       "    <tr>\n",
       "      <th>None</th>\n",
       "      <td>100153</td>\n",
       "    </tr>\n",
       "    <tr>\n",
       "      <th>High School</th>\n",
       "      <td>93305</td>\n",
       "    </tr>\n",
       "    <tr>\n",
       "      <th>Associate's</th>\n",
       "      <td>45786</td>\n",
       "    </tr>\n",
       "    <tr>\n",
       "      <th>Master's</th>\n",
       "      <td>35330</td>\n",
       "    </tr>\n",
       "    <tr>\n",
       "      <th>Vocational</th>\n",
       "      <td>6981</td>\n",
       "    </tr>\n",
       "    <tr>\n",
       "      <th>PhD</th>\n",
       "      <td>3943</td>\n",
       "    </tr>\n",
       "  </tbody>\n",
       "</table>\n",
       "</div>"
      ],
      "text/plain": [
       "             DegreeType\n",
       "Bachelor's       104210\n",
       "None             100153\n",
       "High School       93305\n",
       "Associate's       45786\n",
       "Master's          35330\n",
       "Vocational         6981\n",
       "PhD                3943"
      ]
     },
     "execution_count": 3,
     "metadata": {},
     "output_type": "execute_result"
    }
   ],
   "source": [
    "# Degree type counts\n",
    "users[\"DegreeType\"].value_counts().to_frame()"
   ]
  },
  {
   "cell_type": "code",
   "execution_count": 4,
   "metadata": {
    "colab": {
     "base_uri": "https://localhost:8080/"
    },
    "id": "Oo6wKsed-H9N",
    "outputId": "ad40a7be-8c1a-4ef8-d171-63550502afef"
   },
   "outputs": [
    {
     "data": {
      "text/plain": [
       "389708"
      ]
     },
     "execution_count": 4,
     "metadata": {},
     "output_type": "execute_result"
    }
   ],
   "source": [
    "# Total number of users in dataset\n",
    "len(users)"
   ]
  },
  {
   "cell_type": "markdown",
   "metadata": {
    "id": "drQ3xfPu5jG8"
   },
   "source": [
    "*users_history.tsv - Holds users' past job title(s)*"
   ]
  },
  {
   "cell_type": "code",
   "execution_count": 5,
   "metadata": {
    "colab": {
     "base_uri": "https://localhost:8080/",
     "height": 0
    },
    "id": "Lou4tAfWyek3",
    "outputId": "69104c25-6deb-4f5b-9121-f22d0210b89c"
   },
   "outputs": [
    {
     "data": {
      "text/html": [
       "<div>\n",
       "<style scoped>\n",
       "    .dataframe tbody tr th:only-of-type {\n",
       "        vertical-align: middle;\n",
       "    }\n",
       "\n",
       "    .dataframe tbody tr th {\n",
       "        vertical-align: top;\n",
       "    }\n",
       "\n",
       "    .dataframe thead th {\n",
       "        text-align: right;\n",
       "    }\n",
       "</style>\n",
       "<table border=\"1\" class=\"dataframe\">\n",
       "  <thead>\n",
       "    <tr style=\"text-align: right;\">\n",
       "      <th></th>\n",
       "      <th>UserID</th>\n",
       "      <th>WindowID</th>\n",
       "      <th>Split</th>\n",
       "      <th>Sequence</th>\n",
       "      <th>JobTitle</th>\n",
       "    </tr>\n",
       "  </thead>\n",
       "  <tbody>\n",
       "    <tr>\n",
       "      <th>0</th>\n",
       "      <td>47</td>\n",
       "      <td>1</td>\n",
       "      <td>Train</td>\n",
       "      <td>1</td>\n",
       "      <td>National Space Communication Programs-Special ...</td>\n",
       "    </tr>\n",
       "    <tr>\n",
       "      <th>1</th>\n",
       "      <td>47</td>\n",
       "      <td>1</td>\n",
       "      <td>Train</td>\n",
       "      <td>2</td>\n",
       "      <td>Detention Officer</td>\n",
       "    </tr>\n",
       "    <tr>\n",
       "      <th>2</th>\n",
       "      <td>47</td>\n",
       "      <td>1</td>\n",
       "      <td>Train</td>\n",
       "      <td>3</td>\n",
       "      <td>Passenger Screener, TSA</td>\n",
       "    </tr>\n",
       "    <tr>\n",
       "      <th>3</th>\n",
       "      <td>72</td>\n",
       "      <td>1</td>\n",
       "      <td>Train</td>\n",
       "      <td>1</td>\n",
       "      <td>Lecturer, Department of Anthropology</td>\n",
       "    </tr>\n",
       "    <tr>\n",
       "      <th>4</th>\n",
       "      <td>72</td>\n",
       "      <td>1</td>\n",
       "      <td>Train</td>\n",
       "      <td>2</td>\n",
       "      <td>Student Assistant</td>\n",
       "    </tr>\n",
       "  </tbody>\n",
       "</table>\n",
       "</div>"
      ],
      "text/plain": [
       "   UserID  WindowID  Split  Sequence  \\\n",
       "0      47         1  Train         1   \n",
       "1      47         1  Train         2   \n",
       "2      47         1  Train         3   \n",
       "3      72         1  Train         1   \n",
       "4      72         1  Train         2   \n",
       "\n",
       "                                            JobTitle  \n",
       "0  National Space Communication Programs-Special ...  \n",
       "1                                  Detention Officer  \n",
       "2                            Passenger Screener, TSA  \n",
       "3               Lecturer, Department of Anthropology  \n",
       "4                                  Student Assistant  "
      ]
     },
     "execution_count": 5,
     "metadata": {},
     "output_type": "execute_result"
    }
   ],
   "source": [
    "# File preview\n",
    "user_history = pd.read_csv(\"data/user_history.tsv\", sep=\"\\t\")\n",
    "user_history.head(5)"
   ]
  },
  {
   "cell_type": "code",
   "execution_count": 6,
   "metadata": {
    "colab": {
     "base_uri": "https://localhost:8080/"
    },
    "id": "Y-yIaFkIyxrw",
    "outputId": "c2337f6b-5ea7-4f35-d5ab-ea8f22c36c2f"
   },
   "outputs": [
    {
     "data": {
      "text/plain": [
       "['National Space Communication Programs-Special Program Supervisor',\n",
       " 'Detention Officer',\n",
       " 'Passenger Screener, TSA']"
      ]
     },
     "execution_count": 6,
     "metadata": {},
     "output_type": "execute_result"
    }
   ],
   "source": [
    "# Example job titles for a random user\n",
    "list(user_history.query(\"UserID == 47\")[\"JobTitle\"])"
   ]
  },
  {
   "cell_type": "markdown",
   "metadata": {
    "id": "oXGr4F4R-Xe3"
   },
   "source": [
    "**Jobs**\n",
    "\n",
    "*jobs.tsv: Holds the jobs available on CareerBuilder.com during a 13-day window*"
   ]
  },
  {
   "cell_type": "code",
   "execution_count": 7,
   "metadata": {
    "colab": {
     "base_uri": "https://localhost:8080/",
     "height": 0
    },
    "id": "CVCZlpf396bx",
    "outputId": "26af95b8-bbd8-4ffc-bc93-37c69af9f782"
   },
   "outputs": [
    {
     "name": "stderr",
     "output_type": "stream",
     "text": [
      "C:\\Users\\greer\\anaconda3\\envs\\Launa\\lib\\site-packages\\IPython\\core\\interactiveshell.py:3063: DtypeWarning: Columns (8) have mixed types.Specify dtype option on import or set low_memory=False.\n",
      "  interactivity=interactivity, compiler=compiler, result=result)\n"
     ]
    },
    {
     "data": {
      "text/html": [
       "<div>\n",
       "<style scoped>\n",
       "    .dataframe tbody tr th:only-of-type {\n",
       "        vertical-align: middle;\n",
       "    }\n",
       "\n",
       "    .dataframe tbody tr th {\n",
       "        vertical-align: top;\n",
       "    }\n",
       "\n",
       "    .dataframe thead th {\n",
       "        text-align: right;\n",
       "    }\n",
       "</style>\n",
       "<table border=\"1\" class=\"dataframe\">\n",
       "  <thead>\n",
       "    <tr style=\"text-align: right;\">\n",
       "      <th></th>\n",
       "      <th>JobID</th>\n",
       "      <th>WindowID</th>\n",
       "      <th>Title</th>\n",
       "      <th>Description</th>\n",
       "      <th>Requirements</th>\n",
       "      <th>City</th>\n",
       "      <th>State</th>\n",
       "      <th>Country</th>\n",
       "      <th>Zip5</th>\n",
       "      <th>StartDate</th>\n",
       "      <th>EndDate</th>\n",
       "    </tr>\n",
       "  </thead>\n",
       "  <tbody>\n",
       "    <tr>\n",
       "      <th>0</th>\n",
       "      <td>1</td>\n",
       "      <td>1</td>\n",
       "      <td>Security Engineer/Technical Lead</td>\n",
       "      <td>&lt;p&gt;Security Clearance Required:&amp;nbsp; Top Secr...</td>\n",
       "      <td>&lt;p&gt;SKILL SET&lt;/p&gt;\\r&lt;p&gt;&amp;nbsp;&lt;/p&gt;\\r&lt;p&gt;Network Se...</td>\n",
       "      <td>Washington</td>\n",
       "      <td>DC</td>\n",
       "      <td>US</td>\n",
       "      <td>20531</td>\n",
       "      <td>2012-03-07 13:17:01.643</td>\n",
       "      <td>2012-04-06 23:59:59</td>\n",
       "    </tr>\n",
       "    <tr>\n",
       "      <th>1</th>\n",
       "      <td>4</td>\n",
       "      <td>1</td>\n",
       "      <td>SAP Business Analyst / WM</td>\n",
       "      <td>&lt;strong&gt;NO Corp. to Corp resumes&amp;nbsp;are bein...</td>\n",
       "      <td>&lt;p&gt;&lt;b&gt;WHAT YOU NEED: &lt;/b&gt;&lt;/p&gt;\\r&lt;p&gt;Four year co...</td>\n",
       "      <td>Charlotte</td>\n",
       "      <td>NC</td>\n",
       "      <td>US</td>\n",
       "      <td>28217</td>\n",
       "      <td>2012-03-21 02:03:44.137</td>\n",
       "      <td>2012-04-20 23:59:59</td>\n",
       "    </tr>\n",
       "    <tr>\n",
       "      <th>2</th>\n",
       "      <td>7</td>\n",
       "      <td>1</td>\n",
       "      <td>P/T HUMAN RESOURCES ASSISTANT</td>\n",
       "      <td>&lt;b&gt;    &lt;b&gt; P/T HUMAN RESOURCES ASSISTANT&lt;/b&gt; &lt;...</td>\n",
       "      <td>Please refer to the Job Description to view th...</td>\n",
       "      <td>Winter Park</td>\n",
       "      <td>FL</td>\n",
       "      <td>US</td>\n",
       "      <td>32792</td>\n",
       "      <td>2012-03-02 16:36:55.447</td>\n",
       "      <td>2012-04-01 23:59:59</td>\n",
       "    </tr>\n",
       "    <tr>\n",
       "      <th>3</th>\n",
       "      <td>8</td>\n",
       "      <td>1</td>\n",
       "      <td>Route Delivery Drivers</td>\n",
       "      <td>CITY BEVERAGES Come to work for the best in th...</td>\n",
       "      <td>Please refer to the Job Description to view th...</td>\n",
       "      <td>Orlando</td>\n",
       "      <td>FL</td>\n",
       "      <td>US</td>\n",
       "      <td>NaN</td>\n",
       "      <td>2012-03-03 09:01:10.077</td>\n",
       "      <td>2012-04-02 23:59:59</td>\n",
       "    </tr>\n",
       "    <tr>\n",
       "      <th>4</th>\n",
       "      <td>9</td>\n",
       "      <td>1</td>\n",
       "      <td>Housekeeping</td>\n",
       "      <td>I make  sure every part of their day is magica...</td>\n",
       "      <td>Please refer to the Job Description to view th...</td>\n",
       "      <td>Orlando</td>\n",
       "      <td>FL</td>\n",
       "      <td>US</td>\n",
       "      <td>NaN</td>\n",
       "      <td>2012-03-03 09:01:11.88</td>\n",
       "      <td>2012-04-02 23:59:59</td>\n",
       "    </tr>\n",
       "  </tbody>\n",
       "</table>\n",
       "</div>"
      ],
      "text/plain": [
       "   JobID  WindowID                             Title  \\\n",
       "0      1         1  Security Engineer/Technical Lead   \n",
       "1      4         1         SAP Business Analyst / WM   \n",
       "2      7         1     P/T HUMAN RESOURCES ASSISTANT   \n",
       "3      8         1            Route Delivery Drivers   \n",
       "4      9         1                      Housekeeping   \n",
       "\n",
       "                                         Description  \\\n",
       "0  <p>Security Clearance Required:&nbsp; Top Secr...   \n",
       "1  <strong>NO Corp. to Corp resumes&nbsp;are bein...   \n",
       "2  <b>    <b> P/T HUMAN RESOURCES ASSISTANT</b> <...   \n",
       "3  CITY BEVERAGES Come to work for the best in th...   \n",
       "4  I make  sure every part of their day is magica...   \n",
       "\n",
       "                                        Requirements         City State  \\\n",
       "0  <p>SKILL SET</p>\\r<p>&nbsp;</p>\\r<p>Network Se...   Washington    DC   \n",
       "1  <p><b>WHAT YOU NEED: </b></p>\\r<p>Four year co...    Charlotte    NC   \n",
       "2  Please refer to the Job Description to view th...  Winter Park    FL   \n",
       "3  Please refer to the Job Description to view th...      Orlando    FL   \n",
       "4  Please refer to the Job Description to view th...      Orlando    FL   \n",
       "\n",
       "  Country   Zip5                StartDate              EndDate  \n",
       "0      US  20531  2012-03-07 13:17:01.643  2012-04-06 23:59:59  \n",
       "1      US  28217  2012-03-21 02:03:44.137  2012-04-20 23:59:59  \n",
       "2      US  32792  2012-03-02 16:36:55.447  2012-04-01 23:59:59  \n",
       "3      US    NaN  2012-03-03 09:01:10.077  2012-04-02 23:59:59  \n",
       "4      US    NaN   2012-03-03 09:01:11.88  2012-04-02 23:59:59  "
      ]
     },
     "execution_count": 7,
     "metadata": {},
     "output_type": "execute_result"
    }
   ],
   "source": [
    "# File preview for jobs listed in the first of the seven windows\n",
    "# Note: This file has an error in one of its lines that should be corrected\n",
    "jobs1 = pd.read_csv(\"data/jobs1.tsv\", sep=\"\\t\", error_bad_lines=False)\n",
    "jobs1.head(5)"
   ]
  },
  {
   "cell_type": "code",
   "execution_count": 8,
   "metadata": {
    "colab": {
     "base_uri": "https://localhost:8080/"
    },
    "id": "37Df2bEj_bBs",
    "outputId": "cd78e38b-fbe3-4bff-b3a8-9faa93f5427f"
   },
   "outputs": [
    {
     "data": {
      "text/plain": [
       "285150"
      ]
     },
     "execution_count": 8,
     "metadata": {},
     "output_type": "execute_result"
    }
   ],
   "source": [
    "# Number of jobs in first window\n",
    "len(jobs1)"
   ]
  },
  {
   "cell_type": "markdown",
   "metadata": {
    "id": "foSBBtKA8Qfm"
   },
   "source": [
    "**Apps**\n",
    "\n",
    "*apps.tsv: Holds the applications users submitted*"
   ]
  },
  {
   "cell_type": "code",
   "execution_count": 9,
   "metadata": {
    "colab": {
     "base_uri": "https://localhost:8080/",
     "height": 0
    },
    "id": "QDItwkW_8dYQ",
    "outputId": "874d1621-cf8d-4f90-e08d-a0e8aed60517"
   },
   "outputs": [
    {
     "data": {
      "text/html": [
       "<div>\n",
       "<style scoped>\n",
       "    .dataframe tbody tr th:only-of-type {\n",
       "        vertical-align: middle;\n",
       "    }\n",
       "\n",
       "    .dataframe tbody tr th {\n",
       "        vertical-align: top;\n",
       "    }\n",
       "\n",
       "    .dataframe thead th {\n",
       "        text-align: right;\n",
       "    }\n",
       "</style>\n",
       "<table border=\"1\" class=\"dataframe\">\n",
       "  <thead>\n",
       "    <tr style=\"text-align: right;\">\n",
       "      <th></th>\n",
       "      <th>UserID</th>\n",
       "      <th>WindowID</th>\n",
       "      <th>Split</th>\n",
       "      <th>ApplicationDate</th>\n",
       "      <th>JobID</th>\n",
       "    </tr>\n",
       "  </thead>\n",
       "  <tbody>\n",
       "    <tr>\n",
       "      <th>0</th>\n",
       "      <td>47</td>\n",
       "      <td>1</td>\n",
       "      <td>Train</td>\n",
       "      <td>2012-04-04 15:56:23.537</td>\n",
       "      <td>169528</td>\n",
       "    </tr>\n",
       "    <tr>\n",
       "      <th>1</th>\n",
       "      <td>47</td>\n",
       "      <td>1</td>\n",
       "      <td>Train</td>\n",
       "      <td>2012-04-06 01:03:00.003</td>\n",
       "      <td>284009</td>\n",
       "    </tr>\n",
       "    <tr>\n",
       "      <th>2</th>\n",
       "      <td>47</td>\n",
       "      <td>1</td>\n",
       "      <td>Train</td>\n",
       "      <td>2012-04-05 02:40:27.753</td>\n",
       "      <td>2121</td>\n",
       "    </tr>\n",
       "    <tr>\n",
       "      <th>3</th>\n",
       "      <td>47</td>\n",
       "      <td>1</td>\n",
       "      <td>Train</td>\n",
       "      <td>2012-04-05 02:37:02.673</td>\n",
       "      <td>848187</td>\n",
       "    </tr>\n",
       "    <tr>\n",
       "      <th>4</th>\n",
       "      <td>47</td>\n",
       "      <td>1</td>\n",
       "      <td>Train</td>\n",
       "      <td>2012-04-05 22:44:06.653</td>\n",
       "      <td>733748</td>\n",
       "    </tr>\n",
       "  </tbody>\n",
       "</table>\n",
       "</div>"
      ],
      "text/plain": [
       "   UserID  WindowID  Split          ApplicationDate   JobID\n",
       "0      47         1  Train  2012-04-04 15:56:23.537  169528\n",
       "1      47         1  Train  2012-04-06 01:03:00.003  284009\n",
       "2      47         1  Train  2012-04-05 02:40:27.753    2121\n",
       "3      47         1  Train  2012-04-05 02:37:02.673  848187\n",
       "4      47         1  Train  2012-04-05 22:44:06.653  733748"
      ]
     },
     "execution_count": 9,
     "metadata": {},
     "output_type": "execute_result"
    }
   ],
   "source": [
    "# File preview\n",
    "apps = pd.read_csv(\"data/apps.tsv\", sep=\"\\t\")\n",
    "apps.head(5)"
   ]
  },
  {
   "cell_type": "code",
   "execution_count": 10,
   "metadata": {
    "colab": {
     "base_uri": "https://localhost:8080/",
     "height": 0
    },
    "id": "v8-LmoJ-8ltS",
    "outputId": "c859d536-d076-410d-ad73-deb7f3f44cae"
   },
   "outputs": [
    {
     "data": {
      "text/html": [
       "<div>\n",
       "<style scoped>\n",
       "    .dataframe tbody tr th:only-of-type {\n",
       "        vertical-align: middle;\n",
       "    }\n",
       "\n",
       "    .dataframe tbody tr th {\n",
       "        vertical-align: top;\n",
       "    }\n",
       "\n",
       "    .dataframe thead th {\n",
       "        text-align: right;\n",
       "    }\n",
       "</style>\n",
       "<table border=\"1\" class=\"dataframe\">\n",
       "  <thead>\n",
       "    <tr style=\"text-align: right;\">\n",
       "      <th></th>\n",
       "      <th>App Submissions</th>\n",
       "    </tr>\n",
       "  </thead>\n",
       "  <tbody>\n",
       "    <tr>\n",
       "      <th>count</th>\n",
       "      <td>321235.000000</td>\n",
       "    </tr>\n",
       "    <tr>\n",
       "      <th>mean</th>\n",
       "      <td>4.990462</td>\n",
       "    </tr>\n",
       "    <tr>\n",
       "      <th>std</th>\n",
       "      <td>11.418487</td>\n",
       "    </tr>\n",
       "    <tr>\n",
       "      <th>min</th>\n",
       "      <td>1.000000</td>\n",
       "    </tr>\n",
       "    <tr>\n",
       "      <th>25%</th>\n",
       "      <td>1.000000</td>\n",
       "    </tr>\n",
       "    <tr>\n",
       "      <th>50%</th>\n",
       "      <td>2.000000</td>\n",
       "    </tr>\n",
       "    <tr>\n",
       "      <th>75%</th>\n",
       "      <td>5.000000</td>\n",
       "    </tr>\n",
       "    <tr>\n",
       "      <th>max</th>\n",
       "      <td>2473.000000</td>\n",
       "    </tr>\n",
       "  </tbody>\n",
       "</table>\n",
       "</div>"
      ],
      "text/plain": [
       "       App Submissions\n",
       "count    321235.000000\n",
       "mean          4.990462\n",
       "std          11.418487\n",
       "min           1.000000\n",
       "25%           1.000000\n",
       "50%           2.000000\n",
       "75%           5.000000\n",
       "max        2473.000000"
      ]
     },
     "execution_count": 10,
     "metadata": {},
     "output_type": "execute_result"
    }
   ],
   "source": [
    "# Distribution of the number of applications submitted per user\n",
    "apps[\"UserID\"].value_counts().describe().to_frame().rename(columns={\"UserID\": \"App Submissions\"})"
   ]
  },
  {
   "cell_type": "markdown",
   "metadata": {
    "id": "rdfKduQwAJ8L"
   },
   "source": [
    "**Window Dates**\n",
    "\n",
    "*window_dates.tsv: Holds the application window dates*"
   ]
  },
  {
   "cell_type": "code",
   "execution_count": 11,
   "metadata": {
    "colab": {
     "base_uri": "https://localhost:8080/",
     "height": 0
    },
    "id": "sN7tdHu8AS_j",
    "outputId": "40991298-c040-45c2-c83d-e56168d046d0"
   },
   "outputs": [
    {
     "data": {
      "text/html": [
       "<div>\n",
       "<style scoped>\n",
       "    .dataframe tbody tr th:only-of-type {\n",
       "        vertical-align: middle;\n",
       "    }\n",
       "\n",
       "    .dataframe tbody tr th {\n",
       "        vertical-align: top;\n",
       "    }\n",
       "\n",
       "    .dataframe thead th {\n",
       "        text-align: right;\n",
       "    }\n",
       "</style>\n",
       "<table border=\"1\" class=\"dataframe\">\n",
       "  <thead>\n",
       "    <tr style=\"text-align: right;\">\n",
       "      <th></th>\n",
       "      <th>Window</th>\n",
       "      <th>Train Start</th>\n",
       "      <th>Train End / Test Start</th>\n",
       "      <th>Test End</th>\n",
       "    </tr>\n",
       "  </thead>\n",
       "  <tbody>\n",
       "    <tr>\n",
       "      <th>0</th>\n",
       "      <td>1</td>\n",
       "      <td>2012-04-01 00:00:00</td>\n",
       "      <td>2012-04-10 00:00:00</td>\n",
       "      <td>2012-04-14 00:00:00</td>\n",
       "    </tr>\n",
       "    <tr>\n",
       "      <th>1</th>\n",
       "      <td>2</td>\n",
       "      <td>2012-04-14 00:00:00</td>\n",
       "      <td>2012-04-23 00:00:00</td>\n",
       "      <td>2012-04-27 00:00:00</td>\n",
       "    </tr>\n",
       "    <tr>\n",
       "      <th>2</th>\n",
       "      <td>3</td>\n",
       "      <td>2012-04-27 00:00:00</td>\n",
       "      <td>2012-05-06 00:00:00</td>\n",
       "      <td>2012-05-10 00:00:00</td>\n",
       "    </tr>\n",
       "    <tr>\n",
       "      <th>3</th>\n",
       "      <td>4</td>\n",
       "      <td>2012-05-10 00:00:00</td>\n",
       "      <td>2012-05-19 00:00:00</td>\n",
       "      <td>2012-05-23 00:00:00</td>\n",
       "    </tr>\n",
       "    <tr>\n",
       "      <th>4</th>\n",
       "      <td>5</td>\n",
       "      <td>2012-05-23 00:00:00</td>\n",
       "      <td>2012-06-01 00:00:00</td>\n",
       "      <td>2012-06-05 00:00:00</td>\n",
       "    </tr>\n",
       "  </tbody>\n",
       "</table>\n",
       "</div>"
      ],
      "text/plain": [
       "   Window          Train Start Train End / Test Start             Test End\n",
       "0       1  2012-04-01 00:00:00    2012-04-10 00:00:00  2012-04-14 00:00:00\n",
       "1       2  2012-04-14 00:00:00    2012-04-23 00:00:00  2012-04-27 00:00:00\n",
       "2       3  2012-04-27 00:00:00    2012-05-06 00:00:00  2012-05-10 00:00:00\n",
       "3       4  2012-05-10 00:00:00    2012-05-19 00:00:00  2012-05-23 00:00:00\n",
       "4       5  2012-05-23 00:00:00    2012-06-01 00:00:00  2012-06-05 00:00:00"
      ]
     },
     "execution_count": 11,
     "metadata": {},
     "output_type": "execute_result"
    }
   ],
   "source": [
    "# File preview\n",
    "window_dates = pd.read_csv(\"data/window_dates.tsv\", sep=\"\\t\")\n",
    "window_dates.head(5)"
   ]
  }
 ],
 "metadata": {
  "colab": {
   "collapsed_sections": [],
   "name": "CareerBuilder_Data_Exploration.ipynb",
   "provenance": [],
   "toc_visible": true
  },
  "kernelspec": {
   "display_name": "Python 3",
   "language": "python",
   "name": "python3"
  },
  "language_info": {
   "codemirror_mode": {
    "name": "ipython",
    "version": 3
   },
   "file_extension": ".py",
   "mimetype": "text/x-python",
   "name": "python",
   "nbconvert_exporter": "python",
   "pygments_lexer": "ipython3",
   "version": "3.7.7"
  }
 },
 "nbformat": 4,
 "nbformat_minor": 1
}
