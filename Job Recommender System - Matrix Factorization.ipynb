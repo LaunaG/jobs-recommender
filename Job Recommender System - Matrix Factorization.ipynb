{
 "cells": [
  {
   "cell_type": "markdown",
   "metadata": {
    "id": "sMJrtsqL1Bga"
   },
   "source": [
    "# Collaborative Filtering"
   ]
  },
  {
   "cell_type": "markdown",
   "metadata": {
    "id": "LQHh8cvsfSHK"
   },
   "source": [
    "### **Import Required Libraries**"
   ]
  },
  {
   "cell_type": "code",
   "execution_count": 84,
   "metadata": {
    "id": "1yRAYKrpbaJR"
   },
   "outputs": [],
   "source": [
    "import pandas as pd\n",
    "import numpy as np\n",
    "import matplotlib\n",
    "import matplotlib.pylab as plt\n",
    "\n",
    "from sklearn.decomposition import NMF\n",
    "from scipy.sparse import csc_matrix, csr_matrix, coo_matrix\n",
    "from IPython.display import HTML"
   ]
  },
  {
   "cell_type": "markdown",
   "metadata": {
    "id": "LQHh8cvsfSHK"
   },
   "source": [
    "### **Configure Display Settings**"
   ]
  },
  {
   "cell_type": "code",
   "execution_count": 85,
   "metadata": {},
   "outputs": [],
   "source": [
    "%matplotlib notebook"
   ]
  },
  {
   "cell_type": "markdown",
   "metadata": {
    "id": "l6nqN9HE1Oer"
   },
   "source": [
    "### **Import Files**\n",
    "\n",
    "The data is sourced from CareerBuilder.com's [Job Recommendation Challenge](https://www.kaggle.com/c/job-recommendation/data), hosted on Kaggle in 2012."
   ]
  },
  {
   "cell_type": "markdown",
   "metadata": {
    "id": "_6KdM9wz5JpN"
   },
   "source": [
    "**Users**\n",
    "\n",
    "*users.tsv - Holds all users and their metadata*"
   ]
  },
  {
   "cell_type": "code",
   "execution_count": 86,
   "metadata": {
    "colab": {
     "base_uri": "https://localhost:8080/",
     "height": 0
    },
    "id": "Dvru3d3tD04n",
    "outputId": "910bd4a2-726f-4791-bda3-429fdd037951"
   },
   "outputs": [
    {
     "data": {
      "text/html": [
       "<div>\n",
       "<style scoped>\n",
       "    .dataframe tbody tr th:only-of-type {\n",
       "        vertical-align: middle;\n",
       "    }\n",
       "\n",
       "    .dataframe tbody tr th {\n",
       "        vertical-align: top;\n",
       "    }\n",
       "\n",
       "    .dataframe thead th {\n",
       "        text-align: right;\n",
       "    }\n",
       "</style>\n",
       "<table border=\"1\" class=\"dataframe\">\n",
       "  <thead>\n",
       "    <tr style=\"text-align: right;\">\n",
       "      <th></th>\n",
       "      <th>UserID</th>\n",
       "      <th>WindowID</th>\n",
       "      <th>Split</th>\n",
       "      <th>City</th>\n",
       "      <th>State</th>\n",
       "      <th>Country</th>\n",
       "      <th>ZipCode</th>\n",
       "      <th>DegreeType</th>\n",
       "      <th>Major</th>\n",
       "      <th>GraduationDate</th>\n",
       "      <th>WorkHistoryCount</th>\n",
       "      <th>TotalYearsExperience</th>\n",
       "      <th>CurrentlyEmployed</th>\n",
       "      <th>ManagedOthers</th>\n",
       "      <th>ManagedHowMany</th>\n",
       "    </tr>\n",
       "  </thead>\n",
       "  <tbody>\n",
       "    <tr>\n",
       "      <th>0</th>\n",
       "      <td>47</td>\n",
       "      <td>1</td>\n",
       "      <td>Train</td>\n",
       "      <td>Paramount</td>\n",
       "      <td>CA</td>\n",
       "      <td>US</td>\n",
       "      <td>90723</td>\n",
       "      <td>High School</td>\n",
       "      <td>NaN</td>\n",
       "      <td>1999-06-01 00:00:00</td>\n",
       "      <td>3</td>\n",
       "      <td>10.0</td>\n",
       "      <td>Yes</td>\n",
       "      <td>No</td>\n",
       "      <td>0</td>\n",
       "    </tr>\n",
       "    <tr>\n",
       "      <th>1</th>\n",
       "      <td>72</td>\n",
       "      <td>1</td>\n",
       "      <td>Train</td>\n",
       "      <td>La Mesa</td>\n",
       "      <td>CA</td>\n",
       "      <td>US</td>\n",
       "      <td>91941</td>\n",
       "      <td>Master's</td>\n",
       "      <td>Anthropology</td>\n",
       "      <td>2011-01-01 00:00:00</td>\n",
       "      <td>10</td>\n",
       "      <td>8.0</td>\n",
       "      <td>Yes</td>\n",
       "      <td>No</td>\n",
       "      <td>0</td>\n",
       "    </tr>\n",
       "    <tr>\n",
       "      <th>2</th>\n",
       "      <td>80</td>\n",
       "      <td>1</td>\n",
       "      <td>Train</td>\n",
       "      <td>Williamstown</td>\n",
       "      <td>NJ</td>\n",
       "      <td>US</td>\n",
       "      <td>08094</td>\n",
       "      <td>High School</td>\n",
       "      <td>Not Applicable</td>\n",
       "      <td>1985-06-01 00:00:00</td>\n",
       "      <td>5</td>\n",
       "      <td>11.0</td>\n",
       "      <td>Yes</td>\n",
       "      <td>Yes</td>\n",
       "      <td>5</td>\n",
       "    </tr>\n",
       "    <tr>\n",
       "      <th>3</th>\n",
       "      <td>98</td>\n",
       "      <td>1</td>\n",
       "      <td>Train</td>\n",
       "      <td>Astoria</td>\n",
       "      <td>NY</td>\n",
       "      <td>US</td>\n",
       "      <td>11105</td>\n",
       "      <td>Master's</td>\n",
       "      <td>Journalism</td>\n",
       "      <td>2007-05-01 00:00:00</td>\n",
       "      <td>3</td>\n",
       "      <td>3.0</td>\n",
       "      <td>Yes</td>\n",
       "      <td>No</td>\n",
       "      <td>0</td>\n",
       "    </tr>\n",
       "    <tr>\n",
       "      <th>4</th>\n",
       "      <td>123</td>\n",
       "      <td>1</td>\n",
       "      <td>Train</td>\n",
       "      <td>Baton Rouge</td>\n",
       "      <td>LA</td>\n",
       "      <td>US</td>\n",
       "      <td>70808</td>\n",
       "      <td>Bachelor's</td>\n",
       "      <td>Agricultural Business</td>\n",
       "      <td>2011-05-01 00:00:00</td>\n",
       "      <td>1</td>\n",
       "      <td>9.0</td>\n",
       "      <td>Yes</td>\n",
       "      <td>No</td>\n",
       "      <td>0</td>\n",
       "    </tr>\n",
       "  </tbody>\n",
       "</table>\n",
       "</div>"
      ],
      "text/plain": [
       "   UserID  WindowID  Split          City State Country ZipCode   DegreeType  \\\n",
       "0      47         1  Train     Paramount    CA      US   90723  High School   \n",
       "1      72         1  Train       La Mesa    CA      US   91941     Master's   \n",
       "2      80         1  Train  Williamstown    NJ      US   08094  High School   \n",
       "3      98         1  Train       Astoria    NY      US   11105     Master's   \n",
       "4     123         1  Train   Baton Rouge    LA      US   70808   Bachelor's   \n",
       "\n",
       "                   Major       GraduationDate  WorkHistoryCount  \\\n",
       "0                    NaN  1999-06-01 00:00:00                 3   \n",
       "1           Anthropology  2011-01-01 00:00:00                10   \n",
       "2         Not Applicable  1985-06-01 00:00:00                 5   \n",
       "3             Journalism  2007-05-01 00:00:00                 3   \n",
       "4  Agricultural Business  2011-05-01 00:00:00                 1   \n",
       "\n",
       "   TotalYearsExperience CurrentlyEmployed ManagedOthers  ManagedHowMany  \n",
       "0                  10.0               Yes            No               0  \n",
       "1                   8.0               Yes            No               0  \n",
       "2                  11.0               Yes           Yes               5  \n",
       "3                   3.0               Yes            No               0  \n",
       "4                   9.0               Yes            No               0  "
      ]
     },
     "execution_count": 86,
     "metadata": {},
     "output_type": "execute_result"
    }
   ],
   "source": [
    "# File Preview\n",
    "users = pd.read_csv(\"data/users.tsv\", sep=\"\\t\")\n",
    "users.head(5)"
   ]
  },
  {
   "cell_type": "markdown",
   "metadata": {
    "id": "oXGr4F4R-Xe3"
   },
   "source": [
    "**Jobs**\n",
    "\n",
    "*jobs.tsv: Holds the jobs available on CareerBuilder.com during a 13-day window*"
   ]
  },
  {
   "cell_type": "code",
   "execution_count": 87,
   "metadata": {
    "colab": {
     "base_uri": "https://localhost:8080/",
     "height": 0
    },
    "id": "CVCZlpf396bx",
    "outputId": "26af95b8-bbd8-4ffc-bc93-37c69af9f782"
   },
   "outputs": [
    {
     "name": "stderr",
     "output_type": "stream",
     "text": [
      "b'Skipping line 122433: expected 11 fields, saw 12\\n'\n",
      "/usr/lib/python3/dist-packages/IPython/core/interactiveshell.py:3062: DtypeWarning: Columns (8) have mixed types.Specify dtype option on import or set low_memory=False.\n",
      "  has_raised = await self.run_ast_nodes(code_ast.body, cell_name,\n"
     ]
    },
    {
     "data": {
      "text/plain": [
       "285091"
      ]
     },
     "execution_count": 87,
     "metadata": {},
     "output_type": "execute_result"
    }
   ],
   "source": [
    "# File preview for jobs listed in the first of the seven windows\n",
    "jobs1 = pd.read_csv(\"data/jobs1.tsv\", sep=\"\\t\", error_bad_lines=False)\n",
    "jobs1.head(5)\n",
    "\n",
    "len(jobs1)\n",
    "\n"
   ]
  },
  {
   "cell_type": "code",
   "execution_count": 88,
   "metadata": {},
   "outputs": [
    {
     "data": {
      "text/html": [
       "<div>\n",
       "<style scoped>\n",
       "    .dataframe tbody tr th:only-of-type {\n",
       "        vertical-align: middle;\n",
       "    }\n",
       "\n",
       "    .dataframe tbody tr th {\n",
       "        vertical-align: top;\n",
       "    }\n",
       "\n",
       "    .dataframe thead th {\n",
       "        text-align: right;\n",
       "    }\n",
       "</style>\n",
       "<table border=\"1\" class=\"dataframe\">\n",
       "  <thead>\n",
       "    <tr style=\"text-align: right;\">\n",
       "      <th></th>\n",
       "      <th>JobID</th>\n",
       "      <th>WindowID</th>\n",
       "      <th>Title</th>\n",
       "      <th>Description</th>\n",
       "      <th>Requirements</th>\n",
       "      <th>City</th>\n",
       "      <th>State</th>\n",
       "      <th>Country</th>\n",
       "      <th>Zip5</th>\n",
       "      <th>StartDate</th>\n",
       "      <th>EndDate</th>\n",
       "    </tr>\n",
       "  </thead>\n",
       "  <tbody>\n",
       "  </tbody>\n",
       "</table>\n",
       "</div>"
      ],
      "text/plain": [
       "Empty DataFrame\n",
       "Columns: [JobID, WindowID, Title, Description, Requirements, City, State, Country, Zip5, StartDate, EndDate]\n",
       "Index: []"
      ]
     },
     "execution_count": 88,
     "metadata": {},
     "output_type": "execute_result"
    }
   ],
   "source": [
    "jobs1[jobs1[\"JobID\"] == 481587]"
   ]
  },
  {
   "cell_type": "markdown",
   "metadata": {
    "id": "foSBBtKA8Qfm"
   },
   "source": [
    "**Apps**\n",
    "\n",
    "*apps.tsv: Holds the applications users submitted*"
   ]
  },
  {
   "cell_type": "code",
   "execution_count": 89,
   "metadata": {
    "colab": {
     "base_uri": "https://localhost:8080/",
     "height": 0
    },
    "id": "QDItwkW_8dYQ",
    "outputId": "874d1621-cf8d-4f90-e08d-a0e8aed60517"
   },
   "outputs": [
    {
     "data": {
      "text/html": [
       "<div>\n",
       "<style scoped>\n",
       "    .dataframe tbody tr th:only-of-type {\n",
       "        vertical-align: middle;\n",
       "    }\n",
       "\n",
       "    .dataframe tbody tr th {\n",
       "        vertical-align: top;\n",
       "    }\n",
       "\n",
       "    .dataframe thead th {\n",
       "        text-align: right;\n",
       "    }\n",
       "</style>\n",
       "<table border=\"1\" class=\"dataframe\">\n",
       "  <thead>\n",
       "    <tr style=\"text-align: right;\">\n",
       "      <th></th>\n",
       "      <th>UserID</th>\n",
       "      <th>WindowID</th>\n",
       "      <th>Split</th>\n",
       "      <th>ApplicationDate</th>\n",
       "      <th>JobID</th>\n",
       "    </tr>\n",
       "  </thead>\n",
       "  <tbody>\n",
       "    <tr>\n",
       "      <th>0</th>\n",
       "      <td>47</td>\n",
       "      <td>1</td>\n",
       "      <td>Train</td>\n",
       "      <td>2012-04-04 15:56:23.537</td>\n",
       "      <td>169528</td>\n",
       "    </tr>\n",
       "    <tr>\n",
       "      <th>1</th>\n",
       "      <td>47</td>\n",
       "      <td>1</td>\n",
       "      <td>Train</td>\n",
       "      <td>2012-04-06 01:03:00.003</td>\n",
       "      <td>284009</td>\n",
       "    </tr>\n",
       "    <tr>\n",
       "      <th>2</th>\n",
       "      <td>47</td>\n",
       "      <td>1</td>\n",
       "      <td>Train</td>\n",
       "      <td>2012-04-05 02:40:27.753</td>\n",
       "      <td>2121</td>\n",
       "    </tr>\n",
       "    <tr>\n",
       "      <th>3</th>\n",
       "      <td>47</td>\n",
       "      <td>1</td>\n",
       "      <td>Train</td>\n",
       "      <td>2012-04-05 02:37:02.673</td>\n",
       "      <td>848187</td>\n",
       "    </tr>\n",
       "    <tr>\n",
       "      <th>4</th>\n",
       "      <td>47</td>\n",
       "      <td>1</td>\n",
       "      <td>Train</td>\n",
       "      <td>2012-04-05 22:44:06.653</td>\n",
       "      <td>733748</td>\n",
       "    </tr>\n",
       "  </tbody>\n",
       "</table>\n",
       "</div>"
      ],
      "text/plain": [
       "   UserID  WindowID  Split          ApplicationDate   JobID\n",
       "0      47         1  Train  2012-04-04 15:56:23.537  169528\n",
       "1      47         1  Train  2012-04-06 01:03:00.003  284009\n",
       "2      47         1  Train  2012-04-05 02:40:27.753    2121\n",
       "3      47         1  Train  2012-04-05 02:37:02.673  848187\n",
       "4      47         1  Train  2012-04-05 22:44:06.653  733748"
      ]
     },
     "execution_count": 89,
     "metadata": {},
     "output_type": "execute_result"
    }
   ],
   "source": [
    "# File preview\n",
    "apps = pd.read_csv(\"data/apps.tsv\", sep=\"\\t\")\n",
    "apps.head(5)"
   ]
  },
  {
   "cell_type": "code",
   "execution_count": 90,
   "metadata": {},
   "outputs": [],
   "source": [
    "total_jobs = apps[\"JobID\"].value_counts()\n",
    "total_users = apps[\"UserID\"].value_counts()\n",
    "\n",
    "# Filter job and user ID's so that only jobs with more than a given number of applications are retained\n",
    "# This is to reduce sparsity to the maximum acceptable level of 99.5%\n",
    "jobs_filtered = total_jobs[total_jobs > 15].to_frame().reset_index().rename(columns={\"index\": \"JobID\", \n",
    "                                                                                    \"JobID\": \"count\"})\n",
    "users_filtered = total_users[total_users > 15].to_frame().reset_index().rename(columns={\"index\": \"UserID\", \n",
    "                                                                                    \"UserID\": \"count\"})\n",
    "\n",
    "# Filter apps dataset so that only jobs and users that exceed the threshold are included\n",
    "apps = apps[apps[\"JobID\"].isin(jobs_filtered[\"JobID\"]) & apps[\"UserID\"].isin(users_filtered[\"UserID\"])]"
   ]
  },
  {
   "cell_type": "markdown",
   "metadata": {
    "id": "JzQ-2TWs3S7h"
   },
   "source": [
    "### Create Matrix"
   ]
  },
  {
   "cell_type": "markdown",
   "metadata": {},
   "source": [
    "**Filter Data to Window 1 Only**"
   ]
  },
  {
   "cell_type": "code",
   "execution_count": 38,
   "metadata": {},
   "outputs": [
    {
     "name": "stdout",
     "output_type": "stream",
     "text": [
      "The first window had:\n",
      "\n",
      "    - 7,527 open job listings\n",
      "    - 1,848 active users\n",
      "    - 40,646 apps submitted by active users to a subset of those jobs\n"
     ]
    }
   ],
   "source": [
    "# Filter users, jobs, and applications to include only those assigned to first window and then retrieve and sort ids\n",
    "window1_app_ids = apps.query(\"WindowID == 1\")[[\"UserID\", \"JobID\"]]\n",
    "# Identify unique user ID's in filtered apps data\n",
    "window1_user_ids = window1_app_ids[\"UserID\"].sort_values().unique()\n",
    "# Identify unique job ID's in filtered apps data\n",
    "window1_job_ids = np.sort(apps[\"JobID\"].unique())\n",
    "\n",
    "\n",
    "# Make doubly sure that all job IDs in applications dataset match job IDs in jobs dataset\n",
    "window1_app_ids = window1_app_ids[window1_app_ids[\"JobID\"].isin(window1_job_ids)]\n",
    "\n",
    "\n",
    "# Determine data counts\n",
    "window1_num_apps = len(window1_app_ids)\n",
    "window1_num_users = len(window1_user_ids)\n",
    "window1_num_jobs = len(window1_job_ids)\n",
    "print(f'''The first window had:\\n\n",
    "    - {window1_num_jobs:,} open job listings\n",
    "    - {window1_num_users:,} active users\n",
    "    - {window1_num_apps:,} apps submitted by active users to a subset of those jobs''')"
   ]
  },
  {
   "cell_type": "code",
   "execution_count": 39,
   "metadata": {},
   "outputs": [
    {
     "data": {
      "text/html": [
       "<div>\n",
       "<style scoped>\n",
       "    .dataframe tbody tr th:only-of-type {\n",
       "        vertical-align: middle;\n",
       "    }\n",
       "\n",
       "    .dataframe tbody tr th {\n",
       "        vertical-align: top;\n",
       "    }\n",
       "\n",
       "    .dataframe thead th {\n",
       "        text-align: right;\n",
       "    }\n",
       "</style>\n",
       "<table border=\"1\" class=\"dataframe\">\n",
       "  <thead>\n",
       "    <tr style=\"text-align: right;\">\n",
       "      <th></th>\n",
       "      <th>UserID</th>\n",
       "      <th>JobID</th>\n",
       "    </tr>\n",
       "  </thead>\n",
       "  <tbody>\n",
       "    <tr>\n",
       "      <th>51</th>\n",
       "      <td>554</td>\n",
       "      <td>196603</td>\n",
       "    </tr>\n",
       "    <tr>\n",
       "      <th>52</th>\n",
       "      <td>554</td>\n",
       "      <td>300053</td>\n",
       "    </tr>\n",
       "    <tr>\n",
       "      <th>53</th>\n",
       "      <td>554</td>\n",
       "      <td>1078274</td>\n",
       "    </tr>\n",
       "    <tr>\n",
       "      <th>54</th>\n",
       "      <td>554</td>\n",
       "      <td>146817</td>\n",
       "    </tr>\n",
       "    <tr>\n",
       "      <th>55</th>\n",
       "      <td>554</td>\n",
       "      <td>654538</td>\n",
       "    </tr>\n",
       "    <tr>\n",
       "      <th>...</th>\n",
       "      <td>...</td>\n",
       "      <td>...</td>\n",
       "    </tr>\n",
       "    <tr>\n",
       "      <th>353465</th>\n",
       "      <td>1471624</td>\n",
       "      <td>465</td>\n",
       "    </tr>\n",
       "    <tr>\n",
       "      <th>353466</th>\n",
       "      <td>1471624</td>\n",
       "      <td>924757</td>\n",
       "    </tr>\n",
       "    <tr>\n",
       "      <th>353468</th>\n",
       "      <td>1471624</td>\n",
       "      <td>282716</td>\n",
       "    </tr>\n",
       "    <tr>\n",
       "      <th>353469</th>\n",
       "      <td>1471624</td>\n",
       "      <td>300527</td>\n",
       "    </tr>\n",
       "    <tr>\n",
       "      <th>353470</th>\n",
       "      <td>1471624</td>\n",
       "      <td>481</td>\n",
       "    </tr>\n",
       "  </tbody>\n",
       "</table>\n",
       "<p>40646 rows × 2 columns</p>\n",
       "</div>"
      ],
      "text/plain": [
       "         UserID    JobID\n",
       "51          554   196603\n",
       "52          554   300053\n",
       "53          554  1078274\n",
       "54          554   146817\n",
       "55          554   654538\n",
       "...         ...      ...\n",
       "353465  1471624      465\n",
       "353466  1471624   924757\n",
       "353468  1471624   282716\n",
       "353469  1471624   300527\n",
       "353470  1471624      481\n",
       "\n",
       "[40646 rows x 2 columns]"
      ]
     },
     "execution_count": 39,
     "metadata": {},
     "output_type": "execute_result"
    }
   ],
   "source": [
    "window1_app_ids"
   ]
  },
  {
   "cell_type": "markdown",
   "metadata": {},
   "source": [
    "**Prepare Row and Column Data for Matrix**"
   ]
  },
  {
   "cell_type": "code",
   "execution_count": 40,
   "metadata": {},
   "outputs": [
    {
     "name": "stdout",
     "output_type": "stream",
     "text": [
      "40646\n",
      "40646\n",
      "40646\n"
     ]
    }
   ],
   "source": [
    "# Create id-index lookups\n",
    "window1_user_lookup = {val: idx for idx, val in enumerate(window1_user_ids.tolist())}\n",
    "window1_job_lookup = {val: idx for idx, val in enumerate(window1_job_ids)}\n",
    "\n",
    "# Initialize values for CSR (\"Compressed Sparse Row\") matrix\n",
    "data = [1] * len(window1_app_ids)\n",
    "rows = window1_app_ids[\"UserID\"].apply(lambda id: window1_user_lookup[id]).tolist()\n",
    "columns = window1_app_ids[\"JobID\"].apply(lambda id: window1_job_lookup[id]).tolist()\n",
    "\n",
    "print(len(rows))\n",
    "print(len(columns))\n",
    "print(len(data))"
   ]
  },
  {
   "cell_type": "markdown",
   "metadata": {},
   "source": [
    "**Create Matrix**"
   ]
  },
  {
   "cell_type": "code",
   "execution_count": 41,
   "metadata": {},
   "outputs": [
    {
     "data": {
      "text/plain": [
       "99.70779076996693"
      ]
     },
     "execution_count": 41,
     "metadata": {},
     "output_type": "execute_result"
    }
   ],
   "source": [
    "# Create CSR matrix\n",
    "# For background on the use of sparse matrices, please see:\n",
    "# https://towardsdatascience.com/why-we-use-sparse-matrices-for-recommender-systems-2ccc9ab698a4\n",
    "\n",
    "csr = csr_matrix(\n",
    "    arg1=(data, (rows, columns)),\n",
    "    shape=(window1_num_users, window1_num_jobs), \n",
    "    dtype=np.int8)\n",
    "\n",
    "# Calculate sparsity - percentage of empty/zero entries in matrix\n",
    "matrix_size = csr.shape[0]*csr.shape[1] # Number of possible interactions in the matrix\n",
    "num_apps = len(csr.nonzero()[0]) # Number of items interacted with\n",
    "sparsity = 100*(1 - (num_apps/matrix_size))\n",
    "sparsity"
   ]
  },
  {
   "cell_type": "markdown",
   "metadata": {},
   "source": [
    "The sparsity of this matrix is 99.5%, the maximum acceptable level."
   ]
  },
  {
   "cell_type": "code",
   "execution_count": 433,
   "metadata": {},
   "outputs": [
    {
     "name": "stdout",
     "output_type": "stream",
     "text": [
      "[0.0, 1.0]\n",
      "(207, 2184)\n"
     ]
    },
    {
     "data": {
      "text/plain": [
       "1.3273809523809523"
      ]
     },
     "execution_count": 433,
     "metadata": {},
     "output_type": "execute_result"
    }
   ],
   "source": []
  },
  {
   "cell_type": "markdown",
   "metadata": {},
   "source": [
    "**Preview Matrix (Scroll Down to See Figure)**"
   ]
  },
  {
   "cell_type": "code",
   "execution_count": 215,
   "metadata": {},
   "outputs": [
    {
     "data": {
      "application/javascript": [
       "/* Put everything inside the global mpl namespace */\n",
       "/* global mpl */\n",
       "window.mpl = {};\n",
       "\n",
       "mpl.get_websocket_type = function () {\n",
       "    if (typeof WebSocket !== 'undefined') {\n",
       "        return WebSocket;\n",
       "    } else if (typeof MozWebSocket !== 'undefined') {\n",
       "        return MozWebSocket;\n",
       "    } else {\n",
       "        alert(\n",
       "            'Your browser does not have WebSocket support. ' +\n",
       "                'Please try Chrome, Safari or Firefox ≥ 6. ' +\n",
       "                'Firefox 4 and 5 are also supported but you ' +\n",
       "                'have to enable WebSockets in about:config.'\n",
       "        );\n",
       "    }\n",
       "};\n",
       "\n",
       "mpl.figure = function (figure_id, websocket, ondownload, parent_element) {\n",
       "    this.id = figure_id;\n",
       "\n",
       "    this.ws = websocket;\n",
       "\n",
       "    this.supports_binary = this.ws.binaryType !== undefined;\n",
       "\n",
       "    if (!this.supports_binary) {\n",
       "        var warnings = document.getElementById('mpl-warnings');\n",
       "        if (warnings) {\n",
       "            warnings.style.display = 'block';\n",
       "            warnings.textContent =\n",
       "                'This browser does not support binary websocket messages. ' +\n",
       "                'Performance may be slow.';\n",
       "        }\n",
       "    }\n",
       "\n",
       "    this.imageObj = new Image();\n",
       "\n",
       "    this.context = undefined;\n",
       "    this.message = undefined;\n",
       "    this.canvas = undefined;\n",
       "    this.rubberband_canvas = undefined;\n",
       "    this.rubberband_context = undefined;\n",
       "    this.format_dropdown = undefined;\n",
       "\n",
       "    this.image_mode = 'full';\n",
       "\n",
       "    this.root = document.createElement('div');\n",
       "    this.root.setAttribute('style', 'display: inline-block');\n",
       "    this._root_extra_style(this.root);\n",
       "\n",
       "    parent_element.appendChild(this.root);\n",
       "\n",
       "    this._init_header(this);\n",
       "    this._init_canvas(this);\n",
       "    this._init_toolbar(this);\n",
       "\n",
       "    var fig = this;\n",
       "\n",
       "    this.waiting = false;\n",
       "\n",
       "    this.ws.onopen = function () {\n",
       "        fig.send_message('supports_binary', { value: fig.supports_binary });\n",
       "        fig.send_message('send_image_mode', {});\n",
       "        if (fig.ratio !== 1) {\n",
       "            fig.send_message('set_dpi_ratio', { dpi_ratio: fig.ratio });\n",
       "        }\n",
       "        fig.send_message('refresh', {});\n",
       "    };\n",
       "\n",
       "    this.imageObj.onload = function () {\n",
       "        if (fig.image_mode === 'full') {\n",
       "            // Full images could contain transparency (where diff images\n",
       "            // almost always do), so we need to clear the canvas so that\n",
       "            // there is no ghosting.\n",
       "            fig.context.clearRect(0, 0, fig.canvas.width, fig.canvas.height);\n",
       "        }\n",
       "        fig.context.drawImage(fig.imageObj, 0, 0);\n",
       "    };\n",
       "\n",
       "    this.imageObj.onunload = function () {\n",
       "        fig.ws.close();\n",
       "    };\n",
       "\n",
       "    this.ws.onmessage = this._make_on_message_function(this);\n",
       "\n",
       "    this.ondownload = ondownload;\n",
       "};\n",
       "\n",
       "mpl.figure.prototype._init_header = function () {\n",
       "    var titlebar = document.createElement('div');\n",
       "    titlebar.classList =\n",
       "        'ui-dialog-titlebar ui-widget-header ui-corner-all ui-helper-clearfix';\n",
       "    var titletext = document.createElement('div');\n",
       "    titletext.classList = 'ui-dialog-title';\n",
       "    titletext.setAttribute(\n",
       "        'style',\n",
       "        'width: 100%; text-align: center; padding: 3px;'\n",
       "    );\n",
       "    titlebar.appendChild(titletext);\n",
       "    this.root.appendChild(titlebar);\n",
       "    this.header = titletext;\n",
       "};\n",
       "\n",
       "mpl.figure.prototype._canvas_extra_style = function (_canvas_div) {};\n",
       "\n",
       "mpl.figure.prototype._root_extra_style = function (_canvas_div) {};\n",
       "\n",
       "mpl.figure.prototype._init_canvas = function () {\n",
       "    var fig = this;\n",
       "\n",
       "    var canvas_div = (this.canvas_div = document.createElement('div'));\n",
       "    canvas_div.setAttribute(\n",
       "        'style',\n",
       "        'border: 1px solid #ddd;' +\n",
       "            'box-sizing: content-box;' +\n",
       "            'clear: both;' +\n",
       "            'min-height: 1px;' +\n",
       "            'min-width: 1px;' +\n",
       "            'outline: 0;' +\n",
       "            'overflow: hidden;' +\n",
       "            'position: relative;' +\n",
       "            'resize: both;'\n",
       "    );\n",
       "\n",
       "    function on_keyboard_event_closure(name) {\n",
       "        return function (event) {\n",
       "            return fig.key_event(event, name);\n",
       "        };\n",
       "    }\n",
       "\n",
       "    canvas_div.addEventListener(\n",
       "        'keydown',\n",
       "        on_keyboard_event_closure('key_press')\n",
       "    );\n",
       "    canvas_div.addEventListener(\n",
       "        'keyup',\n",
       "        on_keyboard_event_closure('key_release')\n",
       "    );\n",
       "\n",
       "    this._canvas_extra_style(canvas_div);\n",
       "    this.root.appendChild(canvas_div);\n",
       "\n",
       "    var canvas = (this.canvas = document.createElement('canvas'));\n",
       "    canvas.classList.add('mpl-canvas');\n",
       "    canvas.setAttribute('style', 'box-sizing: content-box;');\n",
       "\n",
       "    this.context = canvas.getContext('2d');\n",
       "\n",
       "    var backingStore =\n",
       "        this.context.backingStorePixelRatio ||\n",
       "        this.context.webkitBackingStorePixelRatio ||\n",
       "        this.context.mozBackingStorePixelRatio ||\n",
       "        this.context.msBackingStorePixelRatio ||\n",
       "        this.context.oBackingStorePixelRatio ||\n",
       "        this.context.backingStorePixelRatio ||\n",
       "        1;\n",
       "\n",
       "    this.ratio = (window.devicePixelRatio || 1) / backingStore;\n",
       "    if (this.ratio !== 1) {\n",
       "        fig.send_message('set_dpi_ratio', { dpi_ratio: this.ratio });\n",
       "    }\n",
       "\n",
       "    var rubberband_canvas = (this.rubberband_canvas = document.createElement(\n",
       "        'canvas'\n",
       "    ));\n",
       "    rubberband_canvas.setAttribute(\n",
       "        'style',\n",
       "        'box-sizing: content-box; position: absolute; left: 0; top: 0; z-index: 1;'\n",
       "    );\n",
       "\n",
       "    var resizeObserver = new ResizeObserver(function (entries) {\n",
       "        var nentries = entries.length;\n",
       "        for (var i = 0; i < nentries; i++) {\n",
       "            var entry = entries[i];\n",
       "            var width, height;\n",
       "            if (entry.contentBoxSize) {\n",
       "                if (entry.contentBoxSize instanceof Array) {\n",
       "                    // Chrome 84 implements new version of spec.\n",
       "                    width = entry.contentBoxSize[0].inlineSize;\n",
       "                    height = entry.contentBoxSize[0].blockSize;\n",
       "                } else {\n",
       "                    // Firefox implements old version of spec.\n",
       "                    width = entry.contentBoxSize.inlineSize;\n",
       "                    height = entry.contentBoxSize.blockSize;\n",
       "                }\n",
       "            } else {\n",
       "                // Chrome <84 implements even older version of spec.\n",
       "                width = entry.contentRect.width;\n",
       "                height = entry.contentRect.height;\n",
       "            }\n",
       "\n",
       "            // Keep the size of the canvas and rubber band canvas in sync with\n",
       "            // the canvas container.\n",
       "            if (entry.devicePixelContentBoxSize) {\n",
       "                // Chrome 84 implements new version of spec.\n",
       "                canvas.setAttribute(\n",
       "                    'width',\n",
       "                    entry.devicePixelContentBoxSize[0].inlineSize\n",
       "                );\n",
       "                canvas.setAttribute(\n",
       "                    'height',\n",
       "                    entry.devicePixelContentBoxSize[0].blockSize\n",
       "                );\n",
       "            } else {\n",
       "                canvas.setAttribute('width', width * fig.ratio);\n",
       "                canvas.setAttribute('height', height * fig.ratio);\n",
       "            }\n",
       "            canvas.setAttribute(\n",
       "                'style',\n",
       "                'width: ' + width + 'px; height: ' + height + 'px;'\n",
       "            );\n",
       "\n",
       "            rubberband_canvas.setAttribute('width', width);\n",
       "            rubberband_canvas.setAttribute('height', height);\n",
       "\n",
       "            // And update the size in Python. We ignore the initial 0/0 size\n",
       "            // that occurs as the element is placed into the DOM, which should\n",
       "            // otherwise not happen due to the minimum size styling.\n",
       "            if (width != 0 && height != 0) {\n",
       "                fig.request_resize(width, height);\n",
       "            }\n",
       "        }\n",
       "    });\n",
       "    resizeObserver.observe(canvas_div);\n",
       "\n",
       "    function on_mouse_event_closure(name) {\n",
       "        return function (event) {\n",
       "            return fig.mouse_event(event, name);\n",
       "        };\n",
       "    }\n",
       "\n",
       "    rubberband_canvas.addEventListener(\n",
       "        'mousedown',\n",
       "        on_mouse_event_closure('button_press')\n",
       "    );\n",
       "    rubberband_canvas.addEventListener(\n",
       "        'mouseup',\n",
       "        on_mouse_event_closure('button_release')\n",
       "    );\n",
       "    // Throttle sequential mouse events to 1 every 20ms.\n",
       "    rubberband_canvas.addEventListener(\n",
       "        'mousemove',\n",
       "        on_mouse_event_closure('motion_notify')\n",
       "    );\n",
       "\n",
       "    rubberband_canvas.addEventListener(\n",
       "        'mouseenter',\n",
       "        on_mouse_event_closure('figure_enter')\n",
       "    );\n",
       "    rubberband_canvas.addEventListener(\n",
       "        'mouseleave',\n",
       "        on_mouse_event_closure('figure_leave')\n",
       "    );\n",
       "\n",
       "    canvas_div.addEventListener('wheel', function (event) {\n",
       "        if (event.deltaY < 0) {\n",
       "            event.step = 1;\n",
       "        } else {\n",
       "            event.step = -1;\n",
       "        }\n",
       "        on_mouse_event_closure('scroll')(event);\n",
       "    });\n",
       "\n",
       "    canvas_div.appendChild(canvas);\n",
       "    canvas_div.appendChild(rubberband_canvas);\n",
       "\n",
       "    this.rubberband_context = rubberband_canvas.getContext('2d');\n",
       "    this.rubberband_context.strokeStyle = '#000000';\n",
       "\n",
       "    this._resize_canvas = function (width, height, forward) {\n",
       "        if (forward) {\n",
       "            canvas_div.style.width = width + 'px';\n",
       "            canvas_div.style.height = height + 'px';\n",
       "        }\n",
       "    };\n",
       "\n",
       "    // Disable right mouse context menu.\n",
       "    this.rubberband_canvas.addEventListener('contextmenu', function (_e) {\n",
       "        event.preventDefault();\n",
       "        return false;\n",
       "    });\n",
       "\n",
       "    function set_focus() {\n",
       "        canvas.focus();\n",
       "        canvas_div.focus();\n",
       "    }\n",
       "\n",
       "    window.setTimeout(set_focus, 100);\n",
       "};\n",
       "\n",
       "mpl.figure.prototype._init_toolbar = function () {\n",
       "    var fig = this;\n",
       "\n",
       "    var toolbar = document.createElement('div');\n",
       "    toolbar.classList = 'mpl-toolbar';\n",
       "    this.root.appendChild(toolbar);\n",
       "\n",
       "    function on_click_closure(name) {\n",
       "        return function (_event) {\n",
       "            return fig.toolbar_button_onclick(name);\n",
       "        };\n",
       "    }\n",
       "\n",
       "    function on_mouseover_closure(tooltip) {\n",
       "        return function (event) {\n",
       "            if (!event.currentTarget.disabled) {\n",
       "                return fig.toolbar_button_onmouseover(tooltip);\n",
       "            }\n",
       "        };\n",
       "    }\n",
       "\n",
       "    fig.buttons = {};\n",
       "    var buttonGroup = document.createElement('div');\n",
       "    buttonGroup.classList = 'mpl-button-group';\n",
       "    for (var toolbar_ind in mpl.toolbar_items) {\n",
       "        var name = mpl.toolbar_items[toolbar_ind][0];\n",
       "        var tooltip = mpl.toolbar_items[toolbar_ind][1];\n",
       "        var image = mpl.toolbar_items[toolbar_ind][2];\n",
       "        var method_name = mpl.toolbar_items[toolbar_ind][3];\n",
       "\n",
       "        if (!name) {\n",
       "            /* Instead of a spacer, we start a new button group. */\n",
       "            if (buttonGroup.hasChildNodes()) {\n",
       "                toolbar.appendChild(buttonGroup);\n",
       "            }\n",
       "            buttonGroup = document.createElement('div');\n",
       "            buttonGroup.classList = 'mpl-button-group';\n",
       "            continue;\n",
       "        }\n",
       "\n",
       "        var button = (fig.buttons[name] = document.createElement('button'));\n",
       "        button.classList = 'mpl-widget';\n",
       "        button.setAttribute('role', 'button');\n",
       "        button.setAttribute('aria-disabled', 'false');\n",
       "        button.addEventListener('click', on_click_closure(method_name));\n",
       "        button.addEventListener('mouseover', on_mouseover_closure(tooltip));\n",
       "\n",
       "        var icon_img = document.createElement('img');\n",
       "        icon_img.src = '_images/' + image + '.png';\n",
       "        icon_img.srcset = '_images/' + image + '_large.png 2x';\n",
       "        icon_img.alt = tooltip;\n",
       "        button.appendChild(icon_img);\n",
       "\n",
       "        buttonGroup.appendChild(button);\n",
       "    }\n",
       "\n",
       "    if (buttonGroup.hasChildNodes()) {\n",
       "        toolbar.appendChild(buttonGroup);\n",
       "    }\n",
       "\n",
       "    var fmt_picker = document.createElement('select');\n",
       "    fmt_picker.classList = 'mpl-widget';\n",
       "    toolbar.appendChild(fmt_picker);\n",
       "    this.format_dropdown = fmt_picker;\n",
       "\n",
       "    for (var ind in mpl.extensions) {\n",
       "        var fmt = mpl.extensions[ind];\n",
       "        var option = document.createElement('option');\n",
       "        option.selected = fmt === mpl.default_extension;\n",
       "        option.innerHTML = fmt;\n",
       "        fmt_picker.appendChild(option);\n",
       "    }\n",
       "\n",
       "    var status_bar = document.createElement('span');\n",
       "    status_bar.classList = 'mpl-message';\n",
       "    toolbar.appendChild(status_bar);\n",
       "    this.message = status_bar;\n",
       "};\n",
       "\n",
       "mpl.figure.prototype.request_resize = function (x_pixels, y_pixels) {\n",
       "    // Request matplotlib to resize the figure. Matplotlib will then trigger a resize in the client,\n",
       "    // which will in turn request a refresh of the image.\n",
       "    this.send_message('resize', { width: x_pixels, height: y_pixels });\n",
       "};\n",
       "\n",
       "mpl.figure.prototype.send_message = function (type, properties) {\n",
       "    properties['type'] = type;\n",
       "    properties['figure_id'] = this.id;\n",
       "    this.ws.send(JSON.stringify(properties));\n",
       "};\n",
       "\n",
       "mpl.figure.prototype.send_draw_message = function () {\n",
       "    if (!this.waiting) {\n",
       "        this.waiting = true;\n",
       "        this.ws.send(JSON.stringify({ type: 'draw', figure_id: this.id }));\n",
       "    }\n",
       "};\n",
       "\n",
       "mpl.figure.prototype.handle_save = function (fig, _msg) {\n",
       "    var format_dropdown = fig.format_dropdown;\n",
       "    var format = format_dropdown.options[format_dropdown.selectedIndex].value;\n",
       "    fig.ondownload(fig, format);\n",
       "};\n",
       "\n",
       "mpl.figure.prototype.handle_resize = function (fig, msg) {\n",
       "    var size = msg['size'];\n",
       "    if (size[0] !== fig.canvas.width || size[1] !== fig.canvas.height) {\n",
       "        fig._resize_canvas(size[0], size[1], msg['forward']);\n",
       "        fig.send_message('refresh', {});\n",
       "    }\n",
       "};\n",
       "\n",
       "mpl.figure.prototype.handle_rubberband = function (fig, msg) {\n",
       "    var x0 = msg['x0'] / fig.ratio;\n",
       "    var y0 = (fig.canvas.height - msg['y0']) / fig.ratio;\n",
       "    var x1 = msg['x1'] / fig.ratio;\n",
       "    var y1 = (fig.canvas.height - msg['y1']) / fig.ratio;\n",
       "    x0 = Math.floor(x0) + 0.5;\n",
       "    y0 = Math.floor(y0) + 0.5;\n",
       "    x1 = Math.floor(x1) + 0.5;\n",
       "    y1 = Math.floor(y1) + 0.5;\n",
       "    var min_x = Math.min(x0, x1);\n",
       "    var min_y = Math.min(y0, y1);\n",
       "    var width = Math.abs(x1 - x0);\n",
       "    var height = Math.abs(y1 - y0);\n",
       "\n",
       "    fig.rubberband_context.clearRect(\n",
       "        0,\n",
       "        0,\n",
       "        fig.canvas.width / fig.ratio,\n",
       "        fig.canvas.height / fig.ratio\n",
       "    );\n",
       "\n",
       "    fig.rubberband_context.strokeRect(min_x, min_y, width, height);\n",
       "};\n",
       "\n",
       "mpl.figure.prototype.handle_figure_label = function (fig, msg) {\n",
       "    // Updates the figure title.\n",
       "    fig.header.textContent = msg['label'];\n",
       "};\n",
       "\n",
       "mpl.figure.prototype.handle_cursor = function (fig, msg) {\n",
       "    var cursor = msg['cursor'];\n",
       "    switch (cursor) {\n",
       "        case 0:\n",
       "            cursor = 'pointer';\n",
       "            break;\n",
       "        case 1:\n",
       "            cursor = 'default';\n",
       "            break;\n",
       "        case 2:\n",
       "            cursor = 'crosshair';\n",
       "            break;\n",
       "        case 3:\n",
       "            cursor = 'move';\n",
       "            break;\n",
       "    }\n",
       "    fig.rubberband_canvas.style.cursor = cursor;\n",
       "};\n",
       "\n",
       "mpl.figure.prototype.handle_message = function (fig, msg) {\n",
       "    fig.message.textContent = msg['message'];\n",
       "};\n",
       "\n",
       "mpl.figure.prototype.handle_draw = function (fig, _msg) {\n",
       "    // Request the server to send over a new figure.\n",
       "    fig.send_draw_message();\n",
       "};\n",
       "\n",
       "mpl.figure.prototype.handle_image_mode = function (fig, msg) {\n",
       "    fig.image_mode = msg['mode'];\n",
       "};\n",
       "\n",
       "mpl.figure.prototype.handle_history_buttons = function (fig, msg) {\n",
       "    for (var key in msg) {\n",
       "        if (!(key in fig.buttons)) {\n",
       "            continue;\n",
       "        }\n",
       "        fig.buttons[key].disabled = !msg[key];\n",
       "        fig.buttons[key].setAttribute('aria-disabled', !msg[key]);\n",
       "    }\n",
       "};\n",
       "\n",
       "mpl.figure.prototype.handle_navigate_mode = function (fig, msg) {\n",
       "    if (msg['mode'] === 'PAN') {\n",
       "        fig.buttons['Pan'].classList.add('active');\n",
       "        fig.buttons['Zoom'].classList.remove('active');\n",
       "    } else if (msg['mode'] === 'ZOOM') {\n",
       "        fig.buttons['Pan'].classList.remove('active');\n",
       "        fig.buttons['Zoom'].classList.add('active');\n",
       "    } else {\n",
       "        fig.buttons['Pan'].classList.remove('active');\n",
       "        fig.buttons['Zoom'].classList.remove('active');\n",
       "    }\n",
       "};\n",
       "\n",
       "mpl.figure.prototype.updated_canvas_event = function () {\n",
       "    // Called whenever the canvas gets updated.\n",
       "    this.send_message('ack', {});\n",
       "};\n",
       "\n",
       "// A function to construct a web socket function for onmessage handling.\n",
       "// Called in the figure constructor.\n",
       "mpl.figure.prototype._make_on_message_function = function (fig) {\n",
       "    return function socket_on_message(evt) {\n",
       "        if (evt.data instanceof Blob) {\n",
       "            /* FIXME: We get \"Resource interpreted as Image but\n",
       "             * transferred with MIME type text/plain:\" errors on\n",
       "             * Chrome.  But how to set the MIME type?  It doesn't seem\n",
       "             * to be part of the websocket stream */\n",
       "            evt.data.type = 'image/png';\n",
       "\n",
       "            /* Free the memory for the previous frames */\n",
       "            if (fig.imageObj.src) {\n",
       "                (window.URL || window.webkitURL).revokeObjectURL(\n",
       "                    fig.imageObj.src\n",
       "                );\n",
       "            }\n",
       "\n",
       "            fig.imageObj.src = (window.URL || window.webkitURL).createObjectURL(\n",
       "                evt.data\n",
       "            );\n",
       "            fig.updated_canvas_event();\n",
       "            fig.waiting = false;\n",
       "            return;\n",
       "        } else if (\n",
       "            typeof evt.data === 'string' &&\n",
       "            evt.data.slice(0, 21) === 'data:image/png;base64'\n",
       "        ) {\n",
       "            fig.imageObj.src = evt.data;\n",
       "            fig.updated_canvas_event();\n",
       "            fig.waiting = false;\n",
       "            return;\n",
       "        }\n",
       "\n",
       "        var msg = JSON.parse(evt.data);\n",
       "        var msg_type = msg['type'];\n",
       "\n",
       "        // Call the  \"handle_{type}\" callback, which takes\n",
       "        // the figure and JSON message as its only arguments.\n",
       "        try {\n",
       "            var callback = fig['handle_' + msg_type];\n",
       "        } catch (e) {\n",
       "            console.log(\n",
       "                \"No handler for the '\" + msg_type + \"' message type: \",\n",
       "                msg\n",
       "            );\n",
       "            return;\n",
       "        }\n",
       "\n",
       "        if (callback) {\n",
       "            try {\n",
       "                // console.log(\"Handling '\" + msg_type + \"' message: \", msg);\n",
       "                callback(fig, msg);\n",
       "            } catch (e) {\n",
       "                console.log(\n",
       "                    \"Exception inside the 'handler_\" + msg_type + \"' callback:\",\n",
       "                    e,\n",
       "                    e.stack,\n",
       "                    msg\n",
       "                );\n",
       "            }\n",
       "        }\n",
       "    };\n",
       "};\n",
       "\n",
       "// from http://stackoverflow.com/questions/1114465/getting-mouse-location-in-canvas\n",
       "mpl.findpos = function (e) {\n",
       "    //this section is from http://www.quirksmode.org/js/events_properties.html\n",
       "    var targ;\n",
       "    if (!e) {\n",
       "        e = window.event;\n",
       "    }\n",
       "    if (e.target) {\n",
       "        targ = e.target;\n",
       "    } else if (e.srcElement) {\n",
       "        targ = e.srcElement;\n",
       "    }\n",
       "    if (targ.nodeType === 3) {\n",
       "        // defeat Safari bug\n",
       "        targ = targ.parentNode;\n",
       "    }\n",
       "\n",
       "    // pageX,Y are the mouse positions relative to the document\n",
       "    var boundingRect = targ.getBoundingClientRect();\n",
       "    var x = e.pageX - (boundingRect.left + document.body.scrollLeft);\n",
       "    var y = e.pageY - (boundingRect.top + document.body.scrollTop);\n",
       "\n",
       "    return { x: x, y: y };\n",
       "};\n",
       "\n",
       "/*\n",
       " * return a copy of an object with only non-object keys\n",
       " * we need this to avoid circular references\n",
       " * http://stackoverflow.com/a/24161582/3208463\n",
       " */\n",
       "function simpleKeys(original) {\n",
       "    return Object.keys(original).reduce(function (obj, key) {\n",
       "        if (typeof original[key] !== 'object') {\n",
       "            obj[key] = original[key];\n",
       "        }\n",
       "        return obj;\n",
       "    }, {});\n",
       "}\n",
       "\n",
       "mpl.figure.prototype.mouse_event = function (event, name) {\n",
       "    var canvas_pos = mpl.findpos(event);\n",
       "\n",
       "    if (name === 'button_press') {\n",
       "        this.canvas.focus();\n",
       "        this.canvas_div.focus();\n",
       "    }\n",
       "\n",
       "    var x = canvas_pos.x * this.ratio;\n",
       "    var y = canvas_pos.y * this.ratio;\n",
       "\n",
       "    this.send_message(name, {\n",
       "        x: x,\n",
       "        y: y,\n",
       "        button: event.button,\n",
       "        step: event.step,\n",
       "        guiEvent: simpleKeys(event),\n",
       "    });\n",
       "\n",
       "    /* This prevents the web browser from automatically changing to\n",
       "     * the text insertion cursor when the button is pressed.  We want\n",
       "     * to control all of the cursor setting manually through the\n",
       "     * 'cursor' event from matplotlib */\n",
       "    event.preventDefault();\n",
       "    return false;\n",
       "};\n",
       "\n",
       "mpl.figure.prototype._key_event_extra = function (_event, _name) {\n",
       "    // Handle any extra behaviour associated with a key event\n",
       "};\n",
       "\n",
       "mpl.figure.prototype.key_event = function (event, name) {\n",
       "    // Prevent repeat events\n",
       "    if (name === 'key_press') {\n",
       "        if (event.which === this._key) {\n",
       "            return;\n",
       "        } else {\n",
       "            this._key = event.which;\n",
       "        }\n",
       "    }\n",
       "    if (name === 'key_release') {\n",
       "        this._key = null;\n",
       "    }\n",
       "\n",
       "    var value = '';\n",
       "    if (event.ctrlKey && event.which !== 17) {\n",
       "        value += 'ctrl+';\n",
       "    }\n",
       "    if (event.altKey && event.which !== 18) {\n",
       "        value += 'alt+';\n",
       "    }\n",
       "    if (event.shiftKey && event.which !== 16) {\n",
       "        value += 'shift+';\n",
       "    }\n",
       "\n",
       "    value += 'k';\n",
       "    value += event.which.toString();\n",
       "\n",
       "    this._key_event_extra(event, name);\n",
       "\n",
       "    this.send_message(name, { key: value, guiEvent: simpleKeys(event) });\n",
       "    return false;\n",
       "};\n",
       "\n",
       "mpl.figure.prototype.toolbar_button_onclick = function (name) {\n",
       "    if (name === 'download') {\n",
       "        this.handle_save(this, null);\n",
       "    } else {\n",
       "        this.send_message('toolbar_button', { name: name });\n",
       "    }\n",
       "};\n",
       "\n",
       "mpl.figure.prototype.toolbar_button_onmouseover = function (tooltip) {\n",
       "    this.message.textContent = tooltip;\n",
       "};\n",
       "mpl.toolbar_items = [[\"Home\", \"Reset original view\", \"fa fa-home icon-home\", \"home\"], [\"Back\", \"Back to previous view\", \"fa fa-arrow-left icon-arrow-left\", \"back\"], [\"Forward\", \"Forward to next view\", \"fa fa-arrow-right icon-arrow-right\", \"forward\"], [\"\", \"\", \"\", \"\"], [\"Pan\", \"Left button pans, Right button zooms\\nx/y fixes axis, CTRL fixes aspect\", \"fa fa-arrows icon-move\", \"pan\"], [\"Zoom\", \"Zoom to rectangle\\nx/y fixes axis, CTRL fixes aspect\", \"fa fa-square-o icon-check-empty\", \"zoom\"], [\"\", \"\", \"\", \"\"], [\"Download\", \"Download plot\", \"fa fa-floppy-o icon-save\", \"download\"]];\n",
       "\n",
       "mpl.extensions = [\"eps\", \"jpeg\", \"pdf\", \"png\", \"ps\", \"raw\", \"svg\", \"tif\"];\n",
       "\n",
       "mpl.default_extension = \"png\";/* global mpl */\n",
       "\n",
       "var comm_websocket_adapter = function (comm) {\n",
       "    // Create a \"websocket\"-like object which calls the given IPython comm\n",
       "    // object with the appropriate methods. Currently this is a non binary\n",
       "    // socket, so there is still some room for performance tuning.\n",
       "    var ws = {};\n",
       "\n",
       "    ws.close = function () {\n",
       "        comm.close();\n",
       "    };\n",
       "    ws.send = function (m) {\n",
       "        //console.log('sending', m);\n",
       "        comm.send(m);\n",
       "    };\n",
       "    // Register the callback with on_msg.\n",
       "    comm.on_msg(function (msg) {\n",
       "        //console.log('receiving', msg['content']['data'], msg);\n",
       "        // Pass the mpl event to the overridden (by mpl) onmessage function.\n",
       "        ws.onmessage(msg['content']['data']);\n",
       "    });\n",
       "    return ws;\n",
       "};\n",
       "\n",
       "mpl.mpl_figure_comm = function (comm, msg) {\n",
       "    // This is the function which gets called when the mpl process\n",
       "    // starts-up an IPython Comm through the \"matplotlib\" channel.\n",
       "\n",
       "    var id = msg.content.data.id;\n",
       "    // Get hold of the div created by the display call when the Comm\n",
       "    // socket was opened in Python.\n",
       "    var element = document.getElementById(id);\n",
       "    var ws_proxy = comm_websocket_adapter(comm);\n",
       "\n",
       "    function ondownload(figure, _format) {\n",
       "        window.open(figure.canvas.toDataURL());\n",
       "    }\n",
       "\n",
       "    var fig = new mpl.figure(id, ws_proxy, ondownload, element);\n",
       "\n",
       "    // Call onopen now - mpl needs it, as it is assuming we've passed it a real\n",
       "    // web socket which is closed, not our websocket->open comm proxy.\n",
       "    ws_proxy.onopen();\n",
       "\n",
       "    fig.parent_element = element;\n",
       "    fig.cell_info = mpl.find_output_cell(\"<div id='\" + id + \"'></div>\");\n",
       "    if (!fig.cell_info) {\n",
       "        console.error('Failed to find cell for figure', id, fig);\n",
       "        return;\n",
       "    }\n",
       "    fig.cell_info[0].output_area.element.one(\n",
       "        'cleared',\n",
       "        { fig: fig },\n",
       "        fig._remove_fig_handler\n",
       "    );\n",
       "};\n",
       "\n",
       "mpl.figure.prototype.handle_close = function (fig, msg) {\n",
       "    var width = fig.canvas.width / fig.ratio;\n",
       "    fig.cell_info[0].output_area.element.off(\n",
       "        'cleared',\n",
       "        fig._remove_fig_handler\n",
       "    );\n",
       "\n",
       "    // Update the output cell to use the data from the current canvas.\n",
       "    fig.push_to_output();\n",
       "    var dataURL = fig.canvas.toDataURL();\n",
       "    // Re-enable the keyboard manager in IPython - without this line, in FF,\n",
       "    // the notebook keyboard shortcuts fail.\n",
       "    IPython.keyboard_manager.enable();\n",
       "    fig.parent_element.innerHTML =\n",
       "        '<img src=\"' + dataURL + '\" width=\"' + width + '\">';\n",
       "    fig.close_ws(fig, msg);\n",
       "};\n",
       "\n",
       "mpl.figure.prototype.close_ws = function (fig, msg) {\n",
       "    fig.send_message('closing', msg);\n",
       "    // fig.ws.close()\n",
       "};\n",
       "\n",
       "mpl.figure.prototype.push_to_output = function (_remove_interactive) {\n",
       "    // Turn the data on the canvas into data in the output cell.\n",
       "    var width = this.canvas.width / this.ratio;\n",
       "    var dataURL = this.canvas.toDataURL();\n",
       "    this.cell_info[1]['text/html'] =\n",
       "        '<img src=\"' + dataURL + '\" width=\"' + width + '\">';\n",
       "};\n",
       "\n",
       "mpl.figure.prototype.updated_canvas_event = function () {\n",
       "    // Tell IPython that the notebook contents must change.\n",
       "    IPython.notebook.set_dirty(true);\n",
       "    this.send_message('ack', {});\n",
       "    var fig = this;\n",
       "    // Wait a second, then push the new image to the DOM so\n",
       "    // that it is saved nicely (might be nice to debounce this).\n",
       "    setTimeout(function () {\n",
       "        fig.push_to_output();\n",
       "    }, 1000);\n",
       "};\n",
       "\n",
       "mpl.figure.prototype._init_toolbar = function () {\n",
       "    var fig = this;\n",
       "\n",
       "    var toolbar = document.createElement('div');\n",
       "    toolbar.classList = 'btn-toolbar';\n",
       "    this.root.appendChild(toolbar);\n",
       "\n",
       "    function on_click_closure(name) {\n",
       "        return function (_event) {\n",
       "            return fig.toolbar_button_onclick(name);\n",
       "        };\n",
       "    }\n",
       "\n",
       "    function on_mouseover_closure(tooltip) {\n",
       "        return function (event) {\n",
       "            if (!event.currentTarget.disabled) {\n",
       "                return fig.toolbar_button_onmouseover(tooltip);\n",
       "            }\n",
       "        };\n",
       "    }\n",
       "\n",
       "    fig.buttons = {};\n",
       "    var buttonGroup = document.createElement('div');\n",
       "    buttonGroup.classList = 'btn-group';\n",
       "    var button;\n",
       "    for (var toolbar_ind in mpl.toolbar_items) {\n",
       "        var name = mpl.toolbar_items[toolbar_ind][0];\n",
       "        var tooltip = mpl.toolbar_items[toolbar_ind][1];\n",
       "        var image = mpl.toolbar_items[toolbar_ind][2];\n",
       "        var method_name = mpl.toolbar_items[toolbar_ind][3];\n",
       "\n",
       "        if (!name) {\n",
       "            /* Instead of a spacer, we start a new button group. */\n",
       "            if (buttonGroup.hasChildNodes()) {\n",
       "                toolbar.appendChild(buttonGroup);\n",
       "            }\n",
       "            buttonGroup = document.createElement('div');\n",
       "            buttonGroup.classList = 'btn-group';\n",
       "            continue;\n",
       "        }\n",
       "\n",
       "        button = fig.buttons[name] = document.createElement('button');\n",
       "        button.classList = 'btn btn-default';\n",
       "        button.href = '#';\n",
       "        button.title = name;\n",
       "        button.innerHTML = '<i class=\"fa ' + image + ' fa-lg\"></i>';\n",
       "        button.addEventListener('click', on_click_closure(method_name));\n",
       "        button.addEventListener('mouseover', on_mouseover_closure(tooltip));\n",
       "        buttonGroup.appendChild(button);\n",
       "    }\n",
       "\n",
       "    if (buttonGroup.hasChildNodes()) {\n",
       "        toolbar.appendChild(buttonGroup);\n",
       "    }\n",
       "\n",
       "    // Add the status bar.\n",
       "    var status_bar = document.createElement('span');\n",
       "    status_bar.classList = 'mpl-message pull-right';\n",
       "    toolbar.appendChild(status_bar);\n",
       "    this.message = status_bar;\n",
       "\n",
       "    // Add the close button to the window.\n",
       "    var buttongrp = document.createElement('div');\n",
       "    buttongrp.classList = 'btn-group inline pull-right';\n",
       "    button = document.createElement('button');\n",
       "    button.classList = 'btn btn-mini btn-primary';\n",
       "    button.href = '#';\n",
       "    button.title = 'Stop Interaction';\n",
       "    button.innerHTML = '<i class=\"fa fa-power-off icon-remove icon-large\"></i>';\n",
       "    button.addEventListener('click', function (_evt) {\n",
       "        fig.handle_close(fig, {});\n",
       "    });\n",
       "    button.addEventListener(\n",
       "        'mouseover',\n",
       "        on_mouseover_closure('Stop Interaction')\n",
       "    );\n",
       "    buttongrp.appendChild(button);\n",
       "    var titlebar = this.root.querySelector('.ui-dialog-titlebar');\n",
       "    titlebar.insertBefore(buttongrp, titlebar.firstChild);\n",
       "};\n",
       "\n",
       "mpl.figure.prototype._remove_fig_handler = function (event) {\n",
       "    var fig = event.data.fig;\n",
       "    fig.close_ws(fig, {});\n",
       "};\n",
       "\n",
       "mpl.figure.prototype._root_extra_style = function (el) {\n",
       "    el.style.boxSizing = 'content-box'; // override notebook setting of border-box.\n",
       "};\n",
       "\n",
       "mpl.figure.prototype._canvas_extra_style = function (el) {\n",
       "    // this is important to make the div 'focusable\n",
       "    el.setAttribute('tabindex', 0);\n",
       "    // reach out to IPython and tell the keyboard manager to turn it's self\n",
       "    // off when our div gets focus\n",
       "\n",
       "    // location in version 3\n",
       "    if (IPython.notebook.keyboard_manager) {\n",
       "        IPython.notebook.keyboard_manager.register_events(el);\n",
       "    } else {\n",
       "        // location in version 2\n",
       "        IPython.keyboard_manager.register_events(el);\n",
       "    }\n",
       "};\n",
       "\n",
       "mpl.figure.prototype._key_event_extra = function (event, _name) {\n",
       "    var manager = IPython.notebook.keyboard_manager;\n",
       "    if (!manager) {\n",
       "        manager = IPython.keyboard_manager;\n",
       "    }\n",
       "\n",
       "    // Check for shift+enter\n",
       "    if (event.shiftKey && event.which === 13) {\n",
       "        this.canvas_div.blur();\n",
       "        // select the cell after this one\n",
       "        var index = IPython.notebook.find_cell_index(this.cell_info[0]);\n",
       "        IPython.notebook.select(index + 1);\n",
       "    }\n",
       "};\n",
       "\n",
       "mpl.figure.prototype.handle_save = function (fig, _msg) {\n",
       "    fig.ondownload(fig, null);\n",
       "};\n",
       "\n",
       "mpl.find_output_cell = function (html_output) {\n",
       "    // Return the cell and output element which can be found *uniquely* in the notebook.\n",
       "    // Note - this is a bit hacky, but it is done because the \"notebook_saving.Notebook\"\n",
       "    // IPython event is triggered only after the cells have been serialised, which for\n",
       "    // our purposes (turning an active figure into a static one), is too late.\n",
       "    var cells = IPython.notebook.get_cells();\n",
       "    var ncells = cells.length;\n",
       "    for (var i = 0; i < ncells; i++) {\n",
       "        var cell = cells[i];\n",
       "        if (cell.cell_type === 'code') {\n",
       "            for (var j = 0; j < cell.output_area.outputs.length; j++) {\n",
       "                var data = cell.output_area.outputs[j];\n",
       "                if (data.data) {\n",
       "                    // IPython >= 3 moved mimebundle to data attribute of output\n",
       "                    data = data.data;\n",
       "                }\n",
       "                if (data['text/html'] === html_output) {\n",
       "                    return [cell, data, j];\n",
       "                }\n",
       "            }\n",
       "        }\n",
       "    }\n",
       "};\n",
       "\n",
       "// Register the function which deals with the matplotlib target/channel.\n",
       "// The kernel may be null if the page has been refreshed.\n",
       "if (IPython.notebook.kernel !== null) {\n",
       "    IPython.notebook.kernel.comm_manager.register_target(\n",
       "        'matplotlib',\n",
       "        mpl.mpl_figure_comm\n",
       "    );\n",
       "}\n"
      ],
      "text/plain": [
       "<IPython.core.display.Javascript object>"
      ]
     },
     "metadata": {},
     "output_type": "display_data"
    },
    {
     "data": {
      "text/html": [
       "<img src=\"data:image/png;base64,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\" width=\"5000\">"
      ],
      "text/plain": [
       "<IPython.core.display.HTML object>"
      ]
     },
     "metadata": {},
     "output_type": "display_data"
    },
    {
     "data": {
      "text/html": [
       "<h4>CSR Matrix Preview</h4>"
      ],
      "text/plain": [
       "<IPython.core.display.HTML object>"
      ]
     },
     "metadata": {},
     "output_type": "display_data"
    },
    {
     "data": {
      "text/plain": [
       "<matplotlib.lines.Line2D at 0x7f3d7457f160>"
      ]
     },
     "execution_count": 215,
     "metadata": {},
     "output_type": "execute_result"
    }
   ],
   "source": [
    "# Preview first several hundred rows\n",
    "fig = plt.figure(figsize=(50, 50))\n",
    "tick_range = np.arange(0, 8000, 100)\n",
    "plt.yticks(tick_range, list(tick_range))\n",
    "\n",
    "plt.xlabel(\"JobID\")\n",
    "plt.ylabel(\"UserID\")\n",
    "\n",
    "display(HTML(\"<h4>CSR Matrix Preview</h4>\"))\n",
    "plt.spy(csr, markersize = 0.1, origin=\"lower\")\n",
    "\n",
    "# Note: There is a lot of whitespace around the figure, but you can view it by scrolling down.\n",
    "# You can also zoom in by scrolling to the bottom left corner of the screen and selecting the square button."
   ]
  },
  {
   "cell_type": "markdown",
   "metadata": {
    "id": "JzQ-2TWs3S7h"
   },
   "source": [
    "### Apply Non-Negative Matrix Factorization (NMF)"
   ]
  },
  {
   "cell_type": "markdown",
   "metadata": {},
   "source": [
    "**Outstanding Questions**\n",
    "\n",
    "How does the sklearn library's NMF implementation compare to others?\n",
    "- https://scikit-learn.org/stable/modules/generated/sklearn.decomposition.NMF.html\n",
    "- https://github.com/benfred/implicit\n",
    "\n",
    "How should we divide the data to perform cross validation?  Some references:  \n",
    "\n",
    "- https://towardsdatascience.com/how-to-use-cross-validation-for-matrix-completion-2b14103d2c4c\n",
    "- http://alexhwilliams.info/itsneuronalblog/2018/02/26/crossval/\n",
    "- https://jessesw.com/Rec-System/\n",
    "- https://arxiv.org/pdf/0909.3052.pdf\n",
    "- https://stats.stackexchange.com/questions/111205/how-to-choose-an-optimal-number-of-latent-factors-in-non-negative-matrix-factori\n",
    "- https://pdfs.semanticscholar.org/0265/769b0fbf86bb0e700573c80e388bb54c3f7a.pdf\n",
    "\n",
    "What metric should we use for accuracy?\n",
    "\n",
    " - http://fastml.com/evaluating-recommender-systems/\n",
    " - https://stackoverflow.com/questions/7410030/how-to-check-my-item-based-collaborative-filtering-algo-is-correct\n",
    "\n",
    "Fairness Paper:\n",
    "- https://proceedings.neurips.cc/paper/2017/file/e6384711491713d29bc63fc5eeb5ba4f-Paper.pdf\n",
    "\n",
    "Other Helpful Links:\n",
    "\n",
    "General Recommender Systems\n",
    "- https://towardsdatascience.com/recommender-systems-in-practice-cef9033bb23a\n",
    "- https://www.prem-melville.com/publications/recommender-systems-eml2010.pdf\n",
    "- https://realpython.com/build-recommendation-engine-collaborative-filtering/\n",
    "\n",
    "NMF\n",
    "\n",
    "- https://mlexplained.com/2017/12/28/a-practical-introduction-to-nmf-nonnegative-matrix-factorization/\n",
    "- https://medium.com/logicai/non-negative-matrix-factorization-for-recommendation-systems-985ca8d5c16c\n",
    "- http://www.billconnelly.net/?p=534\n",
    "- https://www.slideshare.net/BenjaminBengfort/non-negative-matrix-factorization\n",
    "- https://towardsdatascience.com/topic-modeling-articles-with-nmf-8c6b2a227a45\n",
    "- https://arxiv.org/pdf/1401.5226.pdf"
   ]
  },
  {
   "cell_type": "code",
   "execution_count": 271,
   "metadata": {},
   "outputs": [],
   "source": [
    "def perform_nmf(k):\n",
    "    model = NMF(n_components=k, init='random', random_state=0)\n",
    "    W = model.fit_transform(csr)\n",
    "    H = model.components_\n",
    "    return model.reconstruction_err_"
   ]
  },
  {
   "cell_type": "code",
   "execution_count": null,
   "metadata": {},
   "outputs": [],
   "source": [
    "# Note - Matrix Factorization for k = 2:\n",
    "\n",
    "# CSR Matrix\n",
    "# ------------\n",
    "# csr.shape\n",
    "# (77060, 285155)\n",
    "\n",
    "# User-Related Aspect\n",
    "# ------------\n",
    "# W.shape\n",
    "# (77060, 2)\n",
    "\n",
    "# Job-Related Aspect\n",
    "# ------------\n",
    "# H.shape\n",
    "# (2, 285155)"
   ]
  },
  {
   "cell_type": "markdown",
   "metadata": {},
   "source": [
    "### Cross Validation\n",
    "Train and test split and evaluation metrics are taken from the following blog post mentioned above: https://jessesw.com/Rec-System/."
   ]
  },
  {
   "cell_type": "code",
   "execution_count": 287,
   "metadata": {},
   "outputs": [],
   "source": [
    "def make_train(ratings, pct_test = 0.2, random_seed=None):\n",
    "    '''\n",
    "    This function will take in the original user-item matrix and \"mask\" a percentage of the original ratings where a\n",
    "    user-item interaction has taken place for use as a test set. The test set will contain all of the original ratings, \n",
    "    while the training set replaces the specified percentage of them with a zero in the original ratings matrix. \n",
    "    \n",
    "    parameters: \n",
    "    \n",
    "    ratings - the original ratings matrix from which you want to generate a train/test set. Test is just a complete\n",
    "    copy of the original set. This is in the form of a sparse csr_matrix. \n",
    "    \n",
    "    pct_test - The percentage of user-item interactions where an interaction took place that you want to mask in the \n",
    "    training set for later comparison to the test set, which contains all of the original ratings. \n",
    "    \n",
    "    returns:\n",
    "    \n",
    "    training_set - The altered version of the original data with a certain percentage of the user-item pairs \n",
    "    that originally had interaction set back to zero.\n",
    "    \n",
    "    test_set - A copy of the original ratings matrix, unaltered, so it can be used to see how the rank order \n",
    "    compares with the actual interactions.\n",
    "    \n",
    "    user_inds - From the randomly selected user-item indices, which user rows were altered in the training data.\n",
    "    This will be necessary later when evaluating the performance via AUC.\n",
    "    '''\n",
    "    test_set = ratings.copy() # Make a copy of the original set to be the test set. \n",
    "    test_set[test_set != 0] = 1 # Store the test set as a binary preference matrix\n",
    "    training_set = ratings.copy() # Make a copy of the original data we can alter as our training set. \n",
    "    nonzero_inds = training_set.nonzero() # Find the indices in the ratings data where an interaction exists\n",
    "    nonzero_pairs = list(zip(nonzero_inds[0], nonzero_inds[1])) # Zip these pairs together of user,item index into list\n",
    "    random.seed(random_seed) # Set the random seed for reproducibility - defaults to zero\n",
    "    num_samples = int(np.ceil(pct_test*len(nonzero_pairs))) # Round the number of samples needed to the nearest integer\n",
    "    samples = random.sample(nonzero_pairs, num_samples) # Sample a random number of user-item pairs without replacement\n",
    "    user_inds = [index[0] for index in samples] # Get the user row indices\n",
    "    item_inds = [index[1] for index in samples] # Get the item column indices\n",
    "    training_set[user_inds, item_inds] = 0 # Assign all of the randomly chosen user-item pairs to zero\n",
    "    training_set.eliminate_zeros() # Get rid of zeros in sparse array storage after update to save space\n",
    "    return training_set, test_set, list(set(user_inds)) # Output the unique list of user rows that were altered  \n"
   ]
  },
  {
   "cell_type": "code",
   "execution_count": 259,
   "metadata": {},
   "outputs": [],
   "source": [
    "import random\n",
    "data_train, data_test, data_altered = make_train(csr, pct_test = 0.2)\n",
    "\n",
    "model = NMF(n_components=10, init='random', random_state=0)\n",
    "user_vecs, item_vecs = model.fit_transform(data_train), model.components_\n",
    "#H = model.components_"
   ]
  },
  {
   "cell_type": "code",
   "execution_count": 350,
   "metadata": {},
   "outputs": [
    {
     "data": {
      "text/plain": [
       "matrix([[0, 0, 0, ..., 0, 0, 0]], dtype=int8)"
      ]
     },
     "execution_count": 350,
     "metadata": {},
     "output_type": "execute_result"
    }
   ],
   "source": []
  },
  {
   "cell_type": "code",
   "execution_count": 262,
   "metadata": {},
   "outputs": [],
   "source": [
    "from sklearn import metrics\n",
    "def auc_score(predictions, test):\n",
    "    '''\n",
    "    This simple function will output the area under the curve using sklearn's metrics. \n",
    "    \n",
    "    parameters:\n",
    "    \n",
    "    - predictions: your prediction output\n",
    "    \n",
    "    - test: the actual target result you are comparing to\n",
    "    \n",
    "    returns:\n",
    "    \n",
    "    - AUC (area under the Receiver Operating Characterisic curve)\n",
    "    '''\n",
    "    fpr, tpr, thresholds = metrics.roc_curve(test, predictions)\n",
    "    return metrics.auc(fpr, tpr) "
   ]
  },
  {
   "cell_type": "code",
   "execution_count": 265,
   "metadata": {},
   "outputs": [],
   "source": [
    "def calc_mean_auc(training_set, altered_users, predictions, test_set):\n",
    "    '''\n",
    "    This function will calculate the mean AUC by user for any user that had their user-item matrix altered. \n",
    "    \n",
    "    parameters:\n",
    "    \n",
    "    training_set - The training set resulting from make_train, where a certain percentage of the original\n",
    "    user/item interactions are reset to zero to hide them from the model \n",
    "    \n",
    "    predictions - The matrix of your predicted ratings for each user/item pair as output from the implicit MF.\n",
    "    These should be stored in a list, with user vectors as item zero and item vectors as item one. \n",
    "    \n",
    "    altered_users - The indices of the users where at least one user/item pair was altered from make_train function\n",
    "    \n",
    "    test_set - The test set constucted earlier from make_train function\n",
    "    \n",
    "    \n",
    "    \n",
    "    returns:\n",
    "    \n",
    "    The mean AUC (area under the Receiver Operator Characteristic curve) of the test set only on user-item interactions\n",
    "    there were originally zero to test ranking ability in addition to the most popular items as a benchmark.\n",
    "    '''\n",
    "    \n",
    "    \n",
    "    store_auc = [] # An empty list to store the AUC for each user that had an item removed from the training set\n",
    "    popularity_auc = [] # To store popular AUC scores\n",
    "    pop_items = np.array(test_set.sum(axis = 0)).reshape(-1) # Get sum of item iteractions to find most popular\n",
    "    item_vecs = predictions[1]\n",
    "    for user in altered_users: # Iterate through each user that had an item altered\n",
    "        training_row = training_set[user,:].toarray().reshape(-1) # Get the training set row\n",
    "        zero_inds = np.where(training_row == 0) # Find where the interaction had not yet occurred\n",
    "        # Get the predicted values based on our user/item vectors\n",
    "        user_vec = predictions[0][user,:]\n",
    "        pred = user_vec.dot(item_vecs).toarray()[0,zero_inds].reshape(-1)\n",
    "        # Get only the items that were originally zero\n",
    "        # Select all ratings from the MF prediction for this user that originally had no iteraction\n",
    "        actual = test_set[user,:].toarray()[0,zero_inds].reshape(-1) \n",
    "        # Select the binarized yes/no interaction pairs from the original full data\n",
    "        # that align with the same pairs in training \n",
    "        pop = pop_items[zero_inds] # Get the item popularity for our chosen items\n",
    "        store_auc.append(auc_score(pred, actual)) # Calculate AUC for the given user and store\n",
    "        popularity_auc.append(auc_score(pop, actual)) # Calculate AUC using most popular and score\n",
    "    # End users iteration\n",
    "    \n",
    "    return float('%.3f'%np.mean(store_auc)), float('%.3f'%np.mean(popularity_auc))  \n",
    "   # Return the mean AUC rounded to three decimal places for both test and popularity benchmark\n"
   ]
  },
  {
   "cell_type": "code",
   "execution_count": 338,
   "metadata": {},
   "outputs": [
    {
     "name": "stderr",
     "output_type": "stream",
     "text": [
      "/home/ndignazio/.local/lib/python3.8/site-packages/sklearn/decomposition/_nmf.py:1076: ConvergenceWarning: Maximum number of iterations 500 reached. Increase it to improve convergence.\n",
      "  warnings.warn(\"Maximum number of iterations %d reached. Increase it to\"\n",
      "/home/ndignazio/.local/lib/python3.8/site-packages/sklearn/decomposition/_nmf.py:1076: ConvergenceWarning: Maximum number of iterations 500 reached. Increase it to improve convergence.\n",
      "  warnings.warn(\"Maximum number of iterations %d reached. Increase it to\"\n",
      "/home/ndignazio/.local/lib/python3.8/site-packages/sklearn/decomposition/_nmf.py:1076: ConvergenceWarning: Maximum number of iterations 500 reached. Increase it to improve convergence.\n",
      "  warnings.warn(\"Maximum number of iterations %d reached. Increase it to\"\n",
      "/home/ndignazio/.local/lib/python3.8/site-packages/sklearn/decomposition/_nmf.py:1076: ConvergenceWarning: Maximum number of iterations 500 reached. Increase it to improve convergence.\n",
      "  warnings.warn(\"Maximum number of iterations %d reached. Increase it to\"\n",
      "/home/ndignazio/.local/lib/python3.8/site-packages/sklearn/decomposition/_nmf.py:1076: ConvergenceWarning: Maximum number of iterations 500 reached. Increase it to improve convergence.\n",
      "  warnings.warn(\"Maximum number of iterations %d reached. Increase it to\"\n",
      "/home/ndignazio/.local/lib/python3.8/site-packages/sklearn/decomposition/_nmf.py:1076: ConvergenceWarning: Maximum number of iterations 500 reached. Increase it to improve convergence.\n",
      "  warnings.warn(\"Maximum number of iterations %d reached. Increase it to\"\n",
      "/home/ndignazio/.local/lib/python3.8/site-packages/sklearn/decomposition/_nmf.py:1076: ConvergenceWarning: Maximum number of iterations 500 reached. Increase it to improve convergence.\n",
      "  warnings.warn(\"Maximum number of iterations %d reached. Increase it to\"\n",
      "/home/ndignazio/.local/lib/python3.8/site-packages/sklearn/decomposition/_nmf.py:1076: ConvergenceWarning: Maximum number of iterations 500 reached. Increase it to improve convergence.\n",
      "  warnings.warn(\"Maximum number of iterations %d reached. Increase it to\"\n",
      "/home/ndignazio/.local/lib/python3.8/site-packages/sklearn/decomposition/_nmf.py:1076: ConvergenceWarning: Maximum number of iterations 500 reached. Increase it to improve convergence.\n",
      "  warnings.warn(\"Maximum number of iterations %d reached. Increase it to\"\n",
      "/home/ndignazio/.local/lib/python3.8/site-packages/sklearn/decomposition/_nmf.py:1076: ConvergenceWarning: Maximum number of iterations 500 reached. Increase it to improve convergence.\n",
      "  warnings.warn(\"Maximum number of iterations %d reached. Increase it to\"\n",
      "/home/ndignazio/.local/lib/python3.8/site-packages/sklearn/decomposition/_nmf.py:1076: ConvergenceWarning: Maximum number of iterations 500 reached. Increase it to improve convergence.\n",
      "  warnings.warn(\"Maximum number of iterations %d reached. Increase it to\"\n",
      "/home/ndignazio/.local/lib/python3.8/site-packages/sklearn/decomposition/_nmf.py:1076: ConvergenceWarning: Maximum number of iterations 500 reached. Increase it to improve convergence.\n",
      "  warnings.warn(\"Maximum number of iterations %d reached. Increase it to\"\n",
      "/home/ndignazio/.local/lib/python3.8/site-packages/sklearn/decomposition/_nmf.py:1076: ConvergenceWarning: Maximum number of iterations 500 reached. Increase it to improve convergence.\n",
      "  warnings.warn(\"Maximum number of iterations %d reached. Increase it to\"\n",
      "/home/ndignazio/.local/lib/python3.8/site-packages/sklearn/decomposition/_nmf.py:1076: ConvergenceWarning: Maximum number of iterations 500 reached. Increase it to improve convergence.\n",
      "  warnings.warn(\"Maximum number of iterations %d reached. Increase it to\"\n",
      "/home/ndignazio/.local/lib/python3.8/site-packages/sklearn/decomposition/_nmf.py:1076: ConvergenceWarning: Maximum number of iterations 500 reached. Increase it to improve convergence.\n",
      "  warnings.warn(\"Maximum number of iterations %d reached. Increase it to\"\n",
      "/home/ndignazio/.local/lib/python3.8/site-packages/sklearn/decomposition/_nmf.py:1076: ConvergenceWarning: Maximum number of iterations 500 reached. Increase it to improve convergence.\n",
      "  warnings.warn(\"Maximum number of iterations %d reached. Increase it to\"\n",
      "/home/ndignazio/.local/lib/python3.8/site-packages/sklearn/decomposition/_nmf.py:1076: ConvergenceWarning: Maximum number of iterations 500 reached. Increase it to improve convergence.\n",
      "  warnings.warn(\"Maximum number of iterations %d reached. Increase it to\"\n",
      "/home/ndignazio/.local/lib/python3.8/site-packages/sklearn/decomposition/_nmf.py:1076: ConvergenceWarning: Maximum number of iterations 500 reached. Increase it to improve convergence.\n",
      "  warnings.warn(\"Maximum number of iterations %d reached. Increase it to\"\n",
      "/home/ndignazio/.local/lib/python3.8/site-packages/sklearn/decomposition/_nmf.py:1076: ConvergenceWarning: Maximum number of iterations 500 reached. Increase it to improve convergence.\n",
      "  warnings.warn(\"Maximum number of iterations %d reached. Increase it to\"\n",
      "/home/ndignazio/.local/lib/python3.8/site-packages/sklearn/decomposition/_nmf.py:1076: ConvergenceWarning: Maximum number of iterations 500 reached. Increase it to improve convergence.\n",
      "  warnings.warn(\"Maximum number of iterations %d reached. Increase it to\"\n",
      "/home/ndignazio/.local/lib/python3.8/site-packages/sklearn/decomposition/_nmf.py:1076: ConvergenceWarning: Maximum number of iterations 500 reached. Increase it to improve convergence.\n",
      "  warnings.warn(\"Maximum number of iterations %d reached. Increase it to\"\n",
      "/home/ndignazio/.local/lib/python3.8/site-packages/sklearn/decomposition/_nmf.py:1076: ConvergenceWarning: Maximum number of iterations 500 reached. Increase it to improve convergence.\n",
      "  warnings.warn(\"Maximum number of iterations %d reached. Increase it to\"\n",
      "/home/ndignazio/.local/lib/python3.8/site-packages/sklearn/decomposition/_nmf.py:1076: ConvergenceWarning: Maximum number of iterations 500 reached. Increase it to improve convergence.\n",
      "  warnings.warn(\"Maximum number of iterations %d reached. Increase it to\"\n",
      "/home/ndignazio/.local/lib/python3.8/site-packages/sklearn/decomposition/_nmf.py:1076: ConvergenceWarning: Maximum number of iterations 500 reached. Increase it to improve convergence.\n",
      "  warnings.warn(\"Maximum number of iterations %d reached. Increase it to\"\n",
      "/home/ndignazio/.local/lib/python3.8/site-packages/sklearn/decomposition/_nmf.py:1076: ConvergenceWarning: Maximum number of iterations 500 reached. Increase it to improve convergence.\n",
      "  warnings.warn(\"Maximum number of iterations %d reached. Increase it to\"\n",
      "/home/ndignazio/.local/lib/python3.8/site-packages/sklearn/decomposition/_nmf.py:1076: ConvergenceWarning: Maximum number of iterations 500 reached. Increase it to improve convergence.\n",
      "  warnings.warn(\"Maximum number of iterations %d reached. Increase it to\"\n",
      "/home/ndignazio/.local/lib/python3.8/site-packages/sklearn/decomposition/_nmf.py:1076: ConvergenceWarning: Maximum number of iterations 500 reached. Increase it to improve convergence.\n",
      "  warnings.warn(\"Maximum number of iterations %d reached. Increase it to\"\n",
      "/home/ndignazio/.local/lib/python3.8/site-packages/sklearn/decomposition/_nmf.py:1076: ConvergenceWarning: Maximum number of iterations 500 reached. Increase it to improve convergence.\n",
      "  warnings.warn(\"Maximum number of iterations %d reached. Increase it to\"\n",
      "/home/ndignazio/.local/lib/python3.8/site-packages/sklearn/decomposition/_nmf.py:1076: ConvergenceWarning: Maximum number of iterations 500 reached. Increase it to improve convergence.\n",
      "  warnings.warn(\"Maximum number of iterations %d reached. Increase it to\"\n",
      "/home/ndignazio/.local/lib/python3.8/site-packages/sklearn/decomposition/_nmf.py:1076: ConvergenceWarning: Maximum number of iterations 500 reached. Increase it to improve convergence.\n",
      "  warnings.warn(\"Maximum number of iterations %d reached. Increase it to\"\n",
      "/home/ndignazio/.local/lib/python3.8/site-packages/sklearn/decomposition/_nmf.py:1076: ConvergenceWarning: Maximum number of iterations 500 reached. Increase it to improve convergence.\n",
      "  warnings.warn(\"Maximum number of iterations %d reached. Increase it to\"\n",
      "/home/ndignazio/.local/lib/python3.8/site-packages/sklearn/decomposition/_nmf.py:1076: ConvergenceWarning: Maximum number of iterations 500 reached. Increase it to improve convergence.\n",
      "  warnings.warn(\"Maximum number of iterations %d reached. Increase it to\"\n"
     ]
    },
    {
     "name": "stderr",
     "output_type": "stream",
     "text": [
      "/home/ndignazio/.local/lib/python3.8/site-packages/sklearn/decomposition/_nmf.py:1076: ConvergenceWarning: Maximum number of iterations 500 reached. Increase it to improve convergence.\n",
      "  warnings.warn(\"Maximum number of iterations %d reached. Increase it to\"\n",
      "/home/ndignazio/.local/lib/python3.8/site-packages/sklearn/decomposition/_nmf.py:1076: ConvergenceWarning: Maximum number of iterations 500 reached. Increase it to improve convergence.\n",
      "  warnings.warn(\"Maximum number of iterations %d reached. Increase it to\"\n",
      "/home/ndignazio/.local/lib/python3.8/site-packages/sklearn/decomposition/_nmf.py:1076: ConvergenceWarning: Maximum number of iterations 500 reached. Increase it to improve convergence.\n",
      "  warnings.warn(\"Maximum number of iterations %d reached. Increase it to\"\n",
      "/home/ndignazio/.local/lib/python3.8/site-packages/sklearn/decomposition/_nmf.py:1076: ConvergenceWarning: Maximum number of iterations 500 reached. Increase it to improve convergence.\n",
      "  warnings.warn(\"Maximum number of iterations %d reached. Increase it to\"\n",
      "/home/ndignazio/.local/lib/python3.8/site-packages/sklearn/decomposition/_nmf.py:1076: ConvergenceWarning: Maximum number of iterations 500 reached. Increase it to improve convergence.\n",
      "  warnings.warn(\"Maximum number of iterations %d reached. Increase it to\"\n",
      "/home/ndignazio/.local/lib/python3.8/site-packages/sklearn/decomposition/_nmf.py:1076: ConvergenceWarning: Maximum number of iterations 500 reached. Increase it to improve convergence.\n",
      "  warnings.warn(\"Maximum number of iterations %d reached. Increase it to\"\n",
      "/home/ndignazio/.local/lib/python3.8/site-packages/sklearn/decomposition/_nmf.py:1076: ConvergenceWarning: Maximum number of iterations 500 reached. Increase it to improve convergence.\n",
      "  warnings.warn(\"Maximum number of iterations %d reached. Increase it to\"\n",
      "/home/ndignazio/.local/lib/python3.8/site-packages/sklearn/decomposition/_nmf.py:1076: ConvergenceWarning: Maximum number of iterations 500 reached. Increase it to improve convergence.\n",
      "  warnings.warn(\"Maximum number of iterations %d reached. Increase it to\"\n",
      "/home/ndignazio/.local/lib/python3.8/site-packages/sklearn/decomposition/_nmf.py:1076: ConvergenceWarning: Maximum number of iterations 500 reached. Increase it to improve convergence.\n",
      "  warnings.warn(\"Maximum number of iterations %d reached. Increase it to\"\n",
      "/home/ndignazio/.local/lib/python3.8/site-packages/sklearn/decomposition/_nmf.py:1076: ConvergenceWarning: Maximum number of iterations 500 reached. Increase it to improve convergence.\n",
      "  warnings.warn(\"Maximum number of iterations %d reached. Increase it to\"\n",
      "/home/ndignazio/.local/lib/python3.8/site-packages/sklearn/decomposition/_nmf.py:1076: ConvergenceWarning: Maximum number of iterations 500 reached. Increase it to improve convergence.\n",
      "  warnings.warn(\"Maximum number of iterations %d reached. Increase it to\"\n",
      "/home/ndignazio/.local/lib/python3.8/site-packages/sklearn/decomposition/_nmf.py:1076: ConvergenceWarning: Maximum number of iterations 500 reached. Increase it to improve convergence.\n",
      "  warnings.warn(\"Maximum number of iterations %d reached. Increase it to\"\n",
      "/home/ndignazio/.local/lib/python3.8/site-packages/sklearn/decomposition/_nmf.py:1076: ConvergenceWarning: Maximum number of iterations 500 reached. Increase it to improve convergence.\n",
      "  warnings.warn(\"Maximum number of iterations %d reached. Increase it to\"\n",
      "/home/ndignazio/.local/lib/python3.8/site-packages/sklearn/decomposition/_nmf.py:1076: ConvergenceWarning: Maximum number of iterations 500 reached. Increase it to improve convergence.\n",
      "  warnings.warn(\"Maximum number of iterations %d reached. Increase it to\"\n",
      "/home/ndignazio/.local/lib/python3.8/site-packages/sklearn/decomposition/_nmf.py:1076: ConvergenceWarning: Maximum number of iterations 500 reached. Increase it to improve convergence.\n",
      "  warnings.warn(\"Maximum number of iterations %d reached. Increase it to\"\n",
      "/home/ndignazio/.local/lib/python3.8/site-packages/sklearn/decomposition/_nmf.py:1076: ConvergenceWarning: Maximum number of iterations 500 reached. Increase it to improve convergence.\n",
      "  warnings.warn(\"Maximum number of iterations %d reached. Increase it to\"\n",
      "/home/ndignazio/.local/lib/python3.8/site-packages/sklearn/decomposition/_nmf.py:1076: ConvergenceWarning: Maximum number of iterations 500 reached. Increase it to improve convergence.\n",
      "  warnings.warn(\"Maximum number of iterations %d reached. Increase it to\"\n",
      "/home/ndignazio/.local/lib/python3.8/site-packages/sklearn/decomposition/_nmf.py:1076: ConvergenceWarning: Maximum number of iterations 500 reached. Increase it to improve convergence.\n",
      "  warnings.warn(\"Maximum number of iterations %d reached. Increase it to\"\n",
      "/home/ndignazio/.local/lib/python3.8/site-packages/sklearn/decomposition/_nmf.py:1076: ConvergenceWarning: Maximum number of iterations 500 reached. Increase it to improve convergence.\n",
      "  warnings.warn(\"Maximum number of iterations %d reached. Increase it to\"\n",
      "/home/ndignazio/.local/lib/python3.8/site-packages/sklearn/decomposition/_nmf.py:1076: ConvergenceWarning: Maximum number of iterations 500 reached. Increase it to improve convergence.\n",
      "  warnings.warn(\"Maximum number of iterations %d reached. Increase it to\"\n",
      "/home/ndignazio/.local/lib/python3.8/site-packages/sklearn/decomposition/_nmf.py:1076: ConvergenceWarning: Maximum number of iterations 500 reached. Increase it to improve convergence.\n",
      "  warnings.warn(\"Maximum number of iterations %d reached. Increase it to\"\n",
      "/home/ndignazio/.local/lib/python3.8/site-packages/sklearn/decomposition/_nmf.py:1076: ConvergenceWarning: Maximum number of iterations 500 reached. Increase it to improve convergence.\n",
      "  warnings.warn(\"Maximum number of iterations %d reached. Increase it to\"\n",
      "/home/ndignazio/.local/lib/python3.8/site-packages/sklearn/decomposition/_nmf.py:1076: ConvergenceWarning: Maximum number of iterations 500 reached. Increase it to improve convergence.\n",
      "  warnings.warn(\"Maximum number of iterations %d reached. Increase it to\"\n",
      "/home/ndignazio/.local/lib/python3.8/site-packages/sklearn/decomposition/_nmf.py:1076: ConvergenceWarning: Maximum number of iterations 500 reached. Increase it to improve convergence.\n",
      "  warnings.warn(\"Maximum number of iterations %d reached. Increase it to\"\n",
      "/home/ndignazio/.local/lib/python3.8/site-packages/sklearn/decomposition/_nmf.py:1076: ConvergenceWarning: Maximum number of iterations 500 reached. Increase it to improve convergence.\n",
      "  warnings.warn(\"Maximum number of iterations %d reached. Increase it to\"\n",
      "/home/ndignazio/.local/lib/python3.8/site-packages/sklearn/decomposition/_nmf.py:1076: ConvergenceWarning: Maximum number of iterations 500 reached. Increase it to improve convergence.\n",
      "  warnings.warn(\"Maximum number of iterations %d reached. Increase it to\"\n",
      "/home/ndignazio/.local/lib/python3.8/site-packages/sklearn/decomposition/_nmf.py:1076: ConvergenceWarning: Maximum number of iterations 500 reached. Increase it to improve convergence.\n",
      "  warnings.warn(\"Maximum number of iterations %d reached. Increase it to\"\n",
      "/home/ndignazio/.local/lib/python3.8/site-packages/sklearn/decomposition/_nmf.py:1076: ConvergenceWarning: Maximum number of iterations 500 reached. Increase it to improve convergence.\n",
      "  warnings.warn(\"Maximum number of iterations %d reached. Increase it to\"\n",
      "/home/ndignazio/.local/lib/python3.8/site-packages/sklearn/decomposition/_nmf.py:1076: ConvergenceWarning: Maximum number of iterations 500 reached. Increase it to improve convergence.\n",
      "  warnings.warn(\"Maximum number of iterations %d reached. Increase it to\"\n",
      "/home/ndignazio/.local/lib/python3.8/site-packages/sklearn/decomposition/_nmf.py:1076: ConvergenceWarning: Maximum number of iterations 500 reached. Increase it to improve convergence.\n",
      "  warnings.warn(\"Maximum number of iterations %d reached. Increase it to\"\n",
      "/home/ndignazio/.local/lib/python3.8/site-packages/sklearn/decomposition/_nmf.py:1076: ConvergenceWarning: Maximum number of iterations 500 reached. Increase it to improve convergence.\n",
      "  warnings.warn(\"Maximum number of iterations %d reached. Increase it to\"\n",
      "/home/ndignazio/.local/lib/python3.8/site-packages/sklearn/decomposition/_nmf.py:1076: ConvergenceWarning: Maximum number of iterations 500 reached. Increase it to improve convergence.\n",
      "  warnings.warn(\"Maximum number of iterations %d reached. Increase it to\"\n"
     ]
    },
    {
     "name": "stderr",
     "output_type": "stream",
     "text": [
      "/home/ndignazio/.local/lib/python3.8/site-packages/sklearn/decomposition/_nmf.py:1076: ConvergenceWarning: Maximum number of iterations 500 reached. Increase it to improve convergence.\n",
      "  warnings.warn(\"Maximum number of iterations %d reached. Increase it to\"\n",
      "/home/ndignazio/.local/lib/python3.8/site-packages/sklearn/decomposition/_nmf.py:1076: ConvergenceWarning: Maximum number of iterations 500 reached. Increase it to improve convergence.\n",
      "  warnings.warn(\"Maximum number of iterations %d reached. Increase it to\"\n",
      "/home/ndignazio/.local/lib/python3.8/site-packages/sklearn/decomposition/_nmf.py:1076: ConvergenceWarning: Maximum number of iterations 500 reached. Increase it to improve convergence.\n",
      "  warnings.warn(\"Maximum number of iterations %d reached. Increase it to\"\n",
      "/home/ndignazio/.local/lib/python3.8/site-packages/sklearn/decomposition/_nmf.py:1076: ConvergenceWarning: Maximum number of iterations 500 reached. Increase it to improve convergence.\n",
      "  warnings.warn(\"Maximum number of iterations %d reached. Increase it to\"\n",
      "/home/ndignazio/.local/lib/python3.8/site-packages/sklearn/decomposition/_nmf.py:1076: ConvergenceWarning: Maximum number of iterations 500 reached. Increase it to improve convergence.\n",
      "  warnings.warn(\"Maximum number of iterations %d reached. Increase it to\"\n",
      "/home/ndignazio/.local/lib/python3.8/site-packages/sklearn/decomposition/_nmf.py:1076: ConvergenceWarning: Maximum number of iterations 500 reached. Increase it to improve convergence.\n",
      "  warnings.warn(\"Maximum number of iterations %d reached. Increase it to\"\n",
      "/home/ndignazio/.local/lib/python3.8/site-packages/sklearn/decomposition/_nmf.py:1076: ConvergenceWarning: Maximum number of iterations 500 reached. Increase it to improve convergence.\n",
      "  warnings.warn(\"Maximum number of iterations %d reached. Increase it to\"\n",
      "/home/ndignazio/.local/lib/python3.8/site-packages/sklearn/decomposition/_nmf.py:1076: ConvergenceWarning: Maximum number of iterations 500 reached. Increase it to improve convergence.\n",
      "  warnings.warn(\"Maximum number of iterations %d reached. Increase it to\"\n",
      "/home/ndignazio/.local/lib/python3.8/site-packages/sklearn/decomposition/_nmf.py:1076: ConvergenceWarning: Maximum number of iterations 500 reached. Increase it to improve convergence.\n",
      "  warnings.warn(\"Maximum number of iterations %d reached. Increase it to\"\n",
      "/home/ndignazio/.local/lib/python3.8/site-packages/sklearn/decomposition/_nmf.py:1076: ConvergenceWarning: Maximum number of iterations 500 reached. Increase it to improve convergence.\n",
      "  warnings.warn(\"Maximum number of iterations %d reached. Increase it to\"\n",
      "/home/ndignazio/.local/lib/python3.8/site-packages/sklearn/decomposition/_nmf.py:1076: ConvergenceWarning: Maximum number of iterations 500 reached. Increase it to improve convergence.\n",
      "  warnings.warn(\"Maximum number of iterations %d reached. Increase it to\"\n",
      "/home/ndignazio/.local/lib/python3.8/site-packages/sklearn/decomposition/_nmf.py:1076: ConvergenceWarning: Maximum number of iterations 500 reached. Increase it to improve convergence.\n",
      "  warnings.warn(\"Maximum number of iterations %d reached. Increase it to\"\n",
      "/home/ndignazio/.local/lib/python3.8/site-packages/sklearn/decomposition/_nmf.py:1076: ConvergenceWarning: Maximum number of iterations 500 reached. Increase it to improve convergence.\n",
      "  warnings.warn(\"Maximum number of iterations %d reached. Increase it to\"\n",
      "/home/ndignazio/.local/lib/python3.8/site-packages/sklearn/decomposition/_nmf.py:1076: ConvergenceWarning: Maximum number of iterations 500 reached. Increase it to improve convergence.\n",
      "  warnings.warn(\"Maximum number of iterations %d reached. Increase it to\"\n",
      "/home/ndignazio/.local/lib/python3.8/site-packages/sklearn/decomposition/_nmf.py:1076: ConvergenceWarning: Maximum number of iterations 500 reached. Increase it to improve convergence.\n",
      "  warnings.warn(\"Maximum number of iterations %d reached. Increase it to\"\n",
      "/home/ndignazio/.local/lib/python3.8/site-packages/sklearn/decomposition/_nmf.py:1076: ConvergenceWarning: Maximum number of iterations 500 reached. Increase it to improve convergence.\n",
      "  warnings.warn(\"Maximum number of iterations %d reached. Increase it to\"\n",
      "/home/ndignazio/.local/lib/python3.8/site-packages/sklearn/decomposition/_nmf.py:1076: ConvergenceWarning: Maximum number of iterations 500 reached. Increase it to improve convergence.\n",
      "  warnings.warn(\"Maximum number of iterations %d reached. Increase it to\"\n",
      "/home/ndignazio/.local/lib/python3.8/site-packages/sklearn/decomposition/_nmf.py:1076: ConvergenceWarning: Maximum number of iterations 500 reached. Increase it to improve convergence.\n",
      "  warnings.warn(\"Maximum number of iterations %d reached. Increase it to\"\n",
      "/home/ndignazio/.local/lib/python3.8/site-packages/sklearn/decomposition/_nmf.py:1076: ConvergenceWarning: Maximum number of iterations 500 reached. Increase it to improve convergence.\n",
      "  warnings.warn(\"Maximum number of iterations %d reached. Increase it to\"\n",
      "/home/ndignazio/.local/lib/python3.8/site-packages/sklearn/decomposition/_nmf.py:1076: ConvergenceWarning: Maximum number of iterations 500 reached. Increase it to improve convergence.\n",
      "  warnings.warn(\"Maximum number of iterations %d reached. Increase it to\"\n",
      "/home/ndignazio/.local/lib/python3.8/site-packages/sklearn/decomposition/_nmf.py:1076: ConvergenceWarning: Maximum number of iterations 500 reached. Increase it to improve convergence.\n",
      "  warnings.warn(\"Maximum number of iterations %d reached. Increase it to\"\n",
      "/home/ndignazio/.local/lib/python3.8/site-packages/sklearn/decomposition/_nmf.py:1076: ConvergenceWarning: Maximum number of iterations 500 reached. Increase it to improve convergence.\n",
      "  warnings.warn(\"Maximum number of iterations %d reached. Increase it to\"\n",
      "/home/ndignazio/.local/lib/python3.8/site-packages/sklearn/decomposition/_nmf.py:1076: ConvergenceWarning: Maximum number of iterations 500 reached. Increase it to improve convergence.\n",
      "  warnings.warn(\"Maximum number of iterations %d reached. Increase it to\"\n",
      "/home/ndignazio/.local/lib/python3.8/site-packages/sklearn/decomposition/_nmf.py:1076: ConvergenceWarning: Maximum number of iterations 500 reached. Increase it to improve convergence.\n",
      "  warnings.warn(\"Maximum number of iterations %d reached. Increase it to\"\n",
      "/home/ndignazio/.local/lib/python3.8/site-packages/sklearn/decomposition/_nmf.py:1076: ConvergenceWarning: Maximum number of iterations 500 reached. Increase it to improve convergence.\n",
      "  warnings.warn(\"Maximum number of iterations %d reached. Increase it to\"\n",
      "/home/ndignazio/.local/lib/python3.8/site-packages/sklearn/decomposition/_nmf.py:1076: ConvergenceWarning: Maximum number of iterations 500 reached. Increase it to improve convergence.\n",
      "  warnings.warn(\"Maximum number of iterations %d reached. Increase it to\"\n",
      "/home/ndignazio/.local/lib/python3.8/site-packages/sklearn/decomposition/_nmf.py:1076: ConvergenceWarning: Maximum number of iterations 500 reached. Increase it to improve convergence.\n",
      "  warnings.warn(\"Maximum number of iterations %d reached. Increase it to\"\n",
      "/home/ndignazio/.local/lib/python3.8/site-packages/sklearn/decomposition/_nmf.py:1076: ConvergenceWarning: Maximum number of iterations 500 reached. Increase it to improve convergence.\n",
      "  warnings.warn(\"Maximum number of iterations %d reached. Increase it to\"\n",
      "/home/ndignazio/.local/lib/python3.8/site-packages/sklearn/decomposition/_nmf.py:1076: ConvergenceWarning: Maximum number of iterations 500 reached. Increase it to improve convergence.\n",
      "  warnings.warn(\"Maximum number of iterations %d reached. Increase it to\"\n",
      "/home/ndignazio/.local/lib/python3.8/site-packages/sklearn/decomposition/_nmf.py:1076: ConvergenceWarning: Maximum number of iterations 500 reached. Increase it to improve convergence.\n",
      "  warnings.warn(\"Maximum number of iterations %d reached. Increase it to\"\n",
      "/home/ndignazio/.local/lib/python3.8/site-packages/sklearn/decomposition/_nmf.py:1076: ConvergenceWarning: Maximum number of iterations 500 reached. Increase it to improve convergence.\n",
      "  warnings.warn(\"Maximum number of iterations %d reached. Increase it to\"\n",
      "/home/ndignazio/.local/lib/python3.8/site-packages/sklearn/decomposition/_nmf.py:1076: ConvergenceWarning: Maximum number of iterations 500 reached. Increase it to improve convergence.\n",
      "  warnings.warn(\"Maximum number of iterations %d reached. Increase it to\"\n"
     ]
    },
    {
     "name": "stderr",
     "output_type": "stream",
     "text": [
      "/home/ndignazio/.local/lib/python3.8/site-packages/sklearn/decomposition/_nmf.py:1076: ConvergenceWarning: Maximum number of iterations 500 reached. Increase it to improve convergence.\n",
      "  warnings.warn(\"Maximum number of iterations %d reached. Increase it to\"\n",
      "/home/ndignazio/.local/lib/python3.8/site-packages/sklearn/decomposition/_nmf.py:1076: ConvergenceWarning: Maximum number of iterations 500 reached. Increase it to improve convergence.\n",
      "  warnings.warn(\"Maximum number of iterations %d reached. Increase it to\"\n",
      "/home/ndignazio/.local/lib/python3.8/site-packages/sklearn/decomposition/_nmf.py:1076: ConvergenceWarning: Maximum number of iterations 500 reached. Increase it to improve convergence.\n",
      "  warnings.warn(\"Maximum number of iterations %d reached. Increase it to\"\n",
      "/home/ndignazio/.local/lib/python3.8/site-packages/sklearn/decomposition/_nmf.py:1076: ConvergenceWarning: Maximum number of iterations 500 reached. Increase it to improve convergence.\n",
      "  warnings.warn(\"Maximum number of iterations %d reached. Increase it to\"\n",
      "/home/ndignazio/.local/lib/python3.8/site-packages/sklearn/decomposition/_nmf.py:1076: ConvergenceWarning: Maximum number of iterations 500 reached. Increase it to improve convergence.\n",
      "  warnings.warn(\"Maximum number of iterations %d reached. Increase it to\"\n",
      "/home/ndignazio/.local/lib/python3.8/site-packages/sklearn/decomposition/_nmf.py:1076: ConvergenceWarning: Maximum number of iterations 500 reached. Increase it to improve convergence.\n",
      "  warnings.warn(\"Maximum number of iterations %d reached. Increase it to\"\n",
      "/home/ndignazio/.local/lib/python3.8/site-packages/sklearn/decomposition/_nmf.py:1076: ConvergenceWarning: Maximum number of iterations 500 reached. Increase it to improve convergence.\n",
      "  warnings.warn(\"Maximum number of iterations %d reached. Increase it to\"\n",
      "/home/ndignazio/.local/lib/python3.8/site-packages/sklearn/decomposition/_nmf.py:1076: ConvergenceWarning: Maximum number of iterations 500 reached. Increase it to improve convergence.\n",
      "  warnings.warn(\"Maximum number of iterations %d reached. Increase it to\"\n",
      "/home/ndignazio/.local/lib/python3.8/site-packages/sklearn/decomposition/_nmf.py:1076: ConvergenceWarning: Maximum number of iterations 500 reached. Increase it to improve convergence.\n",
      "  warnings.warn(\"Maximum number of iterations %d reached. Increase it to\"\n",
      "/home/ndignazio/.local/lib/python3.8/site-packages/sklearn/decomposition/_nmf.py:1076: ConvergenceWarning: Maximum number of iterations 500 reached. Increase it to improve convergence.\n",
      "  warnings.warn(\"Maximum number of iterations %d reached. Increase it to\"\n",
      "/home/ndignazio/.local/lib/python3.8/site-packages/sklearn/decomposition/_nmf.py:1076: ConvergenceWarning: Maximum number of iterations 500 reached. Increase it to improve convergence.\n",
      "  warnings.warn(\"Maximum number of iterations %d reached. Increase it to\"\n",
      "/home/ndignazio/.local/lib/python3.8/site-packages/sklearn/decomposition/_nmf.py:1076: ConvergenceWarning: Maximum number of iterations 500 reached. Increase it to improve convergence.\n",
      "  warnings.warn(\"Maximum number of iterations %d reached. Increase it to\"\n",
      "/home/ndignazio/.local/lib/python3.8/site-packages/sklearn/decomposition/_nmf.py:1076: ConvergenceWarning: Maximum number of iterations 500 reached. Increase it to improve convergence.\n",
      "  warnings.warn(\"Maximum number of iterations %d reached. Increase it to\"\n",
      "/home/ndignazio/.local/lib/python3.8/site-packages/sklearn/decomposition/_nmf.py:1076: ConvergenceWarning: Maximum number of iterations 500 reached. Increase it to improve convergence.\n",
      "  warnings.warn(\"Maximum number of iterations %d reached. Increase it to\"\n",
      "/home/ndignazio/.local/lib/python3.8/site-packages/sklearn/decomposition/_nmf.py:1076: ConvergenceWarning: Maximum number of iterations 500 reached. Increase it to improve convergence.\n",
      "  warnings.warn(\"Maximum number of iterations %d reached. Increase it to\"\n",
      "/home/ndignazio/.local/lib/python3.8/site-packages/sklearn/decomposition/_nmf.py:1076: ConvergenceWarning: Maximum number of iterations 500 reached. Increase it to improve convergence.\n",
      "  warnings.warn(\"Maximum number of iterations %d reached. Increase it to\"\n",
      "/home/ndignazio/.local/lib/python3.8/site-packages/sklearn/decomposition/_nmf.py:1076: ConvergenceWarning: Maximum number of iterations 500 reached. Increase it to improve convergence.\n",
      "  warnings.warn(\"Maximum number of iterations %d reached. Increase it to\"\n",
      "/home/ndignazio/.local/lib/python3.8/site-packages/sklearn/decomposition/_nmf.py:1076: ConvergenceWarning: Maximum number of iterations 500 reached. Increase it to improve convergence.\n",
      "  warnings.warn(\"Maximum number of iterations %d reached. Increase it to\"\n",
      "/home/ndignazio/.local/lib/python3.8/site-packages/sklearn/decomposition/_nmf.py:1076: ConvergenceWarning: Maximum number of iterations 500 reached. Increase it to improve convergence.\n",
      "  warnings.warn(\"Maximum number of iterations %d reached. Increase it to\"\n",
      "/home/ndignazio/.local/lib/python3.8/site-packages/sklearn/decomposition/_nmf.py:1076: ConvergenceWarning: Maximum number of iterations 500 reached. Increase it to improve convergence.\n",
      "  warnings.warn(\"Maximum number of iterations %d reached. Increase it to\"\n",
      "/home/ndignazio/.local/lib/python3.8/site-packages/sklearn/decomposition/_nmf.py:1076: ConvergenceWarning: Maximum number of iterations 500 reached. Increase it to improve convergence.\n",
      "  warnings.warn(\"Maximum number of iterations %d reached. Increase it to\"\n",
      "/home/ndignazio/.local/lib/python3.8/site-packages/sklearn/decomposition/_nmf.py:1076: ConvergenceWarning: Maximum number of iterations 500 reached. Increase it to improve convergence.\n",
      "  warnings.warn(\"Maximum number of iterations %d reached. Increase it to\"\n",
      "/home/ndignazio/.local/lib/python3.8/site-packages/sklearn/decomposition/_nmf.py:1076: ConvergenceWarning: Maximum number of iterations 500 reached. Increase it to improve convergence.\n",
      "  warnings.warn(\"Maximum number of iterations %d reached. Increase it to\"\n",
      "/home/ndignazio/.local/lib/python3.8/site-packages/sklearn/decomposition/_nmf.py:1076: ConvergenceWarning: Maximum number of iterations 500 reached. Increase it to improve convergence.\n",
      "  warnings.warn(\"Maximum number of iterations %d reached. Increase it to\"\n",
      "/home/ndignazio/.local/lib/python3.8/site-packages/sklearn/decomposition/_nmf.py:1076: ConvergenceWarning: Maximum number of iterations 500 reached. Increase it to improve convergence.\n",
      "  warnings.warn(\"Maximum number of iterations %d reached. Increase it to\"\n",
      "/home/ndignazio/.local/lib/python3.8/site-packages/sklearn/decomposition/_nmf.py:1076: ConvergenceWarning: Maximum number of iterations 500 reached. Increase it to improve convergence.\n",
      "  warnings.warn(\"Maximum number of iterations %d reached. Increase it to\"\n",
      "/home/ndignazio/.local/lib/python3.8/site-packages/sklearn/decomposition/_nmf.py:1076: ConvergenceWarning: Maximum number of iterations 500 reached. Increase it to improve convergence.\n",
      "  warnings.warn(\"Maximum number of iterations %d reached. Increase it to\"\n",
      "/home/ndignazio/.local/lib/python3.8/site-packages/sklearn/decomposition/_nmf.py:1076: ConvergenceWarning: Maximum number of iterations 500 reached. Increase it to improve convergence.\n",
      "  warnings.warn(\"Maximum number of iterations %d reached. Increase it to\"\n",
      "/home/ndignazio/.local/lib/python3.8/site-packages/sklearn/decomposition/_nmf.py:1076: ConvergenceWarning: Maximum number of iterations 500 reached. Increase it to improve convergence.\n",
      "  warnings.warn(\"Maximum number of iterations %d reached. Increase it to\"\n",
      "/home/ndignazio/.local/lib/python3.8/site-packages/sklearn/decomposition/_nmf.py:1076: ConvergenceWarning: Maximum number of iterations 500 reached. Increase it to improve convergence.\n",
      "  warnings.warn(\"Maximum number of iterations %d reached. Increase it to\"\n",
      "/home/ndignazio/.local/lib/python3.8/site-packages/sklearn/decomposition/_nmf.py:1076: ConvergenceWarning: Maximum number of iterations 500 reached. Increase it to improve convergence.\n",
      "  warnings.warn(\"Maximum number of iterations %d reached. Increase it to\"\n",
      "/home/ndignazio/.local/lib/python3.8/site-packages/sklearn/decomposition/_nmf.py:1076: ConvergenceWarning: Maximum number of iterations 500 reached. Increase it to improve convergence.\n",
      "  warnings.warn(\"Maximum number of iterations %d reached. Increase it to\"\n"
     ]
    },
    {
     "name": "stderr",
     "output_type": "stream",
     "text": [
      "/home/ndignazio/.local/lib/python3.8/site-packages/sklearn/decomposition/_nmf.py:1076: ConvergenceWarning: Maximum number of iterations 500 reached. Increase it to improve convergence.\n",
      "  warnings.warn(\"Maximum number of iterations %d reached. Increase it to\"\n",
      "/home/ndignazio/.local/lib/python3.8/site-packages/sklearn/decomposition/_nmf.py:1076: ConvergenceWarning: Maximum number of iterations 500 reached. Increase it to improve convergence.\n",
      "  warnings.warn(\"Maximum number of iterations %d reached. Increase it to\"\n",
      "/home/ndignazio/.local/lib/python3.8/site-packages/sklearn/decomposition/_nmf.py:1076: ConvergenceWarning: Maximum number of iterations 500 reached. Increase it to improve convergence.\n",
      "  warnings.warn(\"Maximum number of iterations %d reached. Increase it to\"\n",
      "/home/ndignazio/.local/lib/python3.8/site-packages/sklearn/decomposition/_nmf.py:1076: ConvergenceWarning: Maximum number of iterations 500 reached. Increase it to improve convergence.\n",
      "  warnings.warn(\"Maximum number of iterations %d reached. Increase it to\"\n",
      "/home/ndignazio/.local/lib/python3.8/site-packages/sklearn/decomposition/_nmf.py:1076: ConvergenceWarning: Maximum number of iterations 500 reached. Increase it to improve convergence.\n",
      "  warnings.warn(\"Maximum number of iterations %d reached. Increase it to\"\n",
      "/home/ndignazio/.local/lib/python3.8/site-packages/sklearn/decomposition/_nmf.py:1076: ConvergenceWarning: Maximum number of iterations 500 reached. Increase it to improve convergence.\n",
      "  warnings.warn(\"Maximum number of iterations %d reached. Increase it to\"\n",
      "/home/ndignazio/.local/lib/python3.8/site-packages/sklearn/decomposition/_nmf.py:1076: ConvergenceWarning: Maximum number of iterations 500 reached. Increase it to improve convergence.\n",
      "  warnings.warn(\"Maximum number of iterations %d reached. Increase it to\"\n",
      "/home/ndignazio/.local/lib/python3.8/site-packages/sklearn/decomposition/_nmf.py:1076: ConvergenceWarning: Maximum number of iterations 500 reached. Increase it to improve convergence.\n",
      "  warnings.warn(\"Maximum number of iterations %d reached. Increase it to\"\n",
      "/home/ndignazio/.local/lib/python3.8/site-packages/sklearn/decomposition/_nmf.py:1076: ConvergenceWarning: Maximum number of iterations 500 reached. Increase it to improve convergence.\n",
      "  warnings.warn(\"Maximum number of iterations %d reached. Increase it to\"\n",
      "/home/ndignazio/.local/lib/python3.8/site-packages/sklearn/decomposition/_nmf.py:1076: ConvergenceWarning: Maximum number of iterations 500 reached. Increase it to improve convergence.\n",
      "  warnings.warn(\"Maximum number of iterations %d reached. Increase it to\"\n",
      "/home/ndignazio/.local/lib/python3.8/site-packages/sklearn/decomposition/_nmf.py:1076: ConvergenceWarning: Maximum number of iterations 500 reached. Increase it to improve convergence.\n",
      "  warnings.warn(\"Maximum number of iterations %d reached. Increase it to\"\n",
      "/home/ndignazio/.local/lib/python3.8/site-packages/sklearn/decomposition/_nmf.py:1076: ConvergenceWarning: Maximum number of iterations 500 reached. Increase it to improve convergence.\n",
      "  warnings.warn(\"Maximum number of iterations %d reached. Increase it to\"\n",
      "/home/ndignazio/.local/lib/python3.8/site-packages/sklearn/decomposition/_nmf.py:1076: ConvergenceWarning: Maximum number of iterations 500 reached. Increase it to improve convergence.\n",
      "  warnings.warn(\"Maximum number of iterations %d reached. Increase it to\"\n"
     ]
    }
   ],
   "source": [
    "### CROSS VALIDATION ATTEMPT ###\n",
    "# High-level overview: split data into different training and test sets using\n",
    "# different random seeds. For each train/test split, identify the optimal\n",
    "# number of latent features according to mean AUC score for each user.\n",
    "# The AUC score is the area under the ROC curve for a given user, which\n",
    "# is a plot of the true positive rate (true positives/total positives) against\n",
    "# the false positive rate (false positives/)\n",
    "# Function to get a key from a dictionary correpsonding to a particular value\n",
    "def get_key(my_dict, val):\n",
    "    for key, value in my_dict.items():\n",
    "         if val == value:\n",
    "             return key\n",
    " \n",
    "    return \"key doesn't exist\"\n",
    "\n",
    "# Initialize list of auc metrics\n",
    "aucs = []\n",
    "# Initalize list of best number of latent features at each iteration\n",
    "best_latent_features = []\n",
    "best_alphas = []\n",
    "\n",
    "# Generate list of regularization parameters to try\n",
    "alphas = [0, 0.0001, 0.001, 0.01, 0.1, 0.25]\n",
    "\n",
    "# Iterate over range of random seeds\n",
    "for i in range(10):\n",
    "    # Split data into training and test - different random seeds will ensure different\n",
    "    # splits of data\n",
    "    data_train, data_test, data_altered = make_train(csr, pct_test = 0.2, random_seed=i)\n",
    "    # Keep track of auc metrics for each number of \n",
    "    cv_auc = {}\n",
    "    \n",
    "    # Iterate over range of latent features\n",
    "    for j in range(1, 20):\n",
    "        for alpha in alphas:\n",
    "            # Define model\n",
    "            # initialized estimates using non-negative double SVD, which is better for sparseness\n",
    "            # \n",
    "            model = NMF(n_components=j, init='nndsvd', max_iter=500, random_state=0, alpha=alpha)\n",
    "            # Fit model on training data\n",
    "            user_vecs, item_vecs = model.fit_transform(data_train), model.components_\n",
    "\n",
    "            # Calculate mean AUC on test data\n",
    "            mean_auc, popularity_auc = calc_mean_auc(data_train, data_altered, \n",
    "                                                     [csr_matrix(user_vecs), csr_matrix(item_vecs)], data_test)\n",
    "            # Keep track of AUC score corresponding to each number of latent features and regularization param\n",
    "            cv_auc[(j, alpha)] = mean_auc\n",
    "    # Define the \"best\" number of latent features as the one with the highest AUC\n",
    "    best_latent_feature = get_key(cv_auc, max(cv_auc.values()))[0]\n",
    "    best_alpha = get_key(cv_auc, max(cv_auc.values()))[1]\n",
    "    best_alphas.append(best_alpha)\n",
    "    #plt.plot(cv_auc)\n",
    "    best_latent_features.append(best_latent_feature)\n",
    "    cv_auc_mean = np.mean(list(cv_auc.values()))\n",
    "    aucs.append(cv_auc_mean)\n",
    "    \n"
   ]
  },
  {
   "cell_type": "code",
   "execution_count": 339,
   "metadata": {},
   "outputs": [
    {
     "name": "stdout",
     "output_type": "stream",
     "text": [
      "Mean AUC: 0.9543719298245614\n",
      "Optimal number of latent features: 17\n",
      "Optimal regularization parameter: 0.025\n"
     ]
    }
   ],
   "source": [
    "print(\"Mean AUC: {}\".format(np.mean(aucs)))\n",
    "\n",
    "# Define best number of latent features as rounded mean of best latent features across random seeds\n",
    "overall_best_latent_feature = int(np.round(np.mean(best_latent_features)))\n",
    "overall_best_alpha = np.mean(best_alphas)\n",
    "print(\"Optimal number of latent features: {}\".format(overall_best_latent_feature))\n",
    "print(\"Optimal regularization parameter: {}\".format(overall_best_alpha))"
   ]
  },
  {
   "cell_type": "markdown",
   "metadata": {},
   "source": [
    "Next steps: fit entire (filtered) dataset using optimal hyperparameters."
   ]
  },
  {
   "cell_type": "code",
   "execution_count": 343,
   "metadata": {},
   "outputs": [
    {
     "name": "stderr",
     "output_type": "stream",
     "text": [
      "/home/ndignazio/.local/lib/python3.8/site-packages/sklearn/decomposition/_nmf.py:1076: ConvergenceWarning: Maximum number of iterations 500 reached. Increase it to improve convergence.\n",
      "  warnings.warn(\"Maximum number of iterations %d reached. Increase it to\"\n"
     ]
    }
   ],
   "source": [
    "model = NMF(n_components=17, init='nndsvd', max_iter=500, random_state=0, alpha=0.025)\n",
    "            # Fit model on training data\n",
    "user_vecs, item_vecs = model.fit_transform(csr), model.components_"
   ]
  },
  {
   "cell_type": "markdown",
   "metadata": {},
   "source": [
    "#### Experimentation/Scratchwork"
   ]
  },
  {
   "cell_type": "code",
   "execution_count": 272,
   "metadata": {},
   "outputs": [
    {
     "name": "stderr",
     "output_type": "stream",
     "text": [
      "/home/ndignazio/.local/lib/python3.8/site-packages/sklearn/decomposition/_nmf.py:1076: ConvergenceWarning: Maximum number of iterations 200 reached. Increase it to improve convergence.\n",
      "  warnings.warn(\"Maximum number of iterations %d reached. Increase it to\"\n"
     ]
    }
   ],
   "source": [
    "k_values = [k for k in range(1, 30)]\n",
    "reconstruction_errors = []\n",
    "for k in k_values:\n",
    "    reconstruction_errors.append(perform_nmf(k))\n",
    "    \n"
   ]
  },
  {
   "cell_type": "code",
   "execution_count": 273,
   "metadata": {},
   "outputs": [
    {
     "data": {
      "text/plain": [
       "[102.53536690956297,\n",
       " 98.53946513357322,\n",
       " 95.08063616918078,\n",
       " 92.87309067366363,\n",
       " 91.44072416765556,\n",
       " 89.22478270359616,\n",
       " 87.28716968547596,\n",
       " 86.62750838306752,\n",
       " 85.45458525353783,\n",
       " 84.20588213707885,\n",
       " 83.40860737000548,\n",
       " 82.33257030932415,\n",
       " 81.5047335223653,\n",
       " 80.40321840634991,\n",
       " 79.78523402516709,\n",
       " 79.19086106314674,\n",
       " 78.3837964007727,\n",
       " 77.92557108742145,\n",
       " 77.75454352370033,\n",
       " 76.66539680191222,\n",
       " 76.19607508001397,\n",
       " 75.75612296164768,\n",
       " 74.93498243656785,\n",
       " 74.3449310702962,\n",
       " 73.60667300893351,\n",
       " 73.17199931896282,\n",
       " 72.52912612475953,\n",
       " 71.74703546393735,\n",
       " 71.12184133690234]"
      ]
     },
     "execution_count": 273,
     "metadata": {},
     "output_type": "execute_result"
    }
   ],
   "source": [
    "reconstruction_errors"
   ]
  },
  {
   "cell_type": "code",
   "execution_count": 275,
   "metadata": {},
   "outputs": [],
   "source": [
    "%matplotlib inline"
   ]
  },
  {
   "cell_type": "code",
   "execution_count": 276,
   "metadata": {},
   "outputs": [
    {
     "data": {
      "text/plain": [
       "[<matplotlib.lines.Line2D at 0x7f3d685a8b20>]"
      ]
     },
     "execution_count": 276,
     "metadata": {},
     "output_type": "execute_result"
    },
    {
     "data": {
      "image/png": "[encoded data removed]",
      "text/plain": [
       "<Figure size 432x288 with 1 Axes>"
      ]
     },
     "metadata": {
      "needs_background": "light"
     },
     "output_type": "display_data"
    }
   ],
   "source": [
    "plt.plot(k_values, reconstruction_errors)"
   ]
  },
  {
   "cell_type": "code",
   "execution_count": null,
   "metadata": {},
   "outputs": [],
   "source": [
    "k_values2 = [k for k in range(30, 60)]\n",
    "reconstruction_errors2 = []\n",
    "for k in k_values2:\n",
    "    reconstruction_errors2.append(perform_nmf(k))"
   ]
  },
  {
   "cell_type": "code",
   "execution_count": null,
   "metadata": {},
   "outputs": [],
   "source": [
    "plt.plot(k_values2, reconstruction_errors2)"
   ]
  },
  {
   "cell_type": "code",
   "execution_count": null,
   "metadata": {},
   "outputs": [],
   "source": [
    "reconstruction_errors2"
   ]
  },
  {
   "cell_type": "markdown",
   "metadata": {},
   "source": [
    "### Playing Around with Separating by User Groups"
   ]
  },
  {
   "cell_type": "markdown",
   "metadata": {},
   "source": [
    "First, create a dataframe of the user lookup to match matrix indices to User ID's."
   ]
  },
  {
   "cell_type": "code",
   "execution_count": 42,
   "metadata": {},
   "outputs": [
    {
     "data": {
      "text/html": [
       "<div>\n",
       "<style scoped>\n",
       "    .dataframe tbody tr th:only-of-type {\n",
       "        vertical-align: middle;\n",
       "    }\n",
       "\n",
       "    .dataframe tbody tr th {\n",
       "        vertical-align: top;\n",
       "    }\n",
       "\n",
       "    .dataframe thead th {\n",
       "        text-align: right;\n",
       "    }\n",
       "</style>\n",
       "<table border=\"1\" class=\"dataframe\">\n",
       "  <thead>\n",
       "    <tr style=\"text-align: right;\">\n",
       "      <th></th>\n",
       "      <th>replacement</th>\n",
       "      <th>UserID</th>\n",
       "    </tr>\n",
       "  </thead>\n",
       "  <tbody>\n",
       "    <tr>\n",
       "      <th>0</th>\n",
       "      <td>0</td>\n",
       "      <td>554</td>\n",
       "    </tr>\n",
       "    <tr>\n",
       "      <th>1</th>\n",
       "      <td>1</td>\n",
       "      <td>769</td>\n",
       "    </tr>\n",
       "    <tr>\n",
       "      <th>2</th>\n",
       "      <td>2</td>\n",
       "      <td>1697</td>\n",
       "    </tr>\n",
       "    <tr>\n",
       "      <th>3</th>\n",
       "      <td>3</td>\n",
       "      <td>2652</td>\n",
       "    </tr>\n",
       "    <tr>\n",
       "      <th>4</th>\n",
       "      <td>4</td>\n",
       "      <td>4359</td>\n",
       "    </tr>\n",
       "  </tbody>\n",
       "</table>\n",
       "</div>"
      ],
      "text/plain": [
       "   replacement  UserID\n",
       "0            0     554\n",
       "1            1     769\n",
       "2            2    1697\n",
       "3            3    2652\n",
       "4            4    4359"
      ]
     },
     "execution_count": 42,
     "metadata": {},
     "output_type": "execute_result"
    }
   ],
   "source": [
    "data = {'replacement': list(window1_user_lookup.values()), \n",
    "        'UserID': list(window1_user_lookup.keys())} \n",
    "\n",
    "data = pd.DataFrame(data)\n",
    "data.head()"
   ]
  },
  {
   "cell_type": "markdown",
   "metadata": {},
   "source": [
    "Then, recode the educational status values of the user dataset to fit our desired schema."
   ]
  },
  {
   "cell_type": "code",
   "execution_count": 43,
   "metadata": {},
   "outputs": [],
   "source": [
    "df = users[[\"UserID\", \"DegreeType\"]].replace({\"Associate's\": \"Bachelor's\", \n",
    "                             \"Vocational\": \"Bachelor's\", \n",
    "                             \"Master's\": \"PostGrad\", \n",
    "                             \"PhD\": \"PostGrad\"})"
   ]
  },
  {
   "cell_type": "markdown",
   "metadata": {},
   "source": [
    "Merge the data to create one dataframe with original User ID, row index in the sparse matrix, and educational status. Then separate indices by education status and convert to lists."
   ]
  },
  {
   "cell_type": "code",
   "execution_count": 44,
   "metadata": {},
   "outputs": [
    {
     "data": {
      "text/html": [
       "<div>\n",
       "<style scoped>\n",
       "    .dataframe tbody tr th:only-of-type {\n",
       "        vertical-align: middle;\n",
       "    }\n",
       "\n",
       "    .dataframe tbody tr th {\n",
       "        vertical-align: top;\n",
       "    }\n",
       "\n",
       "    .dataframe thead th {\n",
       "        text-align: right;\n",
       "    }\n",
       "</style>\n",
       "<table border=\"1\" class=\"dataframe\">\n",
       "  <thead>\n",
       "    <tr style=\"text-align: right;\">\n",
       "      <th></th>\n",
       "      <th>replacement</th>\n",
       "      <th>UserID</th>\n",
       "      <th>DegreeType</th>\n",
       "    </tr>\n",
       "  </thead>\n",
       "  <tbody>\n",
       "    <tr>\n",
       "      <th>0</th>\n",
       "      <td>0</td>\n",
       "      <td>554</td>\n",
       "      <td>Bachelor's</td>\n",
       "    </tr>\n",
       "    <tr>\n",
       "      <th>1</th>\n",
       "      <td>1</td>\n",
       "      <td>769</td>\n",
       "      <td>Bachelor's</td>\n",
       "    </tr>\n",
       "    <tr>\n",
       "      <th>2</th>\n",
       "      <td>2</td>\n",
       "      <td>1697</td>\n",
       "      <td>High School</td>\n",
       "    </tr>\n",
       "    <tr>\n",
       "      <th>3</th>\n",
       "      <td>3</td>\n",
       "      <td>2652</td>\n",
       "      <td>High School</td>\n",
       "    </tr>\n",
       "    <tr>\n",
       "      <th>4</th>\n",
       "      <td>4</td>\n",
       "      <td>4359</td>\n",
       "      <td>High School</td>\n",
       "    </tr>\n",
       "  </tbody>\n",
       "</table>\n",
       "</div>"
      ],
      "text/plain": [
       "   replacement  UserID   DegreeType\n",
       "0            0     554   Bachelor's\n",
       "1            1     769   Bachelor's\n",
       "2            2    1697  High School\n",
       "3            3    2652  High School\n",
       "4            4    4359  High School"
      ]
     },
     "execution_count": 44,
     "metadata": {},
     "output_type": "execute_result"
    }
   ],
   "source": [
    "lookup = data.merge(df, on=\"UserID\", how=\"inner\")\n",
    "lookup.head()"
   ]
  },
  {
   "cell_type": "code",
   "execution_count": 45,
   "metadata": {},
   "outputs": [],
   "source": [
    "high_school_indices = lookup[lookup[\"DegreeType\"] == \"High School\"][\"replacement\"].tolist()\n",
    "bachelors_indices = lookup[lookup[\"DegreeType\"] == \"Bachelor's\"][\"replacement\"].tolist()\n",
    "postgrad_indices = lookup[lookup[\"DegreeType\"] == \"PostGrad\"][\"replacement\"].tolist()"
   ]
  },
  {
   "cell_type": "markdown",
   "metadata": {},
   "source": [
    "Create matrix factorization model using optimal hyperparameters."
   ]
  },
  {
   "cell_type": "code",
   "execution_count": 46,
   "metadata": {},
   "outputs": [],
   "source": [
    "model = NMF(n_components=17, init='nndsvd', max_iter=10000, random_state=0, alpha=0.025)\n",
    "            # Fit model on training data\n",
    "user_vecs, item_vecs = model.fit_transform(csr), model.components_\n",
    "\n",
    "high_school_users = user_vecs[high_school_indices,:]\n",
    "pred = high_school_users.dot(item_vecs)"
   ]
  },
  {
   "cell_type": "markdown",
   "metadata": {},
   "source": [
    "Calculate RMSE (as an easy example metric) on whole matrix."
   ]
  },
  {
   "cell_type": "code",
   "execution_count": 51,
   "metadata": {},
   "outputs": [
    {
     "data": {
      "text/plain": [
       "0.990088617352351"
      ]
     },
     "execution_count": 51,
     "metadata": {},
     "output_type": "execute_result"
    }
   ],
   "source": [
    "from numpy import linalg as la\n",
    "from sklearn.metrics import roc_auc_score\n",
    "\n",
    "pred = user_vecs.dot(item_vecs)\n",
    "np.mean(np.linalg.norm(csr-pred, axis=0)**2)\n",
    "\n",
    "\n",
    "rows, cols = pred.shape\n",
    "\n",
    "scores = []\n",
    "for i in range(rows):\n",
    "    pred_row = pred[i,:]\n",
    "    actual_row = csr[i,:].toarray().reshape((7527, 1))\n",
    "    score = roc_auc_score(actual_row, pred_row)\n",
    "    scores.append(score)\n",
    "    \n",
    "np.mean(scores)\n",
    "#roc_auc_score(csr[0,:].toarray().reshape((2184,1)), pred[0,:])"
   ]
  },
  {
   "cell_type": "code",
   "execution_count": 53,
   "metadata": {},
   "outputs": [
    {
     "data": {
      "text/plain": [
       "0.9908733196642939"
      ]
     },
     "execution_count": 53,
     "metadata": {},
     "output_type": "execute_result"
    }
   ],
   "source": [
    "high_school_pred = pred[high_school_indices,:]\n",
    "high_school_actual = csr[high_school_indices,:]\n",
    "\n",
    "rows, cols = high_school_pred.shape\n",
    "scores = []\n",
    "for i in range(rows):\n",
    "    pred_row = pred[i,:]\n",
    "    actual_row = csr[i,:].toarray().reshape((7527, 1))\n",
    "    score = roc_auc_score(actual_row, pred_row)\n",
    "    scores.append(score)\n",
    "    \n",
    "np.mean(scores)"
   ]
  },
  {
   "cell_type": "code",
   "execution_count": 54,
   "metadata": {},
   "outputs": [
    {
     "data": {
      "text/plain": [
       "0.9895682137842222"
      ]
     },
     "execution_count": 54,
     "metadata": {},
     "output_type": "execute_result"
    }
   ],
   "source": [
    "college_pred = pred[bachelors_indices,:]\n",
    "college_actual = csr[bachelors_indices,:]\n",
    "\n",
    "rows, cols = college_pred.shape\n",
    "\n",
    "scores = []\n",
    "for i in range(rows):\n",
    "    pred_row = pred[i,:]\n",
    "    actual_row = csr[i,:].toarray().reshape((7527, 1))\n",
    "    score = roc_auc_score(actual_row, pred_row)\n",
    "    scores.append(score)\n",
    "    \n",
    "np.mean(scores)"
   ]
  },
  {
   "cell_type": "code",
   "execution_count": 56,
   "metadata": {},
   "outputs": [
    {
     "data": {
      "text/plain": [
       "0.9917091264660798"
      ]
     },
     "execution_count": 56,
     "metadata": {},
     "output_type": "execute_result"
    }
   ],
   "source": [
    "postgrad_pred = pred[postgrad_indices,:]\n",
    "postgrad_actual = csr[postgrad_indices,:]\n",
    "\n",
    "rows, cols = postgrad_pred.shape\n",
    "\n",
    "scores = []\n",
    "for i in range(rows):\n",
    "    pred_row = pred[i,:]\n",
    "    actual_row = csr[i,:].toarray().reshape((7527, 1))\n",
    "    score = roc_auc_score(actual_row, pred_row)\n",
    "    scores.append(score)\n",
    "    \n",
    "np.mean(scores)"
   ]
  },
  {
   "cell_type": "code",
   "execution_count": 150,
   "metadata": {},
   "outputs": [
    {
     "data": {
      "text/plain": [
       "0.004425801288198736"
      ]
     },
     "execution_count": 150,
     "metadata": {},
     "output_type": "execute_result"
    }
   ],
   "source": [
    "1/3322 * np.sum(abs((high_school_pred.mean(axis=0) - np.mean(high_school_pred)) - (postgrad_pred.mean(axis=0) - np.mean(postgrad_pred))))"
   ]
  },
  {
   "cell_type": "code",
   "execution_count": 146,
   "metadata": {},
   "outputs": [
    {
     "data": {
      "text/plain": [
       "-4.728975255402157e-18"
      ]
     },
     "execution_count": 146,
     "metadata": {},
     "output_type": "execute_result"
    }
   ],
   "source": [
    "1/3322 * np.sum((high_school_pred.mean(axis=0) - np.mean(high_school_pred)) - (college_pred.mean(axis=0) - np.mean(college_pred)))"
   ]
  },
  {
   "cell_type": "code",
   "execution_count": 147,
   "metadata": {},
   "outputs": [
    {
     "data": {
      "text/plain": [
       "5.180149573055366e-19"
      ]
     },
     "execution_count": 147,
     "metadata": {},
     "output_type": "execute_result"
    }
   ],
   "source": [
    "1/3322 * np.sum((college_pred.mean(axis=0) - np.mean(college_pred)) - (postgrad_pred.mean(axis=0) - np.mean(postgrad_pred)))"
   ]
  },
  {
   "cell_type": "code",
   "execution_count": 131,
   "metadata": {},
   "outputs": [
    {
     "data": {
      "text/plain": [
       "(55, 3322)"
      ]
     },
     "execution_count": 131,
     "metadata": {},
     "output_type": "execute_result"
    }
   ],
   "source": [
    "postgrad_pred.shape"
   ]
  },
  {
   "cell_type": "code",
   "execution_count": 134,
   "metadata": {},
   "outputs": [
    {
     "data": {
      "text/plain": [
       "(3322,)"
      ]
     },
     "execution_count": 134,
     "metadata": {},
     "output_type": "execute_result"
    }
   ],
   "source": [
    "high_school_pred.mean(axis=0).shape"
   ]
  },
  {
   "cell_type": "code",
   "execution_count": 172,
   "metadata": {},
   "outputs": [
    {
     "name": "stdout",
     "output_type": "stream",
     "text": [
      "3322\n"
     ]
    },
    {
     "data": {
      "text/plain": [
       "0.004425801288198736"
      ]
     },
     "execution_count": 172,
     "metadata": {},
     "output_type": "execute_result"
    }
   ],
   "source": [
    "def value_unfairness(advantaged, disadvantaged):\n",
    "    '''\n",
    "    measures inconsistency in signed estimation error across\n",
    "    the user types\n",
    "    \n",
    "    Value unfairness occurs when one class of user is consistently given higher or lower predictions\n",
    "    than their true preferences. If the errors in prediction are evenly balanced between overestimation\n",
    "    and underestimation or if both classes of users have the same direction and magnitude of error, the\n",
    "    value unfairness becomes small. Value unfairness becomes large when predictions for one class\n",
    "    are consistently overestimated and predictions for the other class are consistently underestimated.\n",
    "    '''\n",
    "    rows, cols = advantaged.shape\n",
    "    n = cols\n",
    "    print(n)\n",
    "    ddiff = disadvantaged.mean(axis=0) - np.mean(disadvantaged)\n",
    "    adiff = advantaged.mean(axis=0) - np.mean(advantaged)\n",
    "    return 1/ n * np.sum(abs(ddiff - adiff))\n",
    "\n",
    "def absolute_unfairness(advantaged, disadvantaged):\n",
    "    '''\n",
    "    measures inconsistency in absolute estimation error\n",
    "    across user types\n",
    "    \n",
    "    Absolute unfairness is unsigned, so it captures a single statistic representing the quality of prediction\n",
    "    for each user type. If one user type has small reconstruction error and the other user type has large\n",
    "    4reconstruction error, one type of user has the unfair advantage of good recommendation, while the\n",
    "    other user type has poor recommendation. In contrast to value unfairness, absolute unfairness does\n",
    "    not consider the direction of error. For example, if female students are given predictions 0.5 points\n",
    "    below their true preferences and male students are given predictions 0.5 points above their true\n",
    "    preferences, there is no absolute unfairness.\n",
    "    '''\n",
    "    rows, cols = advantaged.shape\n",
    "    n = cols\n",
    "    print(n)\n",
    "    ddiff = abs(disadvantaged.mean(axis=0) - np.mean(disadvantaged))\n",
    "    adiff = abs(advantaged.mean(axis=0) - np.mean(advantaged))\n",
    "    return 1/ n * np.sum(abs(ddiff - adiff))\n",
    "\n",
    "def underestimation_unfairness(advantaged, disadvantaged):\n",
    "    '''\n",
    "    measures inconsistency in how much the\n",
    "    predictions underestimate the true ratings\n",
    "    '''\n",
    "    rows, cols = advantaged.shape\n",
    "    n = cols\n",
    "    print(n)\n",
    "    ddiff =  (np.mean(disadvantaged) - disadvantaged.mean(axis=0)).clip(min=0)\n",
    "    adiff = (np.mean(advantaged) - advantaged.mean(axis=0)).clip(min=0)\n",
    "    return 1 / n * np.sum(abs(ddiff - adiff))\n",
    "\n",
    "def overestimation_unfairness(advantaged, disadvantaged):\n",
    "    \n",
    "    rows, cols = advantaged.shape\n",
    "    n = cols\n",
    "    print(n)\n",
    "    ddiff = (disadvantaged.mean(axis=0) - np.mean(disadvantaged)).clip(min=0)\n",
    "    adiff = (advantaged.mean(axis=0) - np.mean(advantaged)).clip(min=0)\n",
    "    return 1 / n * np.sum(abs(ddiff - adiff))\n",
    "    \n",
    "    \n",
    "value_unfairness(high_school_pred, postgrad_pred)\n"
   ]
  },
  {
   "cell_type": "code",
   "execution_count": 154,
   "metadata": {},
   "outputs": [
    {
     "name": "stdout",
     "output_type": "stream",
     "text": [
      "3322\n"
     ]
    },
    {
     "data": {
      "text/plain": [
       "0.0025688995204187944"
      ]
     },
     "execution_count": 154,
     "metadata": {},
     "output_type": "execute_result"
    }
   ],
   "source": [
    "absolute_unfairness(high_school_pred, college_pred)"
   ]
  },
  {
   "cell_type": "code",
   "execution_count": 151,
   "metadata": {},
   "outputs": [
    {
     "name": "stdout",
     "output_type": "stream",
     "text": [
      "3322\n"
     ]
    },
    {
     "data": {
      "text/plain": [
       "0.0025817670132914096"
      ]
     },
     "execution_count": 151,
     "metadata": {},
     "output_type": "execute_result"
    }
   ],
   "source": [
    "value_unfairness(high_school_pred, college_pred)"
   ]
  },
  {
   "cell_type": "code",
   "execution_count": 169,
   "metadata": {},
   "outputs": [
    {
     "name": "stdout",
     "output_type": "stream",
     "text": [
      "3322\n"
     ]
    },
    {
     "data": {
      "text/plain": [
       "0.0027074302898932086"
      ]
     },
     "execution_count": 169,
     "metadata": {},
     "output_type": "execute_result"
    }
   ],
   "source": [
    "overestimation_unfairness(high_school_pred, postgrad_pred)"
   ]
  },
  {
   "cell_type": "code",
   "execution_count": 167,
   "metadata": {},
   "outputs": [
    {
     "name": "stdout",
     "output_type": "stream",
     "text": [
      "3322\n"
     ]
    },
    {
     "data": {
      "text/plain": [
       "0.001718370998305527"
      ]
     },
     "execution_count": 167,
     "metadata": {},
     "output_type": "execute_result"
    }
   ],
   "source": [
    "underestimation_unfairness(high_school_pred, postgrad_pred)"
   ]
  },
  {
   "cell_type": "code",
   "execution_count": 159,
   "metadata": {},
   "outputs": [],
   "source": [
    "advantaged = postgrad_pred\n",
    "diffs = np.mean(advantaged) - advantaged.mean(axis=0)"
   ]
  },
  {
   "cell_type": "code",
   "execution_count": 160,
   "metadata": {},
   "outputs": [
    {
     "data": {
      "text/plain": [
       "array([0.        , 0.00330095, 0.00330095, ..., 0.00330095, 0.00330095,\n",
       "       0.        ])"
      ]
     },
     "execution_count": 160,
     "metadata": {},
     "output_type": "execute_result"
    }
   ],
   "source": [
    "diffs.clip(min=0)"
   ]
  },
  {
   "cell_type": "code",
   "execution_count": 161,
   "metadata": {},
   "outputs": [
    {
     "data": {
      "text/plain": [
       "array([-0.00536968,  0.00330095,  0.00330095, ...,  0.00330095,\n",
       "        0.00330095, -0.00613694])"
      ]
     },
     "execution_count": 161,
     "metadata": {},
     "output_type": "execute_result"
    }
   ],
   "source": [
    "diffs"
   ]
  },
  {
   "cell_type": "code",
   "execution_count": 175,
   "metadata": {},
   "outputs": [
    {
     "name": "stdout",
     "output_type": "stream",
     "text": [
      "3322\n",
      "3322\n",
      "3322\n",
      "3322\n",
      "3322\n",
      "3322\n",
      "3322\n",
      "3322\n",
      "3322\n"
     ]
    }
   ],
   "source": [
    "ed = [high_school_pred, college_pred, postgrad_pred]\n",
    "funcs = [value_unfairness, absolute_unfairness, underestimation_unfairness, overestimation_unfairness]\n",
    "\n",
    "value = np.zeros((len(ed), len(ed)))\n",
    "for i, val in enumerate(ed):\n",
    "    for j, val2 in enumerate(ed):\n",
    "        value[i,j] = value_unfairness(val, val2)\n"
   ]
  },
  {
   "cell_type": "code",
   "execution_count": 176,
   "metadata": {},
   "outputs": [
    {
     "data": {
      "text/plain": [
       "array([[0.        , 0.00258177, 0.0044258 ],\n",
       "       [0.00258177, 0.        , 0.00338724],\n",
       "       [0.0044258 , 0.00338724, 0.        ]])"
      ]
     },
     "execution_count": 176,
     "metadata": {},
     "output_type": "execute_result"
    }
   ],
   "source": [
    "value"
   ]
  },
  {
   "cell_type": "code",
   "execution_count": null,
   "metadata": {},
   "outputs": [],
   "source": []
  }
 ],
 "metadata": {
  "colab": {
   "collapsed_sections": [],
   "name": "CareerBuilder_Data_Exploration.ipynb",
   "provenance": [],
   "toc_visible": true
  },
  "kernelspec": {
   "display_name": "Python 3",
   "language": "python",
   "name": "python3"
  },
  "language_info": {
   "codemirror_mode": {
    "name": "ipython",
    "version": 3
   },
   "file_extension": ".py",
   "mimetype": "text/x-python",
   "name": "python",
   "nbconvert_exporter": "python",
   "pygments_lexer": "ipython3",
   "version": "3.8.5"
  }
 },
 "nbformat": 4,
 "nbformat_minor": 1
}
