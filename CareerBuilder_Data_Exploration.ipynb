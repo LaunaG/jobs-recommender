{
  "nbformat": 4,
  "nbformat_minor": 0,
  "metadata": {
    "colab": {
      "name": "CareerBuilder_Data_Exploration.ipynb",
      "provenance": [],
      "collapsed_sections": [],
      "toc_visible": true
    },
    "kernelspec": {
      "name": "python3",
      "display_name": "Python 3"
    }
  },
  "cells": [
    {
      "cell_type": "markdown",
      "metadata": {
        "id": "sMJrtsqL1Bga"
      },
      "source": [
        "# Data Setup and Exploration"
      ]
    },
    {
      "cell_type": "markdown",
      "metadata": {
        "id": "LQHh8cvsfSHK"
      },
      "source": [
        "### **Setup**"
      ]
    },
    {
      "cell_type": "markdown",
      "metadata": {
        "id": "CBiUtCmkbdED"
      },
      "source": [
        "**Import Required Libraries**"
      ]
    },
    {
      "cell_type": "code",
      "metadata": {
        "id": "1yRAYKrpbaJR"
      },
      "source": [
        "import glob\n",
        "import gzip\n",
        "import os\n",
        "import pandas as pd\n",
        "import requests\n",
        "import zipfile\n",
        "\n",
        "from google.colab import drive, files"
      ],
      "execution_count": 1,
      "outputs": []
    },
    {
      "cell_type": "markdown",
      "metadata": {
        "id": "U-5_iRO3bieI"
      },
      "source": [
        "**Load Datasets into Local Colab Storage**\n",
        "\n",
        "The data is sourced from CareerBuilder.com's [Job Recommendation Challenge](https://www.kaggle.com/c/job-recommendation/data), hosted on Kaggle in 2012.\n",
        "\n",
        "*Technical Notes:*\n",
        " \n",
        "*   Because the files are large, this cell takes a few minutes to run (< 5 minutes).\n",
        "\n",
        "*   Unfortunately, data does not persist in the local storage system between sessions, so you have to rerun this cell from time to time."
      ]
    },
    {
      "cell_type": "code",
      "metadata": {
        "id": "0yFLv4-PSLjr"
      },
      "source": [
        "# If data files are not already in local storage\n",
        "if not os.path.isdir(\"data\"):\n",
        "\n",
        "  # Retrieve zip file from Dropbox and write to base/default folder\n",
        "  r = requests.get(\"https://www.dropbox.com/s/v2fdobitjrjieku/data.zip?dl=1\")\n",
        "  with open(\"data.zip\", 'wb') as f:\n",
        "      f.write(r.content)\n",
        "\n",
        "  # Extract zip file contents to create local data folder with .tsv.gz files\n",
        "  with zipfile.ZipFile(\"data.zip\", 'r') as zip_ref:\n",
        "      zip_ref.extractall(\".\")\n",
        "\n",
        "  # For each unzipped file path\n",
        "  for path in glob.glob(\"data/*.tsv.gz\"):\n",
        "\n",
        "    # Create destination file path\n",
        "    dest_path = f'data/{os.path.basename(path)[:-3]}'\n",
        "\n",
        "    # Open unzipped file for reading and destination file for writing\n",
        "    with open(path, 'rb') as f:\n",
        "      with open(dest_path, 'wb') as g:\n",
        "\n",
        "            # Decompress unzipped file data and write to destination\n",
        "            decompressed = gzip.decompress(f.read())\n",
        "            g.write(decompressed)\n",
        "\n",
        "    # Delete original compressed file\n",
        "    os.remove(path)\n",
        "\n",
        "  # Delete zip file\n",
        "  os.remove(\"data.zip\")"
      ],
      "execution_count": 2,
      "outputs": []
    },
    {
      "cell_type": "markdown",
      "metadata": {
        "id": "l6nqN9HE1Oer"
      },
      "source": [
        "### **Exploration**"
      ]
    },
    {
      "cell_type": "markdown",
      "metadata": {
        "id": "U4JJrmSVeXKR"
      },
      "source": [
        "**Users**\n",
        "\n",
        "Potential disadvantaged groups to examine:\n",
        "\n",
        "\n",
        "*   Users who have a high-school diploma or less\n",
        "*   Users based in zip codes associated with lower incomes/mobility\n",
        "*   Users whose graduation date would put them in an older age bracket"
      ]
    },
    {
      "cell_type": "markdown",
      "metadata": {
        "id": "_6KdM9wz5JpN"
      },
      "source": [
        "*users.tsv - Holds all users and their metadata*"
      ]
    },
    {
      "cell_type": "code",
      "metadata": {
        "id": "Dvru3d3tD04n",
        "colab": {
          "base_uri": "https://localhost:8080/",
          "height": 309
        },
        "outputId": "68ae048e-b4dc-4010-d686-c3a4e32b800d"
      },
      "source": [
        "# File Preview\n",
        "users = pd.read_csv(\"data/users.tsv\", sep=\"\\t\")\n",
        "users.head(5)"
      ],
      "execution_count": null,
      "outputs": [
        {
          "output_type": "execute_result",
          "data": {
            "text/html": [
              "<div>\n",
              "<style scoped>\n",
              "    .dataframe tbody tr th:only-of-type {\n",
              "        vertical-align: middle;\n",
              "    }\n",
              "\n",
              "    .dataframe tbody tr th {\n",
              "        vertical-align: top;\n",
              "    }\n",
              "\n",
              "    .dataframe thead th {\n",
              "        text-align: right;\n",
              "    }\n",
              "</style>\n",
              "<table border=\"1\" class=\"dataframe\">\n",
              "  <thead>\n",
              "    <tr style=\"text-align: right;\">\n",
              "      <th></th>\n",
              "      <th>UserID</th>\n",
              "      <th>WindowID</th>\n",
              "      <th>Split</th>\n",
              "      <th>City</th>\n",
              "      <th>State</th>\n",
              "      <th>Country</th>\n",
              "      <th>ZipCode</th>\n",
              "      <th>DegreeType</th>\n",
              "      <th>Major</th>\n",
              "      <th>GraduationDate</th>\n",
              "      <th>WorkHistoryCount</th>\n",
              "      <th>TotalYearsExperience</th>\n",
              "      <th>CurrentlyEmployed</th>\n",
              "      <th>ManagedOthers</th>\n",
              "      <th>ManagedHowMany</th>\n",
              "    </tr>\n",
              "  </thead>\n",
              "  <tbody>\n",
              "    <tr>\n",
              "      <th>0</th>\n",
              "      <td>47</td>\n",
              "      <td>1</td>\n",
              "      <td>Train</td>\n",
              "      <td>Paramount</td>\n",
              "      <td>CA</td>\n",
              "      <td>US</td>\n",
              "      <td>90723</td>\n",
              "      <td>High School</td>\n",
              "      <td>NaN</td>\n",
              "      <td>1999-06-01 00:00:00</td>\n",
              "      <td>3</td>\n",
              "      <td>10.0</td>\n",
              "      <td>Yes</td>\n",
              "      <td>No</td>\n",
              "      <td>0</td>\n",
              "    </tr>\n",
              "    <tr>\n",
              "      <th>1</th>\n",
              "      <td>72</td>\n",
              "      <td>1</td>\n",
              "      <td>Train</td>\n",
              "      <td>La Mesa</td>\n",
              "      <td>CA</td>\n",
              "      <td>US</td>\n",
              "      <td>91941</td>\n",
              "      <td>Master's</td>\n",
              "      <td>Anthropology</td>\n",
              "      <td>2011-01-01 00:00:00</td>\n",
              "      <td>10</td>\n",
              "      <td>8.0</td>\n",
              "      <td>Yes</td>\n",
              "      <td>No</td>\n",
              "      <td>0</td>\n",
              "    </tr>\n",
              "    <tr>\n",
              "      <th>2</th>\n",
              "      <td>80</td>\n",
              "      <td>1</td>\n",
              "      <td>Train</td>\n",
              "      <td>Williamstown</td>\n",
              "      <td>NJ</td>\n",
              "      <td>US</td>\n",
              "      <td>08094</td>\n",
              "      <td>High School</td>\n",
              "      <td>Not Applicable</td>\n",
              "      <td>1985-06-01 00:00:00</td>\n",
              "      <td>5</td>\n",
              "      <td>11.0</td>\n",
              "      <td>Yes</td>\n",
              "      <td>Yes</td>\n",
              "      <td>5</td>\n",
              "    </tr>\n",
              "    <tr>\n",
              "      <th>3</th>\n",
              "      <td>98</td>\n",
              "      <td>1</td>\n",
              "      <td>Train</td>\n",
              "      <td>Astoria</td>\n",
              "      <td>NY</td>\n",
              "      <td>US</td>\n",
              "      <td>11105</td>\n",
              "      <td>Master's</td>\n",
              "      <td>Journalism</td>\n",
              "      <td>2007-05-01 00:00:00</td>\n",
              "      <td>3</td>\n",
              "      <td>3.0</td>\n",
              "      <td>Yes</td>\n",
              "      <td>No</td>\n",
              "      <td>0</td>\n",
              "    </tr>\n",
              "    <tr>\n",
              "      <th>4</th>\n",
              "      <td>123</td>\n",
              "      <td>1</td>\n",
              "      <td>Train</td>\n",
              "      <td>Baton Rouge</td>\n",
              "      <td>LA</td>\n",
              "      <td>US</td>\n",
              "      <td>70808</td>\n",
              "      <td>Bachelor's</td>\n",
              "      <td>Agricultural Business</td>\n",
              "      <td>2011-05-01 00:00:00</td>\n",
              "      <td>1</td>\n",
              "      <td>9.0</td>\n",
              "      <td>Yes</td>\n",
              "      <td>No</td>\n",
              "      <td>0</td>\n",
              "    </tr>\n",
              "  </tbody>\n",
              "</table>\n",
              "</div>"
            ],
            "text/plain": [
              "   UserID  WindowID  Split  ... CurrentlyEmployed ManagedOthers ManagedHowMany\n",
              "0      47         1  Train  ...               Yes            No              0\n",
              "1      72         1  Train  ...               Yes            No              0\n",
              "2      80         1  Train  ...               Yes           Yes              5\n",
              "3      98         1  Train  ...               Yes            No              0\n",
              "4     123         1  Train  ...               Yes            No              0\n",
              "\n",
              "[5 rows x 15 columns]"
            ]
          },
          "metadata": {
            "tags": []
          },
          "execution_count": 3
        }
      ]
    },
    {
      "cell_type": "code",
      "metadata": {
        "id": "X1ffdStwzNcf",
        "colab": {
          "base_uri": "https://localhost:8080/",
          "height": 266
        },
        "outputId": "06069e1d-a87a-4794-f386-287e6dd5a02a"
      },
      "source": [
        "# Degree type counts\n",
        "users[\"DegreeType\"].value_counts().to_frame()"
      ],
      "execution_count": null,
      "outputs": [
        {
          "output_type": "execute_result",
          "data": {
            "text/html": [
              "<div>\n",
              "<style scoped>\n",
              "    .dataframe tbody tr th:only-of-type {\n",
              "        vertical-align: middle;\n",
              "    }\n",
              "\n",
              "    .dataframe tbody tr th {\n",
              "        vertical-align: top;\n",
              "    }\n",
              "\n",
              "    .dataframe thead th {\n",
              "        text-align: right;\n",
              "    }\n",
              "</style>\n",
              "<table border=\"1\" class=\"dataframe\">\n",
              "  <thead>\n",
              "    <tr style=\"text-align: right;\">\n",
              "      <th></th>\n",
              "      <th>DegreeType</th>\n",
              "    </tr>\n",
              "  </thead>\n",
              "  <tbody>\n",
              "    <tr>\n",
              "      <th>Bachelor's</th>\n",
              "      <td>104210</td>\n",
              "    </tr>\n",
              "    <tr>\n",
              "      <th>None</th>\n",
              "      <td>100153</td>\n",
              "    </tr>\n",
              "    <tr>\n",
              "      <th>High School</th>\n",
              "      <td>93305</td>\n",
              "    </tr>\n",
              "    <tr>\n",
              "      <th>Associate's</th>\n",
              "      <td>45786</td>\n",
              "    </tr>\n",
              "    <tr>\n",
              "      <th>Master's</th>\n",
              "      <td>35330</td>\n",
              "    </tr>\n",
              "    <tr>\n",
              "      <th>Vocational</th>\n",
              "      <td>6981</td>\n",
              "    </tr>\n",
              "    <tr>\n",
              "      <th>PhD</th>\n",
              "      <td>3943</td>\n",
              "    </tr>\n",
              "  </tbody>\n",
              "</table>\n",
              "</div>"
            ],
            "text/plain": [
              "             DegreeType\n",
              "Bachelor's       104210\n",
              "None             100153\n",
              "High School       93305\n",
              "Associate's       45786\n",
              "Master's          35330\n",
              "Vocational         6981\n",
              "PhD                3943"
            ]
          },
          "metadata": {
            "tags": []
          },
          "execution_count": 4
        }
      ]
    },
    {
      "cell_type": "code",
      "metadata": {
        "id": "Oo6wKsed-H9N",
        "colab": {
          "base_uri": "https://localhost:8080/"
        },
        "outputId": "8ff09f47-41fd-4878-91a9-e653cb07d367"
      },
      "source": [
        "# Total number of users in dataset\n",
        "len(users)"
      ],
      "execution_count": null,
      "outputs": [
        {
          "output_type": "execute_result",
          "data": {
            "text/plain": [
              "389708"
            ]
          },
          "metadata": {
            "tags": []
          },
          "execution_count": 5
        }
      ]
    },
    {
      "cell_type": "markdown",
      "metadata": {
        "id": "drQ3xfPu5jG8"
      },
      "source": [
        "*users_history.tsv - Holds users' past job title(s)*"
      ]
    },
    {
      "cell_type": "code",
      "metadata": {
        "id": "Lou4tAfWyek3",
        "colab": {
          "base_uri": "https://localhost:8080/",
          "height": 204
        },
        "outputId": "dfedd86a-8aa7-4bfc-8b61-4d305364cc80"
      },
      "source": [
        "# File preview\n",
        "user_history = pd.read_csv(\"data/user_history.tsv\", sep=\"\\t\")\n",
        "user_history.head(5)"
      ],
      "execution_count": null,
      "outputs": [
        {
          "output_type": "execute_result",
          "data": {
            "text/html": [
              "<div>\n",
              "<style scoped>\n",
              "    .dataframe tbody tr th:only-of-type {\n",
              "        vertical-align: middle;\n",
              "    }\n",
              "\n",
              "    .dataframe tbody tr th {\n",
              "        vertical-align: top;\n",
              "    }\n",
              "\n",
              "    .dataframe thead th {\n",
              "        text-align: right;\n",
              "    }\n",
              "</style>\n",
              "<table border=\"1\" class=\"dataframe\">\n",
              "  <thead>\n",
              "    <tr style=\"text-align: right;\">\n",
              "      <th></th>\n",
              "      <th>UserID</th>\n",
              "      <th>WindowID</th>\n",
              "      <th>Split</th>\n",
              "      <th>Sequence</th>\n",
              "      <th>JobTitle</th>\n",
              "    </tr>\n",
              "  </thead>\n",
              "  <tbody>\n",
              "    <tr>\n",
              "      <th>0</th>\n",
              "      <td>47</td>\n",
              "      <td>1</td>\n",
              "      <td>Train</td>\n",
              "      <td>1</td>\n",
              "      <td>National Space Communication Programs-Special ...</td>\n",
              "    </tr>\n",
              "    <tr>\n",
              "      <th>1</th>\n",
              "      <td>47</td>\n",
              "      <td>1</td>\n",
              "      <td>Train</td>\n",
              "      <td>2</td>\n",
              "      <td>Detention Officer</td>\n",
              "    </tr>\n",
              "    <tr>\n",
              "      <th>2</th>\n",
              "      <td>47</td>\n",
              "      <td>1</td>\n",
              "      <td>Train</td>\n",
              "      <td>3</td>\n",
              "      <td>Passenger Screener, TSA</td>\n",
              "    </tr>\n",
              "    <tr>\n",
              "      <th>3</th>\n",
              "      <td>72</td>\n",
              "      <td>1</td>\n",
              "      <td>Train</td>\n",
              "      <td>1</td>\n",
              "      <td>Lecturer, Department of Anthropology</td>\n",
              "    </tr>\n",
              "    <tr>\n",
              "      <th>4</th>\n",
              "      <td>72</td>\n",
              "      <td>1</td>\n",
              "      <td>Train</td>\n",
              "      <td>2</td>\n",
              "      <td>Student Assistant</td>\n",
              "    </tr>\n",
              "  </tbody>\n",
              "</table>\n",
              "</div>"
            ],
            "text/plain": [
              "   UserID  ...                                           JobTitle\n",
              "0      47  ...  National Space Communication Programs-Special ...\n",
              "1      47  ...                                  Detention Officer\n",
              "2      47  ...                            Passenger Screener, TSA\n",
              "3      72  ...               Lecturer, Department of Anthropology\n",
              "4      72  ...                                  Student Assistant\n",
              "\n",
              "[5 rows x 5 columns]"
            ]
          },
          "metadata": {
            "tags": []
          },
          "execution_count": 6
        }
      ]
    },
    {
      "cell_type": "code",
      "metadata": {
        "id": "Y-yIaFkIyxrw",
        "colab": {
          "base_uri": "https://localhost:8080/"
        },
        "outputId": "edbc4975-60dc-4f35-c80e-38b54d857f4a"
      },
      "source": [
        "# Example job titles for a random user\n",
        "list(user_history.query(\"UserID == 47\")[\"JobTitle\"])"
      ],
      "execution_count": null,
      "outputs": [
        {
          "output_type": "execute_result",
          "data": {
            "text/plain": [
              "['National Space Communication Programs-Special Program Supervisor',\n",
              " 'Detention Officer',\n",
              " 'Passenger Screener, TSA']"
            ]
          },
          "metadata": {
            "tags": []
          },
          "execution_count": 7
        }
      ]
    },
    {
      "cell_type": "markdown",
      "metadata": {
        "id": "oXGr4F4R-Xe3"
      },
      "source": [
        "**Jobs**\n",
        "\n",
        "*jobs.tsv: Holds the jobs available on CareerBuilder.com during a 13-day window*"
      ]
    },
    {
      "cell_type": "code",
      "metadata": {
        "id": "CVCZlpf396bx",
        "colab": {
          "base_uri": "https://localhost:8080/",
          "height": 445
        },
        "outputId": "08c00384-4bef-46b2-e895-258aa9f1195b"
      },
      "source": [
        "# File preview for jobs listed in the first of the seven windows\n",
        "# Note: This file has an error in one of its lines that should be corrected\n",
        "jobs1 = pd.read_csv(\"data/jobs1.tsv\", sep=\"\\t\", error_bad_lines=False)\n",
        "jobs1.head(5)"
      ],
      "execution_count": null,
      "outputs": [
        {
          "output_type": "stream",
          "text": [
            "b'Skipping line 122433: expected 11 fields, saw 12\\n'\n",
            "/usr/local/lib/python3.6/dist-packages/IPython/core/interactiveshell.py:2718: DtypeWarning: Columns (8) have mixed types.Specify dtype option on import or set low_memory=False.\n",
            "  interactivity=interactivity, compiler=compiler, result=result)\n"
          ],
          "name": "stderr"
        },
        {
          "output_type": "execute_result",
          "data": {
            "text/html": [
              "<div>\n",
              "<style scoped>\n",
              "    .dataframe tbody tr th:only-of-type {\n",
              "        vertical-align: middle;\n",
              "    }\n",
              "\n",
              "    .dataframe tbody tr th {\n",
              "        vertical-align: top;\n",
              "    }\n",
              "\n",
              "    .dataframe thead th {\n",
              "        text-align: right;\n",
              "    }\n",
              "</style>\n",
              "<table border=\"1\" class=\"dataframe\">\n",
              "  <thead>\n",
              "    <tr style=\"text-align: right;\">\n",
              "      <th></th>\n",
              "      <th>JobID</th>\n",
              "      <th>WindowID</th>\n",
              "      <th>Title</th>\n",
              "      <th>Description</th>\n",
              "      <th>Requirements</th>\n",
              "      <th>City</th>\n",
              "      <th>State</th>\n",
              "      <th>Country</th>\n",
              "      <th>Zip5</th>\n",
              "      <th>StartDate</th>\n",
              "      <th>EndDate</th>\n",
              "    </tr>\n",
              "  </thead>\n",
              "  <tbody>\n",
              "    <tr>\n",
              "      <th>0</th>\n",
              "      <td>1</td>\n",
              "      <td>1</td>\n",
              "      <td>Security Engineer/Technical Lead</td>\n",
              "      <td>&lt;p&gt;Security Clearance Required:&amp;nbsp; Top Secr...</td>\n",
              "      <td>&lt;p&gt;SKILL SET&lt;/p&gt;\\r&lt;p&gt;&amp;nbsp;&lt;/p&gt;\\r&lt;p&gt;Network Se...</td>\n",
              "      <td>Washington</td>\n",
              "      <td>DC</td>\n",
              "      <td>US</td>\n",
              "      <td>20531</td>\n",
              "      <td>2012-03-07 13:17:01.643</td>\n",
              "      <td>2012-04-06 23:59:59</td>\n",
              "    </tr>\n",
              "    <tr>\n",
              "      <th>1</th>\n",
              "      <td>4</td>\n",
              "      <td>1</td>\n",
              "      <td>SAP Business Analyst / WM</td>\n",
              "      <td>&lt;strong&gt;NO Corp. to Corp resumes&amp;nbsp;are bein...</td>\n",
              "      <td>&lt;p&gt;&lt;b&gt;WHAT YOU NEED: &lt;/b&gt;&lt;/p&gt;\\r&lt;p&gt;Four year co...</td>\n",
              "      <td>Charlotte</td>\n",
              "      <td>NC</td>\n",
              "      <td>US</td>\n",
              "      <td>28217</td>\n",
              "      <td>2012-03-21 02:03:44.137</td>\n",
              "      <td>2012-04-20 23:59:59</td>\n",
              "    </tr>\n",
              "    <tr>\n",
              "      <th>2</th>\n",
              "      <td>7</td>\n",
              "      <td>1</td>\n",
              "      <td>P/T HUMAN RESOURCES ASSISTANT</td>\n",
              "      <td>&lt;b&gt;    &lt;b&gt; P/T HUMAN RESOURCES ASSISTANT&lt;/b&gt; &lt;...</td>\n",
              "      <td>Please refer to the Job Description to view th...</td>\n",
              "      <td>Winter Park</td>\n",
              "      <td>FL</td>\n",
              "      <td>US</td>\n",
              "      <td>32792</td>\n",
              "      <td>2012-03-02 16:36:55.447</td>\n",
              "      <td>2012-04-01 23:59:59</td>\n",
              "    </tr>\n",
              "    <tr>\n",
              "      <th>3</th>\n",
              "      <td>8</td>\n",
              "      <td>1</td>\n",
              "      <td>Route Delivery Drivers</td>\n",
              "      <td>CITY BEVERAGES Come to work for the best in th...</td>\n",
              "      <td>Please refer to the Job Description to view th...</td>\n",
              "      <td>Orlando</td>\n",
              "      <td>FL</td>\n",
              "      <td>US</td>\n",
              "      <td>NaN</td>\n",
              "      <td>2012-03-03 09:01:10.077</td>\n",
              "      <td>2012-04-02 23:59:59</td>\n",
              "    </tr>\n",
              "    <tr>\n",
              "      <th>4</th>\n",
              "      <td>9</td>\n",
              "      <td>1</td>\n",
              "      <td>Housekeeping</td>\n",
              "      <td>I make  sure every part of their day is magica...</td>\n",
              "      <td>Please refer to the Job Description to view th...</td>\n",
              "      <td>Orlando</td>\n",
              "      <td>FL</td>\n",
              "      <td>US</td>\n",
              "      <td>NaN</td>\n",
              "      <td>2012-03-03 09:01:11.88</td>\n",
              "      <td>2012-04-02 23:59:59</td>\n",
              "    </tr>\n",
              "  </tbody>\n",
              "</table>\n",
              "</div>"
            ],
            "text/plain": [
              "   JobID  WindowID  ...                StartDate              EndDate\n",
              "0      1         1  ...  2012-03-07 13:17:01.643  2012-04-06 23:59:59\n",
              "1      4         1  ...  2012-03-21 02:03:44.137  2012-04-20 23:59:59\n",
              "2      7         1  ...  2012-03-02 16:36:55.447  2012-04-01 23:59:59\n",
              "3      8         1  ...  2012-03-03 09:01:10.077  2012-04-02 23:59:59\n",
              "4      9         1  ...   2012-03-03 09:01:11.88  2012-04-02 23:59:59\n",
              "\n",
              "[5 rows x 11 columns]"
            ]
          },
          "metadata": {
            "tags": []
          },
          "execution_count": 8
        }
      ]
    },
    {
      "cell_type": "code",
      "metadata": {
        "id": "37Df2bEj_bBs",
        "colab": {
          "base_uri": "https://localhost:8080/"
        },
        "outputId": "0d4ff2bb-d364-410a-d423-1e333047d1bd"
      },
      "source": [
        "# Number of jobs in first window\n",
        "len(jobs1)"
      ],
      "execution_count": null,
      "outputs": [
        {
          "output_type": "execute_result",
          "data": {
            "text/plain": [
              "285091"
            ]
          },
          "metadata": {
            "tags": []
          },
          "execution_count": 9
        }
      ]
    },
    {
      "cell_type": "markdown",
      "metadata": {
        "id": "foSBBtKA8Qfm"
      },
      "source": [
        "**Apps**\n",
        "\n",
        "*apps.tsv: Holds the applications users submitted*"
      ]
    },
    {
      "cell_type": "code",
      "metadata": {
        "id": "QDItwkW_8dYQ",
        "colab": {
          "base_uri": "https://localhost:8080/",
          "height": 204
        },
        "outputId": "d75cf8e2-7a5e-4eb1-b5d3-b6fbd342eef0"
      },
      "source": [
        "# File preview\n",
        "apps = pd.read_csv(\"data/apps.tsv\", sep=\"\\t\")\n",
        "apps.head(5)"
      ],
      "execution_count": null,
      "outputs": [
        {
          "output_type": "execute_result",
          "data": {
            "text/html": [
              "<div>\n",
              "<style scoped>\n",
              "    .dataframe tbody tr th:only-of-type {\n",
              "        vertical-align: middle;\n",
              "    }\n",
              "\n",
              "    .dataframe tbody tr th {\n",
              "        vertical-align: top;\n",
              "    }\n",
              "\n",
              "    .dataframe thead th {\n",
              "        text-align: right;\n",
              "    }\n",
              "</style>\n",
              "<table border=\"1\" class=\"dataframe\">\n",
              "  <thead>\n",
              "    <tr style=\"text-align: right;\">\n",
              "      <th></th>\n",
              "      <th>UserID</th>\n",
              "      <th>WindowID</th>\n",
              "      <th>Split</th>\n",
              "      <th>ApplicationDate</th>\n",
              "      <th>JobID</th>\n",
              "    </tr>\n",
              "  </thead>\n",
              "  <tbody>\n",
              "    <tr>\n",
              "      <th>0</th>\n",
              "      <td>47</td>\n",
              "      <td>1</td>\n",
              "      <td>Train</td>\n",
              "      <td>2012-04-04 15:56:23.537</td>\n",
              "      <td>169528</td>\n",
              "    </tr>\n",
              "    <tr>\n",
              "      <th>1</th>\n",
              "      <td>47</td>\n",
              "      <td>1</td>\n",
              "      <td>Train</td>\n",
              "      <td>2012-04-06 01:03:00.003</td>\n",
              "      <td>284009</td>\n",
              "    </tr>\n",
              "    <tr>\n",
              "      <th>2</th>\n",
              "      <td>47</td>\n",
              "      <td>1</td>\n",
              "      <td>Train</td>\n",
              "      <td>2012-04-05 02:40:27.753</td>\n",
              "      <td>2121</td>\n",
              "    </tr>\n",
              "    <tr>\n",
              "      <th>3</th>\n",
              "      <td>47</td>\n",
              "      <td>1</td>\n",
              "      <td>Train</td>\n",
              "      <td>2012-04-05 02:37:02.673</td>\n",
              "      <td>848187</td>\n",
              "    </tr>\n",
              "    <tr>\n",
              "      <th>4</th>\n",
              "      <td>47</td>\n",
              "      <td>1</td>\n",
              "      <td>Train</td>\n",
              "      <td>2012-04-05 22:44:06.653</td>\n",
              "      <td>733748</td>\n",
              "    </tr>\n",
              "  </tbody>\n",
              "</table>\n",
              "</div>"
            ],
            "text/plain": [
              "   UserID  WindowID  Split          ApplicationDate   JobID\n",
              "0      47         1  Train  2012-04-04 15:56:23.537  169528\n",
              "1      47         1  Train  2012-04-06 01:03:00.003  284009\n",
              "2      47         1  Train  2012-04-05 02:40:27.753    2121\n",
              "3      47         1  Train  2012-04-05 02:37:02.673  848187\n",
              "4      47         1  Train  2012-04-05 22:44:06.653  733748"
            ]
          },
          "metadata": {
            "tags": []
          },
          "execution_count": 10
        }
      ]
    },
    {
      "cell_type": "code",
      "metadata": {
        "id": "v8-LmoJ-8ltS",
        "colab": {
          "base_uri": "https://localhost:8080/",
          "height": 297
        },
        "outputId": "41efde71-4e0a-46cf-b274-91a3bfaa3a9d"
      },
      "source": [
        "# Distribution of the number of applications submitted per user\n",
        "apps[\"UserID\"].value_counts().describe().to_frame().rename(columns={\"UserID\": \"App Submissions\"})"
      ],
      "execution_count": null,
      "outputs": [
        {
          "output_type": "execute_result",
          "data": {
            "text/html": [
              "<div>\n",
              "<style scoped>\n",
              "    .dataframe tbody tr th:only-of-type {\n",
              "        vertical-align: middle;\n",
              "    }\n",
              "\n",
              "    .dataframe tbody tr th {\n",
              "        vertical-align: top;\n",
              "    }\n",
              "\n",
              "    .dataframe thead th {\n",
              "        text-align: right;\n",
              "    }\n",
              "</style>\n",
              "<table border=\"1\" class=\"dataframe\">\n",
              "  <thead>\n",
              "    <tr style=\"text-align: right;\">\n",
              "      <th></th>\n",
              "      <th>App Submissions</th>\n",
              "    </tr>\n",
              "  </thead>\n",
              "  <tbody>\n",
              "    <tr>\n",
              "      <th>count</th>\n",
              "      <td>321235.000000</td>\n",
              "    </tr>\n",
              "    <tr>\n",
              "      <th>mean</th>\n",
              "      <td>4.990462</td>\n",
              "    </tr>\n",
              "    <tr>\n",
              "      <th>std</th>\n",
              "      <td>11.418487</td>\n",
              "    </tr>\n",
              "    <tr>\n",
              "      <th>min</th>\n",
              "      <td>1.000000</td>\n",
              "    </tr>\n",
              "    <tr>\n",
              "      <th>25%</th>\n",
              "      <td>1.000000</td>\n",
              "    </tr>\n",
              "    <tr>\n",
              "      <th>50%</th>\n",
              "      <td>2.000000</td>\n",
              "    </tr>\n",
              "    <tr>\n",
              "      <th>75%</th>\n",
              "      <td>5.000000</td>\n",
              "    </tr>\n",
              "    <tr>\n",
              "      <th>max</th>\n",
              "      <td>2473.000000</td>\n",
              "    </tr>\n",
              "  </tbody>\n",
              "</table>\n",
              "</div>"
            ],
            "text/plain": [
              "       App Submissions\n",
              "count    321235.000000\n",
              "mean          4.990462\n",
              "std          11.418487\n",
              "min           1.000000\n",
              "25%           1.000000\n",
              "50%           2.000000\n",
              "75%           5.000000\n",
              "max        2473.000000"
            ]
          },
          "metadata": {
            "tags": []
          },
          "execution_count": 11
        }
      ]
    },
    {
      "cell_type": "markdown",
      "metadata": {
        "id": "rdfKduQwAJ8L"
      },
      "source": [
        "**Window Dates**\n",
        "\n",
        "*window_dates.tsv: Holds the application window dates*"
      ]
    },
    {
      "cell_type": "code",
      "metadata": {
        "id": "sN7tdHu8AS_j",
        "colab": {
          "base_uri": "https://localhost:8080/",
          "height": 204
        },
        "outputId": "75156c5b-8a86-42bb-96e3-17e2b40cffd4"
      },
      "source": [
        "# File preview\n",
        "window_dates = pd.read_csv(\"data/window_dates.tsv\", sep=\"\\t\")\n",
        "window_dates.head(5)"
      ],
      "execution_count": null,
      "outputs": [
        {
          "output_type": "execute_result",
          "data": {
            "text/html": [
              "<div>\n",
              "<style scoped>\n",
              "    .dataframe tbody tr th:only-of-type {\n",
              "        vertical-align: middle;\n",
              "    }\n",
              "\n",
              "    .dataframe tbody tr th {\n",
              "        vertical-align: top;\n",
              "    }\n",
              "\n",
              "    .dataframe thead th {\n",
              "        text-align: right;\n",
              "    }\n",
              "</style>\n",
              "<table border=\"1\" class=\"dataframe\">\n",
              "  <thead>\n",
              "    <tr style=\"text-align: right;\">\n",
              "      <th></th>\n",
              "      <th>Window</th>\n",
              "      <th>Train Start</th>\n",
              "      <th>Train End / Test Start</th>\n",
              "      <th>Test End</th>\n",
              "    </tr>\n",
              "  </thead>\n",
              "  <tbody>\n",
              "    <tr>\n",
              "      <th>0</th>\n",
              "      <td>1</td>\n",
              "      <td>2012-04-01 00:00:00</td>\n",
              "      <td>2012-04-10 00:00:00</td>\n",
              "      <td>2012-04-14 00:00:00</td>\n",
              "    </tr>\n",
              "    <tr>\n",
              "      <th>1</th>\n",
              "      <td>2</td>\n",
              "      <td>2012-04-14 00:00:00</td>\n",
              "      <td>2012-04-23 00:00:00</td>\n",
              "      <td>2012-04-27 00:00:00</td>\n",
              "    </tr>\n",
              "    <tr>\n",
              "      <th>2</th>\n",
              "      <td>3</td>\n",
              "      <td>2012-04-27 00:00:00</td>\n",
              "      <td>2012-05-06 00:00:00</td>\n",
              "      <td>2012-05-10 00:00:00</td>\n",
              "    </tr>\n",
              "    <tr>\n",
              "      <th>3</th>\n",
              "      <td>4</td>\n",
              "      <td>2012-05-10 00:00:00</td>\n",
              "      <td>2012-05-19 00:00:00</td>\n",
              "      <td>2012-05-23 00:00:00</td>\n",
              "    </tr>\n",
              "    <tr>\n",
              "      <th>4</th>\n",
              "      <td>5</td>\n",
              "      <td>2012-05-23 00:00:00</td>\n",
              "      <td>2012-06-01 00:00:00</td>\n",
              "      <td>2012-06-05 00:00:00</td>\n",
              "    </tr>\n",
              "  </tbody>\n",
              "</table>\n",
              "</div>"
            ],
            "text/plain": [
              "   Window          Train Start Train End / Test Start             Test End\n",
              "0       1  2012-04-01 00:00:00    2012-04-10 00:00:00  2012-04-14 00:00:00\n",
              "1       2  2012-04-14 00:00:00    2012-04-23 00:00:00  2012-04-27 00:00:00\n",
              "2       3  2012-04-27 00:00:00    2012-05-06 00:00:00  2012-05-10 00:00:00\n",
              "3       4  2012-05-10 00:00:00    2012-05-19 00:00:00  2012-05-23 00:00:00\n",
              "4       5  2012-05-23 00:00:00    2012-06-01 00:00:00  2012-06-05 00:00:00"
            ]
          },
          "metadata": {
            "tags": []
          },
          "execution_count": 12
        }
      ]
    }
  ]
}